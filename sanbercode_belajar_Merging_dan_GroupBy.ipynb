{
 "cells": [
  {
   "cell_type": "markdown",
   "id": "f617eec9",
   "metadata": {},
   "source": [
    "# -- Merging dan GroupBy --\n"
   ]
  },
  {
   "cell_type": "markdown",
   "id": "7ea67ee9",
   "metadata": {},
   "source": [
    "## Data Merging"
   ]
  },
  {
   "cell_type": "markdown",
   "id": "8d86c90d",
   "metadata": {},
   "source": [
    "Pandas menyediakan berbagai tool atau method yang memudahkan kita untuk melakukan penggabungan data dengan berbagai macam logik. method-method tersebut diantaranya seperti join(), merge(), concat(). kali ini kita kan mempelejari beberapa teknik tersebut."
   ]
  },
  {
   "cell_type": "markdown",
   "id": "012263b0",
   "metadata": {},
   "source": [
    "Ada beberapa logika penggabungan data, diantaranya adalah :"
   ]
  },
  {
   "cell_type": "markdown",
   "id": "eae9367a",
   "metadata": {},
   "source": [
    "1. Inner Join\n",
    "2. Full Outer Join\n",
    "3. Left Outer Join\n",
    "4. Right Outer Join\n",
    "5. dll."
   ]
  },
  {
   "cell_type": "markdown",
   "id": "7e5b5a36",
   "metadata": {},
   "source": [
    "#### Penggabungan Baris dan Column dengan Method CONCAT()"
   ]
  },
  {
   "cell_type": "markdown",
   "id": "0555fed5",
   "metadata": {},
   "source": [
    "Concat adalah salah satu metode untuk melakukan penggabungan data berdasarkan sumbu tertentu. langsung saja kita lihat."
   ]
  },
  {
   "cell_type": "code",
   "execution_count": 1,
   "id": "ec094871",
   "metadata": {},
   "outputs": [],
   "source": [
    "import pandas as pd"
   ]
  },
  {
   "cell_type": "code",
   "execution_count": 22,
   "id": "8e600a3e",
   "metadata": {},
   "outputs": [],
   "source": [
    "df1 = pd.DataFrame({\n",
    "    'id_siswa' : ['A001','A002','A003','A004'],\n",
    "    'Kelas' : ['12A','12B','12C','12D'],\n",
    "    'Nilai' : [100,98,96,95],\n",
    "    'Peringkat' : [1,2,3,4]\n",
    "},index = [0,1,2,3])"
   ]
  },
  {
   "cell_type": "code",
   "execution_count": 3,
   "id": "c520cc70",
   "metadata": {},
   "outputs": [],
   "source": [
    "df2 = pd.DataFrame({\n",
    "    'id_siswa' : ['A005','A006','A007','A008'],\n",
    "    'Kelas' : ['12E','12F','12G','12H'],\n",
    "    'Nilai' : [90,88,86,85],\n",
    "    'Peringkat' : [5,6,7,8]\n",
    "}, index=[4,5,6,7])"
   ]
  },
  {
   "cell_type": "code",
   "execution_count": 4,
   "id": "2115ea68",
   "metadata": {},
   "outputs": [],
   "source": [
    "df3 = pd.DataFrame({\n",
    "    'id_siswa' : ['A009','A010','A011','A012'],\n",
    "    'Kelas' : ['12I','12J','12K','12L'],\n",
    "    'Nilai' : [80,75,73,70],\n",
    "    'Peringkat' : [9,10,11,12]\n",
    "}, index=[9,10,11,12])"
   ]
  },
  {
   "cell_type": "markdown",
   "id": "82e81e4d",
   "metadata": {},
   "source": [
    "### Concat ()"
   ]
  },
  {
   "cell_type": "markdown",
   "id": "f2e364e8",
   "metadata": {},
   "source": [
    "apabila kita ingin menggabungkan baris data ini, kita bisa menggunakan suatu method concat()"
   ]
  },
  {
   "cell_type": "markdown",
   "id": "30611308",
   "metadata": {},
   "source": [
    " pertama kita buat terlebih dahulu list dari data yang akan kita gabung, kemudian masukan list tersebut sebagai argument kedalam method concat()"
   ]
  },
  {
   "cell_type": "code",
   "execution_count": 24,
   "id": "ded6227a",
   "metadata": {},
   "outputs": [
    {
     "data": {
      "text/html": [
       "<div>\n",
       "<style scoped>\n",
       "    .dataframe tbody tr th:only-of-type {\n",
       "        vertical-align: middle;\n",
       "    }\n",
       "\n",
       "    .dataframe tbody tr th {\n",
       "        vertical-align: top;\n",
       "    }\n",
       "\n",
       "    .dataframe thead th {\n",
       "        text-align: right;\n",
       "    }\n",
       "</style>\n",
       "<table border=\"1\" class=\"dataframe\">\n",
       "  <thead>\n",
       "    <tr style=\"text-align: right;\">\n",
       "      <th></th>\n",
       "      <th>id_siswa</th>\n",
       "      <th>Kelas</th>\n",
       "      <th>Nilai</th>\n",
       "      <th>Peringkat</th>\n",
       "    </tr>\n",
       "  </thead>\n",
       "  <tbody>\n",
       "    <tr>\n",
       "      <th>0</th>\n",
       "      <td>A001</td>\n",
       "      <td>12A</td>\n",
       "      <td>100</td>\n",
       "      <td>1</td>\n",
       "    </tr>\n",
       "    <tr>\n",
       "      <th>1</th>\n",
       "      <td>A002</td>\n",
       "      <td>12B</td>\n",
       "      <td>98</td>\n",
       "      <td>2</td>\n",
       "    </tr>\n",
       "    <tr>\n",
       "      <th>2</th>\n",
       "      <td>A003</td>\n",
       "      <td>12C</td>\n",
       "      <td>96</td>\n",
       "      <td>3</td>\n",
       "    </tr>\n",
       "    <tr>\n",
       "      <th>3</th>\n",
       "      <td>A004</td>\n",
       "      <td>12D</td>\n",
       "      <td>95</td>\n",
       "      <td>4</td>\n",
       "    </tr>\n",
       "    <tr>\n",
       "      <th>New</th>\n",
       "      <td>11</td>\n",
       "      <td>22</td>\n",
       "      <td>33</td>\n",
       "      <td>44</td>\n",
       "    </tr>\n",
       "  </tbody>\n",
       "</table>\n",
       "</div>"
      ],
      "text/plain": [
       "    id_siswa Kelas  Nilai  Peringkat\n",
       "0       A001   12A    100          1\n",
       "1       A002   12B     98          2\n",
       "2       A003   12C     96          3\n",
       "3       A004   12D     95          4\n",
       "New       11    22     33         44"
      ]
     },
     "execution_count": 24,
     "metadata": {},
     "output_type": "execute_result"
    }
   ],
   "source": [
    "# list data yang akan di gabung\n",
    "\n",
    "list_dataframe = [df1,df2,df3]\n",
    "\n",
    "# df1.loc[\"New\"] =[1,2,3,43]\n",
    "df1.loc[\"New\"] = [11,22,33,44]\n",
    "# df1.insert(loc=len(df1.columns),column=\"New\",value=[1,2,3,4])\n",
    "df1"
   ]
  },
  {
   "cell_type": "code",
   "execution_count": 11,
   "id": "2dac2fa3",
   "metadata": {},
   "outputs": [
    {
     "data": {
      "text/html": [
       "<div>\n",
       "<style scoped>\n",
       "    .dataframe tbody tr th:only-of-type {\n",
       "        vertical-align: middle;\n",
       "    }\n",
       "\n",
       "    .dataframe tbody tr th {\n",
       "        vertical-align: top;\n",
       "    }\n",
       "\n",
       "    .dataframe thead th {\n",
       "        text-align: right;\n",
       "    }\n",
       "</style>\n",
       "<table border=\"1\" class=\"dataframe\">\n",
       "  <thead>\n",
       "    <tr style=\"text-align: right;\">\n",
       "      <th></th>\n",
       "      <th>id_siswa</th>\n",
       "      <th>Kelas</th>\n",
       "      <th>Nilai</th>\n",
       "      <th>Peringkat</th>\n",
       "    </tr>\n",
       "  </thead>\n",
       "  <tbody>\n",
       "    <tr>\n",
       "      <th>0</th>\n",
       "      <td>A001</td>\n",
       "      <td>12A</td>\n",
       "      <td>100</td>\n",
       "      <td>1</td>\n",
       "    </tr>\n",
       "    <tr>\n",
       "      <th>1</th>\n",
       "      <td>A002</td>\n",
       "      <td>12B</td>\n",
       "      <td>98</td>\n",
       "      <td>2</td>\n",
       "    </tr>\n",
       "    <tr>\n",
       "      <th>2</th>\n",
       "      <td>A003</td>\n",
       "      <td>12C</td>\n",
       "      <td>96</td>\n",
       "      <td>3</td>\n",
       "    </tr>\n",
       "    <tr>\n",
       "      <th>3</th>\n",
       "      <td>A004</td>\n",
       "      <td>12D</td>\n",
       "      <td>95</td>\n",
       "      <td>4</td>\n",
       "    </tr>\n",
       "    <tr>\n",
       "      <th>4</th>\n",
       "      <td>A005</td>\n",
       "      <td>12E</td>\n",
       "      <td>90</td>\n",
       "      <td>5</td>\n",
       "    </tr>\n",
       "    <tr>\n",
       "      <th>5</th>\n",
       "      <td>A006</td>\n",
       "      <td>12F</td>\n",
       "      <td>88</td>\n",
       "      <td>6</td>\n",
       "    </tr>\n",
       "    <tr>\n",
       "      <th>6</th>\n",
       "      <td>A007</td>\n",
       "      <td>12G</td>\n",
       "      <td>86</td>\n",
       "      <td>7</td>\n",
       "    </tr>\n",
       "    <tr>\n",
       "      <th>7</th>\n",
       "      <td>A008</td>\n",
       "      <td>12H</td>\n",
       "      <td>85</td>\n",
       "      <td>8</td>\n",
       "    </tr>\n",
       "    <tr>\n",
       "      <th>9</th>\n",
       "      <td>A009</td>\n",
       "      <td>12I</td>\n",
       "      <td>80</td>\n",
       "      <td>9</td>\n",
       "    </tr>\n",
       "    <tr>\n",
       "      <th>10</th>\n",
       "      <td>A010</td>\n",
       "      <td>12J</td>\n",
       "      <td>75</td>\n",
       "      <td>10</td>\n",
       "    </tr>\n",
       "    <tr>\n",
       "      <th>11</th>\n",
       "      <td>A011</td>\n",
       "      <td>12K</td>\n",
       "      <td>73</td>\n",
       "      <td>11</td>\n",
       "    </tr>\n",
       "    <tr>\n",
       "      <th>12</th>\n",
       "      <td>A012</td>\n",
       "      <td>12L</td>\n",
       "      <td>70</td>\n",
       "      <td>12</td>\n",
       "    </tr>\n",
       "  </tbody>\n",
       "</table>\n",
       "</div>"
      ],
      "text/plain": [
       "   id_siswa Kelas  Nilai  Peringkat\n",
       "0      A001   12A    100          1\n",
       "1      A002   12B     98          2\n",
       "2      A003   12C     96          3\n",
       "3      A004   12D     95          4\n",
       "4      A005   12E     90          5\n",
       "5      A006   12F     88          6\n",
       "6      A007   12G     86          7\n",
       "7      A008   12H     85          8\n",
       "9      A009   12I     80          9\n",
       "10     A010   12J     75         10\n",
       "11     A011   12K     73         11\n",
       "12     A012   12L     70         12"
      ]
     },
     "execution_count": 11,
     "metadata": {},
     "output_type": "execute_result"
    }
   ],
   "source": [
    "# gabungkan data dengan metode concat dari pandas\n",
    "\n",
    "pd.concat(list_dataframe)"
   ]
  },
  {
   "cell_type": "markdown",
   "id": "89cffe13",
   "metadata": {},
   "source": [
    "   "
   ]
  },
  {
   "cell_type": "markdown",
   "id": "b79f156e",
   "metadata": {},
   "source": [
    "Apabila kita ingin menggabungkan data tersebut berdasarkan column, kita mesti memberikan satu argument lagi kedalam method concat yaitu axis, dengan nilai 1. seperti ini"
   ]
  },
  {
   "cell_type": "code",
   "execution_count": 13,
   "id": "cca1e994",
   "metadata": {},
   "outputs": [
    {
     "data": {
      "text/html": [
       "<div>\n",
       "<style scoped>\n",
       "    .dataframe tbody tr th:only-of-type {\n",
       "        vertical-align: middle;\n",
       "    }\n",
       "\n",
       "    .dataframe tbody tr th {\n",
       "        vertical-align: top;\n",
       "    }\n",
       "\n",
       "    .dataframe thead th {\n",
       "        text-align: right;\n",
       "    }\n",
       "</style>\n",
       "<table border=\"1\" class=\"dataframe\">\n",
       "  <thead>\n",
       "    <tr style=\"text-align: right;\">\n",
       "      <th></th>\n",
       "      <th>id_siswa</th>\n",
       "      <th>Kelas</th>\n",
       "      <th>Nilai</th>\n",
       "      <th>Peringkat</th>\n",
       "      <th>id_siswa</th>\n",
       "      <th>Kelas</th>\n",
       "      <th>Nilai</th>\n",
       "      <th>Peringkat</th>\n",
       "      <th>id_siswa</th>\n",
       "      <th>Kelas</th>\n",
       "      <th>Nilai</th>\n",
       "      <th>Peringkat</th>\n",
       "    </tr>\n",
       "  </thead>\n",
       "  <tbody>\n",
       "    <tr>\n",
       "      <th>0</th>\n",
       "      <td>A001</td>\n",
       "      <td>12A</td>\n",
       "      <td>100.0</td>\n",
       "      <td>1.0</td>\n",
       "      <td>NaN</td>\n",
       "      <td>NaN</td>\n",
       "      <td>NaN</td>\n",
       "      <td>NaN</td>\n",
       "      <td>NaN</td>\n",
       "      <td>NaN</td>\n",
       "      <td>NaN</td>\n",
       "      <td>NaN</td>\n",
       "    </tr>\n",
       "    <tr>\n",
       "      <th>1</th>\n",
       "      <td>A002</td>\n",
       "      <td>12B</td>\n",
       "      <td>98.0</td>\n",
       "      <td>2.0</td>\n",
       "      <td>NaN</td>\n",
       "      <td>NaN</td>\n",
       "      <td>NaN</td>\n",
       "      <td>NaN</td>\n",
       "      <td>NaN</td>\n",
       "      <td>NaN</td>\n",
       "      <td>NaN</td>\n",
       "      <td>NaN</td>\n",
       "    </tr>\n",
       "    <tr>\n",
       "      <th>2</th>\n",
       "      <td>A003</td>\n",
       "      <td>12C</td>\n",
       "      <td>96.0</td>\n",
       "      <td>3.0</td>\n",
       "      <td>NaN</td>\n",
       "      <td>NaN</td>\n",
       "      <td>NaN</td>\n",
       "      <td>NaN</td>\n",
       "      <td>NaN</td>\n",
       "      <td>NaN</td>\n",
       "      <td>NaN</td>\n",
       "      <td>NaN</td>\n",
       "    </tr>\n",
       "    <tr>\n",
       "      <th>3</th>\n",
       "      <td>A004</td>\n",
       "      <td>12D</td>\n",
       "      <td>95.0</td>\n",
       "      <td>4.0</td>\n",
       "      <td>NaN</td>\n",
       "      <td>NaN</td>\n",
       "      <td>NaN</td>\n",
       "      <td>NaN</td>\n",
       "      <td>NaN</td>\n",
       "      <td>NaN</td>\n",
       "      <td>NaN</td>\n",
       "      <td>NaN</td>\n",
       "    </tr>\n",
       "    <tr>\n",
       "      <th>4</th>\n",
       "      <td>NaN</td>\n",
       "      <td>NaN</td>\n",
       "      <td>NaN</td>\n",
       "      <td>NaN</td>\n",
       "      <td>A005</td>\n",
       "      <td>12E</td>\n",
       "      <td>90.0</td>\n",
       "      <td>5.0</td>\n",
       "      <td>NaN</td>\n",
       "      <td>NaN</td>\n",
       "      <td>NaN</td>\n",
       "      <td>NaN</td>\n",
       "    </tr>\n",
       "    <tr>\n",
       "      <th>5</th>\n",
       "      <td>NaN</td>\n",
       "      <td>NaN</td>\n",
       "      <td>NaN</td>\n",
       "      <td>NaN</td>\n",
       "      <td>A006</td>\n",
       "      <td>12F</td>\n",
       "      <td>88.0</td>\n",
       "      <td>6.0</td>\n",
       "      <td>NaN</td>\n",
       "      <td>NaN</td>\n",
       "      <td>NaN</td>\n",
       "      <td>NaN</td>\n",
       "    </tr>\n",
       "    <tr>\n",
       "      <th>6</th>\n",
       "      <td>NaN</td>\n",
       "      <td>NaN</td>\n",
       "      <td>NaN</td>\n",
       "      <td>NaN</td>\n",
       "      <td>A007</td>\n",
       "      <td>12G</td>\n",
       "      <td>86.0</td>\n",
       "      <td>7.0</td>\n",
       "      <td>NaN</td>\n",
       "      <td>NaN</td>\n",
       "      <td>NaN</td>\n",
       "      <td>NaN</td>\n",
       "    </tr>\n",
       "    <tr>\n",
       "      <th>7</th>\n",
       "      <td>NaN</td>\n",
       "      <td>NaN</td>\n",
       "      <td>NaN</td>\n",
       "      <td>NaN</td>\n",
       "      <td>A008</td>\n",
       "      <td>12H</td>\n",
       "      <td>85.0</td>\n",
       "      <td>8.0</td>\n",
       "      <td>NaN</td>\n",
       "      <td>NaN</td>\n",
       "      <td>NaN</td>\n",
       "      <td>NaN</td>\n",
       "    </tr>\n",
       "    <tr>\n",
       "      <th>9</th>\n",
       "      <td>NaN</td>\n",
       "      <td>NaN</td>\n",
       "      <td>NaN</td>\n",
       "      <td>NaN</td>\n",
       "      <td>NaN</td>\n",
       "      <td>NaN</td>\n",
       "      <td>NaN</td>\n",
       "      <td>NaN</td>\n",
       "      <td>A009</td>\n",
       "      <td>12I</td>\n",
       "      <td>80.0</td>\n",
       "      <td>9.0</td>\n",
       "    </tr>\n",
       "    <tr>\n",
       "      <th>10</th>\n",
       "      <td>NaN</td>\n",
       "      <td>NaN</td>\n",
       "      <td>NaN</td>\n",
       "      <td>NaN</td>\n",
       "      <td>NaN</td>\n",
       "      <td>NaN</td>\n",
       "      <td>NaN</td>\n",
       "      <td>NaN</td>\n",
       "      <td>A010</td>\n",
       "      <td>12J</td>\n",
       "      <td>75.0</td>\n",
       "      <td>10.0</td>\n",
       "    </tr>\n",
       "    <tr>\n",
       "      <th>11</th>\n",
       "      <td>NaN</td>\n",
       "      <td>NaN</td>\n",
       "      <td>NaN</td>\n",
       "      <td>NaN</td>\n",
       "      <td>NaN</td>\n",
       "      <td>NaN</td>\n",
       "      <td>NaN</td>\n",
       "      <td>NaN</td>\n",
       "      <td>A011</td>\n",
       "      <td>12K</td>\n",
       "      <td>73.0</td>\n",
       "      <td>11.0</td>\n",
       "    </tr>\n",
       "    <tr>\n",
       "      <th>12</th>\n",
       "      <td>NaN</td>\n",
       "      <td>NaN</td>\n",
       "      <td>NaN</td>\n",
       "      <td>NaN</td>\n",
       "      <td>NaN</td>\n",
       "      <td>NaN</td>\n",
       "      <td>NaN</td>\n",
       "      <td>NaN</td>\n",
       "      <td>A012</td>\n",
       "      <td>12L</td>\n",
       "      <td>70.0</td>\n",
       "      <td>12.0</td>\n",
       "    </tr>\n",
       "  </tbody>\n",
       "</table>\n",
       "</div>"
      ],
      "text/plain": [
       "   id_siswa Kelas  Nilai  Peringkat id_siswa Kelas  Nilai  Peringkat id_siswa  \\\n",
       "0      A001   12A  100.0        1.0      NaN   NaN    NaN        NaN      NaN   \n",
       "1      A002   12B   98.0        2.0      NaN   NaN    NaN        NaN      NaN   \n",
       "2      A003   12C   96.0        3.0      NaN   NaN    NaN        NaN      NaN   \n",
       "3      A004   12D   95.0        4.0      NaN   NaN    NaN        NaN      NaN   \n",
       "4       NaN   NaN    NaN        NaN     A005   12E   90.0        5.0      NaN   \n",
       "5       NaN   NaN    NaN        NaN     A006   12F   88.0        6.0      NaN   \n",
       "6       NaN   NaN    NaN        NaN     A007   12G   86.0        7.0      NaN   \n",
       "7       NaN   NaN    NaN        NaN     A008   12H   85.0        8.0      NaN   \n",
       "9       NaN   NaN    NaN        NaN      NaN   NaN    NaN        NaN     A009   \n",
       "10      NaN   NaN    NaN        NaN      NaN   NaN    NaN        NaN     A010   \n",
       "11      NaN   NaN    NaN        NaN      NaN   NaN    NaN        NaN     A011   \n",
       "12      NaN   NaN    NaN        NaN      NaN   NaN    NaN        NaN     A012   \n",
       "\n",
       "   Kelas  Nilai  Peringkat  \n",
       "0    NaN    NaN        NaN  \n",
       "1    NaN    NaN        NaN  \n",
       "2    NaN    NaN        NaN  \n",
       "3    NaN    NaN        NaN  \n",
       "4    NaN    NaN        NaN  \n",
       "5    NaN    NaN        NaN  \n",
       "6    NaN    NaN        NaN  \n",
       "7    NaN    NaN        NaN  \n",
       "9    12I   80.0        9.0  \n",
       "10   12J   75.0       10.0  \n",
       "11   12K   73.0       11.0  \n",
       "12   12L   70.0       12.0  "
      ]
     },
     "execution_count": 13,
     "metadata": {},
     "output_type": "execute_result"
    }
   ],
   "source": [
    "pd.concat(list_dataframe,axis=1)"
   ]
  },
  {
   "cell_type": "markdown",
   "id": "a3e578e8",
   "metadata": {},
   "source": [
    "     "
   ]
  },
  {
   "cell_type": "markdown",
   "id": "85bf2485",
   "metadata": {},
   "source": [
    "# Logika-Logika Penggabungan Dengan Metode merge"
   ]
  },
  {
   "cell_type": "markdown",
   "id": "501d6006",
   "metadata": {},
   "source": [
    "## Full Outer Join"
   ]
  },
  {
   "cell_type": "markdown",
   "id": "bdffceb0",
   "metadata": {},
   "source": [
    "1. Full Outer Join menghasilkan gabungan index bari dari setiap data yang di gabung.\n",
    "2. Full Outer Join menggabungan pula column yang berbeda\n",
    "3. Memberikan nilai null untuk nilai column yang tidak di miliki oleh suatu index tertentu."
   ]
  },
  {
   "cell_type": "code",
   "execution_count": 24,
   "id": "4bbccecb",
   "metadata": {},
   "outputs": [],
   "source": [
    "dff = pd.DataFrame({\n",
    "    'id_siswa' : ['A001','A002','A003','A004'],\n",
    "    'Kelas' : ['12A','12B','12C','12D'],\n",
    "    'Tinggi siswa (cm)' : [155,160,170,165]\n",
    "}, index=[0,1,2,3])"
   ]
  },
  {
   "cell_type": "code",
   "execution_count": 30,
   "id": "ac27df02",
   "metadata": {},
   "outputs": [],
   "source": [
    "dfff = pd.DataFrame({\n",
    "    'id_siswa' : ['A001','A002','A003','A005'],\n",
    "    'Nilai' : [100,98,96,95],\n",
    "    'Peringkat' : [1,2,3,4]\n",
    "},index=[4,5,6,7])"
   ]
  },
  {
   "cell_type": "code",
   "execution_count": 31,
   "id": "73a1797c",
   "metadata": {},
   "outputs": [
    {
     "name": "stdout",
     "output_type": "stream",
     "text": [
      "data pertama\n",
      "================\n",
      "  id_siswa Kelas  Tinggi siswa (cm)\n",
      "0     A001   12A                155\n",
      "1     A002   12B                160\n",
      "2     A003   12C                170\n",
      "3     A004   12D                165\n",
      "\n",
      "=============================\n",
      "\n",
      "data kedua\n",
      "================\n",
      "  id_siswa  Nilai  Peringkat\n",
      "4     A001    100          1\n",
      "5     A002     98          2\n",
      "6     A003     96          3\n",
      "7     A005     95          4\n"
     ]
    }
   ],
   "source": [
    "print('data pertama')\n",
    "print(\"================\")\n",
    "print(dff)\n",
    "print(\"\")\n",
    "print(\"=============================\")\n",
    "print(\"\")\n",
    "print(\"data kedua\")\n",
    "print(\"================\")\n",
    "print(dfff)"
   ]
  },
  {
   "cell_type": "markdown",
   "id": "f9c1f4de",
   "metadata": {},
   "source": [
    "##### menggabungkan data ini dengan menggunakan method merge()"
   ]
  },
  {
   "cell_type": "markdown",
   "id": "391f04fc",
   "metadata": {},
   "source": [
    "1. Untuk melakukan penggabungan dengan menggunakan column key sebagai referensi penggabungan, maka kita akan memberikan argument on dengan nilai 'id_siswa'\n",
    "2. Untuk melakukan penggabungan outer join kita akan memberikan argument how dengan nilai 'outer'"
   ]
  },
  {
   "cell_type": "code",
   "execution_count": 21,
   "id": "9bcad8ca",
   "metadata": {},
   "outputs": [],
   "source": [
    "# gabungkan data dengan logika outer join"
   ]
  },
  {
   "cell_type": "code",
   "execution_count": 32,
   "id": "cf721156",
   "metadata": {},
   "outputs": [
    {
     "data": {
      "text/html": [
       "<div>\n",
       "<style scoped>\n",
       "    .dataframe tbody tr th:only-of-type {\n",
       "        vertical-align: middle;\n",
       "    }\n",
       "\n",
       "    .dataframe tbody tr th {\n",
       "        vertical-align: top;\n",
       "    }\n",
       "\n",
       "    .dataframe thead th {\n",
       "        text-align: right;\n",
       "    }\n",
       "</style>\n",
       "<table border=\"1\" class=\"dataframe\">\n",
       "  <thead>\n",
       "    <tr style=\"text-align: right;\">\n",
       "      <th></th>\n",
       "      <th>id_siswa</th>\n",
       "      <th>Kelas</th>\n",
       "      <th>Tinggi siswa (cm)</th>\n",
       "      <th>Nilai</th>\n",
       "      <th>Peringkat</th>\n",
       "    </tr>\n",
       "  </thead>\n",
       "  <tbody>\n",
       "    <tr>\n",
       "      <th>0</th>\n",
       "      <td>A001</td>\n",
       "      <td>12A</td>\n",
       "      <td>155.0</td>\n",
       "      <td>100.0</td>\n",
       "      <td>1.0</td>\n",
       "    </tr>\n",
       "    <tr>\n",
       "      <th>1</th>\n",
       "      <td>A002</td>\n",
       "      <td>12B</td>\n",
       "      <td>160.0</td>\n",
       "      <td>98.0</td>\n",
       "      <td>2.0</td>\n",
       "    </tr>\n",
       "    <tr>\n",
       "      <th>2</th>\n",
       "      <td>A003</td>\n",
       "      <td>12C</td>\n",
       "      <td>170.0</td>\n",
       "      <td>96.0</td>\n",
       "      <td>3.0</td>\n",
       "    </tr>\n",
       "    <tr>\n",
       "      <th>3</th>\n",
       "      <td>A004</td>\n",
       "      <td>12D</td>\n",
       "      <td>165.0</td>\n",
       "      <td>NaN</td>\n",
       "      <td>NaN</td>\n",
       "    </tr>\n",
       "    <tr>\n",
       "      <th>4</th>\n",
       "      <td>A005</td>\n",
       "      <td>NaN</td>\n",
       "      <td>NaN</td>\n",
       "      <td>95.0</td>\n",
       "      <td>4.0</td>\n",
       "    </tr>\n",
       "  </tbody>\n",
       "</table>\n",
       "</div>"
      ],
      "text/plain": [
       "  id_siswa Kelas  Tinggi siswa (cm)  Nilai  Peringkat\n",
       "0     A001   12A              155.0  100.0        1.0\n",
       "1     A002   12B              160.0   98.0        2.0\n",
       "2     A003   12C              170.0   96.0        3.0\n",
       "3     A004   12D              165.0    NaN        NaN\n",
       "4     A005   NaN                NaN   95.0        4.0"
      ]
     },
     "execution_count": 32,
     "metadata": {},
     "output_type": "execute_result"
    }
   ],
   "source": [
    "pd.merge(dff,dfff, on=\"id_siswa\", how='outer')"
   ]
  },
  {
   "cell_type": "markdown",
   "id": "7a76c576",
   "metadata": {},
   "source": [
    "## Inner Join "
   ]
  },
  {
   "cell_type": "markdown",
   "id": "d996164e",
   "metadata": {},
   "source": [
    "Untuk melakukan inner join dengan metode merge(), kurang lebih sama seperti yang di lakukan pada outer join, kita hanya perlu mengubah argument argument how menjadi inner."
   ]
  },
  {
   "cell_type": "code",
   "execution_count": 33,
   "id": "8044ac7f",
   "metadata": {},
   "outputs": [
    {
     "data": {
      "text/html": [
       "<div>\n",
       "<style scoped>\n",
       "    .dataframe tbody tr th:only-of-type {\n",
       "        vertical-align: middle;\n",
       "    }\n",
       "\n",
       "    .dataframe tbody tr th {\n",
       "        vertical-align: top;\n",
       "    }\n",
       "\n",
       "    .dataframe thead th {\n",
       "        text-align: right;\n",
       "    }\n",
       "</style>\n",
       "<table border=\"1\" class=\"dataframe\">\n",
       "  <thead>\n",
       "    <tr style=\"text-align: right;\">\n",
       "      <th></th>\n",
       "      <th>id_siswa</th>\n",
       "      <th>Kelas</th>\n",
       "      <th>Tinggi siswa (cm)</th>\n",
       "      <th>Nilai</th>\n",
       "      <th>Peringkat</th>\n",
       "    </tr>\n",
       "  </thead>\n",
       "  <tbody>\n",
       "    <tr>\n",
       "      <th>0</th>\n",
       "      <td>A001</td>\n",
       "      <td>12A</td>\n",
       "      <td>155</td>\n",
       "      <td>100</td>\n",
       "      <td>1</td>\n",
       "    </tr>\n",
       "    <tr>\n",
       "      <th>1</th>\n",
       "      <td>A002</td>\n",
       "      <td>12B</td>\n",
       "      <td>160</td>\n",
       "      <td>98</td>\n",
       "      <td>2</td>\n",
       "    </tr>\n",
       "    <tr>\n",
       "      <th>2</th>\n",
       "      <td>A003</td>\n",
       "      <td>12C</td>\n",
       "      <td>170</td>\n",
       "      <td>96</td>\n",
       "      <td>3</td>\n",
       "    </tr>\n",
       "  </tbody>\n",
       "</table>\n",
       "</div>"
      ],
      "text/plain": [
       "  id_siswa Kelas  Tinggi siswa (cm)  Nilai  Peringkat\n",
       "0     A001   12A                155    100          1\n",
       "1     A002   12B                160     98          2\n",
       "2     A003   12C                170     96          3"
      ]
     },
     "execution_count": 33,
     "metadata": {},
     "output_type": "execute_result"
    }
   ],
   "source": [
    "pd.merge(dff,dfff, on='id_siswa',how='inner')"
   ]
  },
  {
   "cell_type": "markdown",
   "id": "41525b2b",
   "metadata": {},
   "source": [
    "## Left Join"
   ]
  },
  {
   "cell_type": "markdown",
   "id": "94faf60c",
   "metadata": {},
   "source": [
    "Left Outer Join menghasilkan seluruh data dari data yang kiri ditambah data kanan yang memiliki nilai key yang sama dengan data dari kiri."
   ]
  },
  {
   "cell_type": "markdown",
   "id": "e9009be2",
   "metadata": {},
   "source": [
    "melakukan left outer join dengan data yang sama pada outer join, untuk melakukan left outer join kita hanya perlu memberikan nilai 'left' kepada argument how."
   ]
  },
  {
   "cell_type": "code",
   "execution_count": 34,
   "id": "4d6ea948",
   "metadata": {},
   "outputs": [
    {
     "data": {
      "text/html": [
       "<div>\n",
       "<style scoped>\n",
       "    .dataframe tbody tr th:only-of-type {\n",
       "        vertical-align: middle;\n",
       "    }\n",
       "\n",
       "    .dataframe tbody tr th {\n",
       "        vertical-align: top;\n",
       "    }\n",
       "\n",
       "    .dataframe thead th {\n",
       "        text-align: right;\n",
       "    }\n",
       "</style>\n",
       "<table border=\"1\" class=\"dataframe\">\n",
       "  <thead>\n",
       "    <tr style=\"text-align: right;\">\n",
       "      <th></th>\n",
       "      <th>id_siswa</th>\n",
       "      <th>Kelas</th>\n",
       "      <th>Tinggi siswa (cm)</th>\n",
       "      <th>Nilai</th>\n",
       "      <th>Peringkat</th>\n",
       "    </tr>\n",
       "  </thead>\n",
       "  <tbody>\n",
       "    <tr>\n",
       "      <th>0</th>\n",
       "      <td>A001</td>\n",
       "      <td>12A</td>\n",
       "      <td>155</td>\n",
       "      <td>100.0</td>\n",
       "      <td>1.0</td>\n",
       "    </tr>\n",
       "    <tr>\n",
       "      <th>1</th>\n",
       "      <td>A002</td>\n",
       "      <td>12B</td>\n",
       "      <td>160</td>\n",
       "      <td>98.0</td>\n",
       "      <td>2.0</td>\n",
       "    </tr>\n",
       "    <tr>\n",
       "      <th>2</th>\n",
       "      <td>A003</td>\n",
       "      <td>12C</td>\n",
       "      <td>170</td>\n",
       "      <td>96.0</td>\n",
       "      <td>3.0</td>\n",
       "    </tr>\n",
       "    <tr>\n",
       "      <th>3</th>\n",
       "      <td>A004</td>\n",
       "      <td>12D</td>\n",
       "      <td>165</td>\n",
       "      <td>NaN</td>\n",
       "      <td>NaN</td>\n",
       "    </tr>\n",
       "  </tbody>\n",
       "</table>\n",
       "</div>"
      ],
      "text/plain": [
       "  id_siswa Kelas  Tinggi siswa (cm)  Nilai  Peringkat\n",
       "0     A001   12A                155  100.0        1.0\n",
       "1     A002   12B                160   98.0        2.0\n",
       "2     A003   12C                170   96.0        3.0\n",
       "3     A004   12D                165    NaN        NaN"
      ]
     },
     "execution_count": 34,
     "metadata": {},
     "output_type": "execute_result"
    }
   ],
   "source": [
    "pd.merge(dff,dfff, on = 'id_siswa', how='left')"
   ]
  },
  {
   "cell_type": "markdown",
   "id": "9bd4e2b6",
   "metadata": {},
   "source": [
    "## Right Join "
   ]
  },
  {
   "cell_type": "markdown",
   "id": "d8bf8a84",
   "metadata": {},
   "source": [
    "melakukan operasi penggabungan right outer join dengan metode merge, kita hanya perlu memberikan nilai 'right' pada argument how."
   ]
  },
  {
   "cell_type": "code",
   "execution_count": 35,
   "id": "1d60d7ae",
   "metadata": {},
   "outputs": [
    {
     "data": {
      "text/html": [
       "<div>\n",
       "<style scoped>\n",
       "    .dataframe tbody tr th:only-of-type {\n",
       "        vertical-align: middle;\n",
       "    }\n",
       "\n",
       "    .dataframe tbody tr th {\n",
       "        vertical-align: top;\n",
       "    }\n",
       "\n",
       "    .dataframe thead th {\n",
       "        text-align: right;\n",
       "    }\n",
       "</style>\n",
       "<table border=\"1\" class=\"dataframe\">\n",
       "  <thead>\n",
       "    <tr style=\"text-align: right;\">\n",
       "      <th></th>\n",
       "      <th>id_siswa</th>\n",
       "      <th>Kelas</th>\n",
       "      <th>Tinggi siswa (cm)</th>\n",
       "      <th>Nilai</th>\n",
       "      <th>Peringkat</th>\n",
       "    </tr>\n",
       "  </thead>\n",
       "  <tbody>\n",
       "    <tr>\n",
       "      <th>0</th>\n",
       "      <td>A001</td>\n",
       "      <td>12A</td>\n",
       "      <td>155.0</td>\n",
       "      <td>100</td>\n",
       "      <td>1</td>\n",
       "    </tr>\n",
       "    <tr>\n",
       "      <th>1</th>\n",
       "      <td>A002</td>\n",
       "      <td>12B</td>\n",
       "      <td>160.0</td>\n",
       "      <td>98</td>\n",
       "      <td>2</td>\n",
       "    </tr>\n",
       "    <tr>\n",
       "      <th>2</th>\n",
       "      <td>A003</td>\n",
       "      <td>12C</td>\n",
       "      <td>170.0</td>\n",
       "      <td>96</td>\n",
       "      <td>3</td>\n",
       "    </tr>\n",
       "    <tr>\n",
       "      <th>3</th>\n",
       "      <td>A005</td>\n",
       "      <td>NaN</td>\n",
       "      <td>NaN</td>\n",
       "      <td>95</td>\n",
       "      <td>4</td>\n",
       "    </tr>\n",
       "  </tbody>\n",
       "</table>\n",
       "</div>"
      ],
      "text/plain": [
       "  id_siswa Kelas  Tinggi siswa (cm)  Nilai  Peringkat\n",
       "0     A001   12A              155.0    100          1\n",
       "1     A002   12B              160.0     98          2\n",
       "2     A003   12C              170.0     96          3\n",
       "3     A005   NaN                NaN     95          4"
      ]
     },
     "execution_count": 35,
     "metadata": {},
     "output_type": "execute_result"
    }
   ],
   "source": [
    "pd.merge(dff,dfff, on=\"id_siswa\", how='right')"
   ]
  },
  {
   "cell_type": "markdown",
   "id": "2619af03",
   "metadata": {},
   "source": [
    "# Data GroupBy"
   ]
  },
  {
   "cell_type": "markdown",
   "id": "5cb6a492",
   "metadata": {},
   "source": [
    "Grouping adalah suatu teknik memisahkan data berdasarkan kriteria tertentu. Untuk melakukan grouping di pandas kita menggunakan suatu method yang bernama **groupby()**. definisi abstraknya dari grouping adalah kita melakukan mapping suatu data terhadap suatu group."
   ]
  },
  {
   "cell_type": "markdown",
   "id": "0b051270",
   "metadata": {},
   "source": [
    "ketika melakukan grouping ada beberapa proses yang terjadi secara berurutan, yaitu :"
   ]
  },
  {
   "cell_type": "markdown",
   "id": "5beea9f0",
   "metadata": {},
   "source": [
    "1. Splitting : Memisahkan data kedalam suatu group berdasarkan kriteria tertentu.\n",
    "2. Applying : Melakukan suatu operasi terhadap sekumpulan data di group-group tersebut.\n",
    "3. Combining : Menggabungkan data menjadi suatu struktur baru"
   ]
  },
  {
   "cell_type": "code",
   "execution_count": 1,
   "id": "6c7e418e",
   "metadata": {},
   "outputs": [],
   "source": [
    "import pandas as pd\n",
    "import numpy as np\n",
    "df_grup = pd.DataFrame([('bird','Falconiformes',389.0),\n",
    "                       ('bird','Psittaciformes',24.0),\n",
    "                       ('mammal','Carnivora',80.2),\n",
    "                       ('mammal','Primates',np.nan),\n",
    "                       ('mammal','Carnivora',58)],\n",
    "                      index=['falcon','parrot','lion','monkey','leopard'],\n",
    "                      columns=('class','order','max_speed'))"
   ]
  },
  {
   "cell_type": "code",
   "execution_count": 2,
   "id": "e7bf1c7e",
   "metadata": {},
   "outputs": [
    {
     "data": {
      "text/html": [
       "<div>\n",
       "<style scoped>\n",
       "    .dataframe tbody tr th:only-of-type {\n",
       "        vertical-align: middle;\n",
       "    }\n",
       "\n",
       "    .dataframe tbody tr th {\n",
       "        vertical-align: top;\n",
       "    }\n",
       "\n",
       "    .dataframe thead th {\n",
       "        text-align: right;\n",
       "    }\n",
       "</style>\n",
       "<table border=\"1\" class=\"dataframe\">\n",
       "  <thead>\n",
       "    <tr style=\"text-align: right;\">\n",
       "      <th></th>\n",
       "      <th>class</th>\n",
       "      <th>order</th>\n",
       "      <th>max_speed</th>\n",
       "    </tr>\n",
       "  </thead>\n",
       "  <tbody>\n",
       "    <tr>\n",
       "      <th>falcon</th>\n",
       "      <td>bird</td>\n",
       "      <td>Falconiformes</td>\n",
       "      <td>389.0</td>\n",
       "    </tr>\n",
       "    <tr>\n",
       "      <th>parrot</th>\n",
       "      <td>bird</td>\n",
       "      <td>Psittaciformes</td>\n",
       "      <td>24.0</td>\n",
       "    </tr>\n",
       "    <tr>\n",
       "      <th>lion</th>\n",
       "      <td>mammal</td>\n",
       "      <td>Carnivora</td>\n",
       "      <td>80.2</td>\n",
       "    </tr>\n",
       "    <tr>\n",
       "      <th>monkey</th>\n",
       "      <td>mammal</td>\n",
       "      <td>Primates</td>\n",
       "      <td>NaN</td>\n",
       "    </tr>\n",
       "    <tr>\n",
       "      <th>leopard</th>\n",
       "      <td>mammal</td>\n",
       "      <td>Carnivora</td>\n",
       "      <td>58.0</td>\n",
       "    </tr>\n",
       "  </tbody>\n",
       "</table>\n",
       "</div>"
      ],
      "text/plain": [
       "          class           order  max_speed\n",
       "falcon     bird   Falconiformes      389.0\n",
       "parrot     bird  Psittaciformes       24.0\n",
       "lion     mammal       Carnivora       80.2\n",
       "monkey   mammal        Primates        NaN\n",
       "leopard  mammal       Carnivora       58.0"
      ]
     },
     "execution_count": 2,
     "metadata": {},
     "output_type": "execute_result"
    }
   ],
   "source": [
    "df_grup"
   ]
  },
  {
   "cell_type": "code",
   "execution_count": 3,
   "id": "200f9bd9",
   "metadata": {},
   "outputs": [
    {
     "data": {
      "text/plain": [
       "<pandas.core.groupby.generic.DataFrameGroupBy object at 0x0000020F1B7B9D30>"
      ]
     },
     "execution_count": 3,
     "metadata": {},
     "output_type": "execute_result"
    }
   ],
   "source": [
    "df_grup.groupby('class')"
   ]
  },
  {
   "cell_type": "markdown",
   "id": "fe61594b",
   "metadata": {},
   "source": [
    "Tidak menghasilkan nilai apapun sebelum kita memberikan suatu operasi terhadap hasil dari setiap grouping tersebut. Prosess melakukan operasi terhadap sekumpulan data yang telah di groupkan adalah process applying. Kita bisa menggunakan berbagai jenis operasi aggregasi terhadap objek groupby tersebut. Ada operasi yang telah di sediakan sebagai operasi bawaan dari pandas seperti mean(), min(), max(), dan lain sebagainya."
   ]
  },
  {
   "cell_type": "code",
   "execution_count": 39,
   "id": "c6c039d1",
   "metadata": {},
   "outputs": [
    {
     "data": {
      "text/html": [
       "<div>\n",
       "<style scoped>\n",
       "    .dataframe tbody tr th:only-of-type {\n",
       "        vertical-align: middle;\n",
       "    }\n",
       "\n",
       "    .dataframe tbody tr th {\n",
       "        vertical-align: top;\n",
       "    }\n",
       "\n",
       "    .dataframe thead th {\n",
       "        text-align: right;\n",
       "    }\n",
       "</style>\n",
       "<table border=\"1\" class=\"dataframe\">\n",
       "  <thead>\n",
       "    <tr style=\"text-align: right;\">\n",
       "      <th></th>\n",
       "      <th>max_speed</th>\n",
       "    </tr>\n",
       "    <tr>\n",
       "      <th>class</th>\n",
       "      <th></th>\n",
       "    </tr>\n",
       "  </thead>\n",
       "  <tbody>\n",
       "    <tr>\n",
       "      <th>bird</th>\n",
       "      <td>206.5</td>\n",
       "    </tr>\n",
       "    <tr>\n",
       "      <th>mammal</th>\n",
       "      <td>69.1</td>\n",
       "    </tr>\n",
       "  </tbody>\n",
       "</table>\n",
       "</div>"
      ],
      "text/plain": [
       "        max_speed\n",
       "class            \n",
       "bird        206.5\n",
       "mammal       69.1"
      ]
     },
     "execution_count": 39,
     "metadata": {},
     "output_type": "execute_result"
    }
   ],
   "source": [
    "df_grup.groupby('class').mean()"
   ]
  },
  {
   "cell_type": "markdown",
   "id": "3f189c70",
   "metadata": {},
   "source": [
    "Coba kalian perhatikan. kita telah berhasil menggunakan groupby dan memberikan hasil. jenis operasi yang di apply terhadap setiap group adalah rata-rata. dan hasilnya di combine menjadi struktur data baru. dengan begini kita menhasilkan suatu hasil analisis sederhana yaitu bahwa binatang dengan class bird memiliki kecepatan maksimal rata-rata sebesar 206.5 dan binatang class mamalia sebesar 69.1."
   ]
  },
  {
   "cell_type": "code",
   "execution_count": 4,
   "id": "2103416e",
   "metadata": {},
   "outputs": [],
   "source": [
    "dd = df_grup.groupby(['class','order'])[['max_speed']].agg(['mean','sum'])"
   ]
  },
  {
   "cell_type": "code",
   "execution_count": 6,
   "id": "72cd213f",
   "metadata": {},
   "outputs": [
    {
     "data": {
      "text/html": [
       "<div>\n",
       "<style scoped>\n",
       "    .dataframe tbody tr th:only-of-type {\n",
       "        vertical-align: middle;\n",
       "    }\n",
       "\n",
       "    .dataframe tbody tr th {\n",
       "        vertical-align: top;\n",
       "    }\n",
       "\n",
       "    .dataframe thead tr th {\n",
       "        text-align: left;\n",
       "    }\n",
       "\n",
       "    .dataframe thead tr:last-of-type th {\n",
       "        text-align: right;\n",
       "    }\n",
       "</style>\n",
       "<table border=\"1\" class=\"dataframe\">\n",
       "  <thead>\n",
       "    <tr>\n",
       "      <th></th>\n",
       "      <th></th>\n",
       "      <th colspan=\"2\" halign=\"left\">max_speed</th>\n",
       "    </tr>\n",
       "    <tr>\n",
       "      <th></th>\n",
       "      <th></th>\n",
       "      <th>mean</th>\n",
       "      <th>sum</th>\n",
       "    </tr>\n",
       "    <tr>\n",
       "      <th>class</th>\n",
       "      <th>order</th>\n",
       "      <th></th>\n",
       "      <th></th>\n",
       "    </tr>\n",
       "  </thead>\n",
       "  <tbody>\n",
       "    <tr>\n",
       "      <th rowspan=\"2\" valign=\"top\">bird</th>\n",
       "      <th>Falconiformes</th>\n",
       "      <td>389.0</td>\n",
       "      <td>389.0</td>\n",
       "    </tr>\n",
       "    <tr>\n",
       "      <th>Psittaciformes</th>\n",
       "      <td>24.0</td>\n",
       "      <td>24.0</td>\n",
       "    </tr>\n",
       "    <tr>\n",
       "      <th rowspan=\"2\" valign=\"top\">mammal</th>\n",
       "      <th>Carnivora</th>\n",
       "      <td>69.1</td>\n",
       "      <td>138.2</td>\n",
       "    </tr>\n",
       "    <tr>\n",
       "      <th>Primates</th>\n",
       "      <td>NaN</td>\n",
       "      <td>0.0</td>\n",
       "    </tr>\n",
       "  </tbody>\n",
       "</table>\n",
       "</div>"
      ],
      "text/plain": [
       "                      max_speed       \n",
       "                           mean    sum\n",
       "class  order                          \n",
       "bird   Falconiformes      389.0  389.0\n",
       "       Psittaciformes      24.0   24.0\n",
       "mammal Carnivora           69.1  138.2\n",
       "       Primates             NaN    0.0"
      ]
     },
     "execution_count": 6,
     "metadata": {},
     "output_type": "execute_result"
    }
   ],
   "source": [
    "# dd.loc['bird'].loc['order']\n",
    "# dd.iloc['bird'].order\n",
    "# dd['order']['bird']\n",
    "\n",
    "\n",
    "dd.iloc[1].iloc[0] \n",
    "\n",
    "\n",
    "dd\n",
    "\n"
   ]
  },
  {
   "cell_type": "code",
   "execution_count": null,
   "id": "05eee018",
   "metadata": {},
   "outputs": [],
   "source": []
  }
 ],
 "metadata": {
  "kernelspec": {
   "display_name": "Python 3 (ipykernel)",
   "language": "python",
   "name": "python3"
  },
  "language_info": {
   "codemirror_mode": {
    "name": "ipython",
    "version": 3
   },
   "file_extension": ".py",
   "mimetype": "text/x-python",
   "name": "python",
   "nbconvert_exporter": "python",
   "pygments_lexer": "ipython3",
   "version": "3.9.9"
  }
 },
 "nbformat": 4,
 "nbformat_minor": 5
}
