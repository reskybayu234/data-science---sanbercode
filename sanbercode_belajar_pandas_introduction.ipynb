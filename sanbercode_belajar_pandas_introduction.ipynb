{
 "cells": [
  {
   "cell_type": "code",
   "execution_count": 1,
   "id": "6a117dd2",
   "metadata": {},
   "outputs": [],
   "source": [
    "import numpy as np"
   ]
  },
  {
   "cell_type": "markdown",
   "id": "43077e03",
   "metadata": {},
   "source": [
    "# Numpy attributes"
   ]
  },
  {
   "cell_type": "markdown",
   "id": "c87ab6c4",
   "metadata": {},
   "source": [
    "1. dimension, diguakan untuk melihat dimensi yang dimiliki suatu numpy array\n",
    "2. shape, digunakan untuk mengetahui berapa jumlah baris dan kolom dari suatu numpy array\n",
    "3. type, digunakan untuk mengetahui tipe data yang dimiliki suatu numpy array\n",
    "4. itemsize, untuk melihat ukuran memori yang dibutuhkan untuk menyimpan sebuah numpy array\n",
    "5. nbytes, digunakan untuk menghitung total bytes yang dimiliki suatu numpy array"
   ]
  },
  {
   "cell_type": "code",
   "execution_count": 40,
   "id": "dbd68d7e",
   "metadata": {},
   "outputs": [
    {
     "name": "stdout",
     "output_type": "stream",
     "text": [
      "[[2 1 4 5]]\n",
      "\n",
      "[[1 2 3 4]\n",
      " [4 5 6 7]]\n"
     ]
    }
   ],
   "source": [
    "arr = [[1,2,3,4],[4,5,6,7]]\n",
    "arr_1 = [2,1,4,5]\n",
    "arr_1_num = np.array([arr_1])\n",
    "arr_num = np.array(arr)\n",
    "print(arr_1_num)\n",
    "print(\"\")\n",
    "print(arr_num)"
   ]
  },
  {
   "cell_type": "code",
   "execution_count": 5,
   "id": "74448008",
   "metadata": {},
   "outputs": [
    {
     "name": "stdout",
     "output_type": "stream",
     "text": [
      "[[1, 2, 3, 4], [4, 5, 6, 7]]\n"
     ]
    }
   ],
   "source": [
    "print(arr)"
   ]
  },
  {
   "cell_type": "code",
   "execution_count": 6,
   "id": "cc900ac3",
   "metadata": {},
   "outputs": [
    {
     "name": "stdout",
     "output_type": "stream",
     "text": [
      "<class 'numpy.ndarray'>\n"
     ]
    }
   ],
   "source": [
    "print(type(arr_num))"
   ]
  },
  {
   "cell_type": "code",
   "execution_count": 7,
   "id": "39854ff2",
   "metadata": {},
   "outputs": [
    {
     "data": {
      "text/plain": [
       "2"
      ]
     },
     "execution_count": 7,
     "metadata": {},
     "output_type": "execute_result"
    }
   ],
   "source": [
    "# dimension\n",
    "arr_num.ndim"
   ]
  },
  {
   "cell_type": "code",
   "execution_count": 42,
   "id": "6fdc1c45",
   "metadata": {},
   "outputs": [
    {
     "name": "stdout",
     "output_type": "stream",
     "text": [
      "(2, 4)\n",
      "(1, 4)\n"
     ]
    }
   ],
   "source": [
    "# shape\n",
    "print(arr_num.shape)\n",
    "print(arr_1_num.shape)"
   ]
  },
  {
   "cell_type": "code",
   "execution_count": 10,
   "id": "db3d0a90",
   "metadata": {},
   "outputs": [
    {
     "data": {
      "text/plain": [
       "dtype('int32')"
      ]
     },
     "execution_count": 10,
     "metadata": {},
     "output_type": "execute_result"
    }
   ],
   "source": [
    "# type\n",
    "arr_num.dtype"
   ]
  },
  {
   "cell_type": "code",
   "execution_count": 11,
   "id": "ef863fe8",
   "metadata": {},
   "outputs": [
    {
     "data": {
      "text/plain": [
       "4"
      ]
     },
     "execution_count": 11,
     "metadata": {},
     "output_type": "execute_result"
    }
   ],
   "source": [
    "# itemsize\n",
    "arr_num.itemsize"
   ]
  },
  {
   "cell_type": "code",
   "execution_count": 12,
   "id": "0f47d973",
   "metadata": {},
   "outputs": [
    {
     "data": {
      "text/plain": [
       "32"
      ]
     },
     "execution_count": 12,
     "metadata": {},
     "output_type": "execute_result"
    }
   ],
   "source": [
    "# nbytes\n",
    "arr_num.nbytes"
   ]
  },
  {
   "cell_type": "markdown",
   "id": "6b201c8e",
   "metadata": {},
   "source": [
    "# Indexing Arrays"
   ]
  },
  {
   "cell_type": "code",
   "execution_count": 14,
   "id": "9089050c",
   "metadata": {},
   "outputs": [
    {
     "name": "stdout",
     "output_type": "stream",
     "text": [
      "[[1 2 3 4]\n",
      " [4 5 6 7]]\n"
     ]
    },
    {
     "data": {
      "text/plain": [
       "array([6, 7])"
      ]
     },
     "execution_count": 14,
     "metadata": {},
     "output_type": "execute_result"
    }
   ],
   "source": [
    "print(arr_num)\n",
    "arr_num[1][2:]"
   ]
  },
  {
   "cell_type": "markdown",
   "id": "7f5cf0e7",
   "metadata": {},
   "source": [
    "\n",
    "\n",
    "\n",
    "\n",
    "### Slicing Array\n",
    "\n",
    "\n",
    "\n",
    "\n"
   ]
  },
  {
   "cell_type": "code",
   "execution_count": 15,
   "id": "140dde78",
   "metadata": {},
   "outputs": [
    {
     "name": "stdout",
     "output_type": "stream",
     "text": [
      "[0 1 2 3 4 5 6 7 8 9]\n"
     ]
    },
    {
     "data": {
      "text/plain": [
       "array([0, 2, 4, 6])"
      ]
     },
     "execution_count": 15,
     "metadata": {},
     "output_type": "execute_result"
    }
   ],
   "source": [
    "arr_slice = np.array(range(10))\n",
    "print(arr_slice)\n",
    "\n",
    "#[start:stop:step]\n",
    "arr_slice[0:7:2]"
   ]
  },
  {
   "cell_type": "code",
   "execution_count": 24,
   "id": "757fe98f",
   "metadata": {},
   "outputs": [
    {
     "name": "stdout",
     "output_type": "stream",
     "text": [
      "[[1 2 3 5]\n",
      " [2 3 4 5]\n",
      " [7 8 9 6]]\n",
      " \n",
      "[[4 5]\n",
      " [9 6]]\n"
     ]
    }
   ],
   "source": [
    "# multidimension\n",
    "arr_multi = [[1,2,3,5],[2,3,4,5],[7,8,9,6]]\n",
    "arr_multi_np = np.array(arr_multi)\n",
    "print(arr_multi_np)\n",
    "print(\" \")\n",
    "print(arr_multi_np[1:,2:])"
   ]
  },
  {
   "cell_type": "markdown",
   "id": "1bfbaeca",
   "metadata": {},
   "source": [
    "# Reshaping Array ( jumlah baris dan kolom harus sama )"
   ]
  },
  {
   "cell_type": "code",
   "execution_count": 75,
   "id": "c784ff51",
   "metadata": {},
   "outputs": [
    {
     "data": {
      "text/plain": [
       "array([[1, 2, 3, 5],\n",
       "       [2, 3, 4, 5],\n",
       "       [7, 8, 9, 6]])"
      ]
     },
     "execution_count": 75,
     "metadata": {},
     "output_type": "execute_result"
    }
   ],
   "source": [
    "# nama_objek.reshape(baris,kolom)\\\n",
    "\n",
    "arr_multi_np.reshape(3,4)"
   ]
  },
  {
   "cell_type": "markdown",
   "id": "e2c53d26",
   "metadata": {},
   "source": [
    "### Joining Array"
   ]
  },
  {
   "cell_type": "code",
   "execution_count": 37,
   "id": "e24cb6db",
   "metadata": {},
   "outputs": [],
   "source": [
    "arr_num_2 = np.array([[4,5,2,1],[7,8,9,3]])\n",
    "arr_num_3 = np.array([[22,33,44,11],[55,66,77,88]])\n",
    "arr_num_4 = np.array([[12,23,34,45],[65,54,43,21],[78,6,98,10]])"
   ]
  },
  {
   "cell_type": "code",
   "execution_count": 35,
   "id": "90a1f7c5",
   "metadata": {},
   "outputs": [
    {
     "name": "stdout",
     "output_type": "stream",
     "text": [
      "[[12 23 34 45]\n",
      " [65 54 43 21]\n",
      " [78  6 98 10]\n",
      " [ 4  5  2  1]\n",
      " [ 7  8  9  3]]\n"
     ]
    }
   ],
   "source": [
    "array_join = np.concatenate([arr_num_4,arr_num_2])\n",
    "print(array_join)"
   ]
  },
  {
   "cell_type": "markdown",
   "id": "c1e32620",
   "metadata": {},
   "source": [
    "# Objek Pandas:Series vs DataFrame"
   ]
  },
  {
   "cell_type": "markdown",
   "id": "abc89b2e",
   "metadata": {},
   "source": [
    "Series dan Dataframe ini adalah suatu objek tempat kita menyimpan data secara terstruktur. Perbedaan dari Series dan DataFrame ini terletak pada strukturnya dan juga attribute dan method-method yang mereka miliki, untuk perbedaan strukturnya adalah sebagai berikut :\n",
    "\n",
    "1. Series adalah objek 1 dimensi\n",
    "2. DataFrame adalah suatu objek 2 dimensi, mirip seperti tabel\n",
    "\n"
   ]
  },
  {
   "cell_type": "markdown",
   "id": "abc38e13",
   "metadata": {},
   "source": [
    "### Series"
   ]
  },
  {
   "cell_type": "markdown",
   "id": "b87d5fd9",
   "metadata": {},
   "source": [
    "Series memiliki persamaan dengan list yaitu dapat dilakukan metode slicing, yaitu mengakses/indexing pada object series tersebut (yang akan dipelajari di hari ke-2). Juga series memiliki persamaan dengan dictionary yaitu index yang dimiliki series berguna seperti keys pada dictionary."
   ]
  },
  {
   "cell_type": "code",
   "execution_count": 43,
   "id": "481b4618",
   "metadata": {},
   "outputs": [],
   "source": [
    "import pandas as pd"
   ]
  },
  {
   "cell_type": "code",
   "execution_count": 46,
   "id": "95dd1da2",
   "metadata": {},
   "outputs": [
    {
     "name": "stdout",
     "output_type": "stream",
     "text": [
      "satu     1\n",
      "dua      2\n",
      "tiga     3\n",
      "empat    4\n",
      "dtype: int64\n"
     ]
    }
   ],
   "source": [
    "x = pd.Series([1,2,3,4],index=[\"satu\",\"dua\",\"tiga\",\"empat\"])\n",
    "print(x)"
   ]
  },
  {
   "cell_type": "code",
   "execution_count": 47,
   "id": "16567c2e",
   "metadata": {},
   "outputs": [
    {
     "data": {
      "text/plain": [
       "1"
      ]
     },
     "execution_count": 47,
     "metadata": {},
     "output_type": "execute_result"
    }
   ],
   "source": [
    "x[\"satu\"]"
   ]
  },
  {
   "cell_type": "code",
   "execution_count": 49,
   "id": "d896414d",
   "metadata": {},
   "outputs": [],
   "source": [
    "x.index = [1,2,3,4]"
   ]
  },
  {
   "cell_type": "code",
   "execution_count": 50,
   "id": "a39fa578",
   "metadata": {},
   "outputs": [
    {
     "name": "stdout",
     "output_type": "stream",
     "text": [
      "1    1\n",
      "2    2\n",
      "3    3\n",
      "4    4\n",
      "dtype: int64\n"
     ]
    }
   ],
   "source": [
    "print(x)"
   ]
  },
  {
   "cell_type": "markdown",
   "id": "a5b51202",
   "metadata": {},
   "source": [
    "### DataFrame"
   ]
  },
  {
   "cell_type": "markdown",
   "id": "9609bbdd",
   "metadata": {},
   "source": [
    "dataframe berupa dictionary"
   ]
  },
  {
   "cell_type": "code",
   "execution_count": 58,
   "id": "48e02c61",
   "metadata": {},
   "outputs": [],
   "source": [
    "arr_dict = {\n",
    "    \"nama\" : [\"bayu\",\"resky\",\"andhika\"],\n",
    "    \"umur\" : [23,32,45]\n",
    "}"
   ]
  },
  {
   "cell_type": "code",
   "execution_count": 59,
   "id": "6faf9732",
   "metadata": {},
   "outputs": [],
   "source": [
    "dataFrame_arr_dict = pd.DataFrame(arr_dict)"
   ]
  },
  {
   "cell_type": "code",
   "execution_count": 60,
   "id": "8e801a21",
   "metadata": {},
   "outputs": [
    {
     "name": "stdout",
     "output_type": "stream",
     "text": [
      "      nama  umur\n",
      "0     bayu    23\n",
      "1    resky    32\n",
      "2  andhika    45\n"
     ]
    }
   ],
   "source": [
    "print(dataFrame_arr_dict)"
   ]
  },
  {
   "cell_type": "code",
   "execution_count": 61,
   "id": "73f91597",
   "metadata": {},
   "outputs": [
    {
     "data": {
      "text/plain": [
       "0       bayu\n",
       "1      resky\n",
       "2    andhika\n",
       "Name: nama, dtype: object"
      ]
     },
     "execution_count": 61,
     "metadata": {},
     "output_type": "execute_result"
    }
   ],
   "source": [
    "dataFrame_arr_dict[\"nama\"]"
   ]
  },
  {
   "cell_type": "code",
   "execution_count": 65,
   "id": "44a2f701",
   "metadata": {},
   "outputs": [
    {
     "data": {
      "text/plain": [
       "'bayu'"
      ]
     },
     "execution_count": 65,
     "metadata": {},
     "output_type": "execute_result"
    }
   ],
   "source": [
    "dataFrame_arr_dict[\"nama\"][0]"
   ]
  },
  {
   "cell_type": "code",
   "execution_count": 70,
   "id": "ef4b7719",
   "metadata": {},
   "outputs": [
    {
     "name": "stdout",
     "output_type": "stream",
     "text": [
      "b\n",
      "a\n",
      "y\n",
      "u\n"
     ]
    }
   ],
   "source": [
    "for i in dataFrame_arr_dict.nama[0]:\n",
    "    print(i)"
   ]
  },
  {
   "cell_type": "code",
   "execution_count": 71,
   "id": "2a0d4197",
   "metadata": {},
   "outputs": [
    {
     "name": "stdout",
     "output_type": "stream",
     "text": [
      "bayu\n",
      "resky\n",
      "andhika\n"
     ]
    }
   ],
   "source": [
    "for i in dataFrame_arr_dict.nama:\n",
    "    print(i)"
   ]
  },
  {
   "cell_type": "code",
   "execution_count": 72,
   "id": "e3b175ab",
   "metadata": {},
   "outputs": [
    {
     "name": "stdout",
     "output_type": "stream",
     "text": [
      "nama    resky\n",
      "umur       32\n",
      "Name: 1, dtype: object\n"
     ]
    }
   ],
   "source": [
    "print(dataFrame_arr_dict.loc[1])"
   ]
  },
  {
   "cell_type": "code",
   "execution_count": null,
   "id": "6779a2e9",
   "metadata": {},
   "outputs": [],
   "source": []
  }
 ],
 "metadata": {
  "kernelspec": {
   "display_name": "Python 3 (ipykernel)",
   "language": "python",
   "name": "python3"
  },
  "language_info": {
   "codemirror_mode": {
    "name": "ipython",
    "version": 3
   },
   "file_extension": ".py",
   "mimetype": "text/x-python",
   "name": "python",
   "nbconvert_exporter": "python",
   "pygments_lexer": "ipython3",
   "version": "3.9.9"
  }
 },
 "nbformat": 4,
 "nbformat_minor": 5
}
