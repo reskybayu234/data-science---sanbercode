{
 "cells": [
  {
   "cell_type": "markdown",
   "id": "2541a761",
   "metadata": {},
   "source": [
    "# Time Series"
   ]
  },
  {
   "cell_type": "markdown",
   "id": "787709ef",
   "metadata": {},
   "source": [
    "#### Pertama, kita akan coba eksplorasi date time di Python lalu kemudian ke Pandas."
   ]
  },
  {
   "cell_type": "markdown",
   "id": "ed4f9e8d",
   "metadata": {},
   "source": [
    "#### 1. Pertama kita impor modul  datetime terlebih dahulu."
   ]
  },
  {
   "cell_type": "code",
   "execution_count": 17,
   "id": "c424092e",
   "metadata": {},
   "outputs": [],
   "source": [
    "import datetime"
   ]
  },
  {
   "cell_type": "code",
   "execution_count": 4,
   "id": "fba7eb82",
   "metadata": {},
   "outputs": [],
   "source": [
    "date=datetime.date(year=2013,month=6,day=7)"
   ]
  },
  {
   "cell_type": "code",
   "execution_count": 7,
   "id": "7aefdfe8",
   "metadata": {},
   "outputs": [],
   "source": [
    "time=datetime.time(hour=12,minute=30,second=19,microsecond=463198)"
   ]
  },
  {
   "cell_type": "code",
   "execution_count": 9,
   "id": "2c801ed6",
   "metadata": {},
   "outputs": [
    {
     "name": "stdout",
     "output_type": "stream",
     "text": [
      "date is 2013-06-07\n"
     ]
    }
   ],
   "source": [
    "print(\"date is\",date)"
   ]
  },
  {
   "cell_type": "code",
   "execution_count": 10,
   "id": "822f035a",
   "metadata": {},
   "outputs": [
    {
     "name": "stdout",
     "output_type": "stream",
     "text": [
      "time is 12:30:19.463198\n"
     ]
    }
   ],
   "source": [
    "print(\"time is\",time)"
   ]
  },
  {
   "cell_type": "code",
   "execution_count": 15,
   "id": "a98b85e8",
   "metadata": {},
   "outputs": [],
   "source": [
    "dt = datetime.datetime(year=2013,month=6,day=7,hour=12, minute=30,second=19,microsecond=463198)"
   ]
  },
  {
   "cell_type": "code",
   "execution_count": 16,
   "id": "a0e437cf",
   "metadata": {},
   "outputs": [
    {
     "name": "stdout",
     "output_type": "stream",
     "text": [
      "datetime is 2013-06-07 12:30:19.463198\n"
     ]
    }
   ],
   "source": [
    "print(\"datetime is\",dt)"
   ]
  },
  {
   "cell_type": "markdown",
   "id": "c2045351",
   "metadata": {},
   "source": [
    "#### 2. Buat sebuah timedelta objek (salah 1 tipedata dalam datetime) "
   ]
  },
  {
   "cell_type": "code",
   "execution_count": 20,
   "id": "9e7fb19c",
   "metadata": {},
   "outputs": [],
   "source": [
    "td = datetime.timedelta(weeks=2,days=5,hours=10,minutes=20,seconds=6.73,milliseconds=99,microseconds=8)"
   ]
  },
  {
   "cell_type": "code",
   "execution_count": 21,
   "id": "f820eef0",
   "metadata": {},
   "outputs": [
    {
     "name": "stdout",
     "output_type": "stream",
     "text": [
      "19 days, 10:20:06.829008\n"
     ]
    }
   ],
   "source": [
    "print(td)"
   ]
  },
  {
   "cell_type": "markdown",
   "id": "59b65ca2",
   "metadata": {},
   "source": [
    "#### 3.  Tambahkan timedelta ke date dan objek datetime"
   ]
  },
  {
   "cell_type": "code",
   "execution_count": 22,
   "id": "4c9c6d0f",
   "metadata": {},
   "outputs": [
    {
     "name": "stdout",
     "output_type": "stream",
     "text": [
      "new date is 2013-06-26\n"
     ]
    }
   ],
   "source": [
    "print('new date is',date + td)"
   ]
  },
  {
   "cell_type": "code",
   "execution_count": 23,
   "id": "59e7bb27",
   "metadata": {},
   "outputs": [
    {
     "name": "stdout",
     "output_type": "stream",
     "text": [
      "new datetime is 2013-06-26 22:50:26.292206\n"
     ]
    }
   ],
   "source": [
    "print('new datetime is', dt + td)"
   ]
  },
  {
   "cell_type": "markdown",
   "id": "d7d7f0bb",
   "metadata": {},
   "source": [
    "#### 4. Menambahkan timedelta ke objek time tidak memungkinkan "
   ]
  },
  {
   "cell_type": "code",
   "execution_count": 24,
   "id": "25d76c03",
   "metadata": {},
   "outputs": [
    {
     "ename": "TypeError",
     "evalue": "unsupported operand type(s) for +: 'datetime.time' and 'datetime.timedelta'",
     "output_type": "error",
     "traceback": [
      "\u001b[1;31m---------------------------------------------------------------------------\u001b[0m",
      "\u001b[1;31mTypeError\u001b[0m                                 Traceback (most recent call last)",
      "\u001b[1;32mC:\\Users\\YUAN_D~1\\AppData\\Local\\Temp/ipykernel_4904/3721256646.py\u001b[0m in \u001b[0;36m<module>\u001b[1;34m\u001b[0m\n\u001b[1;32m----> 1\u001b[1;33m \u001b[0mprint\u001b[0m\u001b[1;33m(\u001b[0m\u001b[0mtime\u001b[0m\u001b[1;33m+\u001b[0m\u001b[0mtd\u001b[0m\u001b[1;33m)\u001b[0m\u001b[1;33m\u001b[0m\u001b[1;33m\u001b[0m\u001b[0m\n\u001b[0m",
      "\u001b[1;31mTypeError\u001b[0m: unsupported operand type(s) for +: 'datetime.time' and 'datetime.timedelta'"
     ]
    }
   ],
   "source": [
    "print(time+td)"
   ]
  },
  {
   "cell_type": "markdown",
   "id": "c18a5c00",
   "metadata": {},
   "source": [
    "#### 5. Gunakan Pandas dan objek Timestampnya "
   ]
  },
  {
   "cell_type": "code",
   "execution_count": 26,
   "id": "76f8edcc",
   "metadata": {},
   "outputs": [
    {
     "data": {
      "text/plain": [
       "Timestamp('2012-12-21 05:10:08.000099')"
      ]
     },
     "execution_count": 26,
     "metadata": {},
     "output_type": "execute_result"
    }
   ],
   "source": [
    "import pandas as pd\n",
    "pd.Timestamp(year=2012,month=12,day=21,hour=5,minute=10,second=8,microsecond=99)"
   ]
  },
  {
   "cell_type": "code",
   "execution_count": 27,
   "id": "eca99a0a",
   "metadata": {},
   "outputs": [
    {
     "data": {
      "text/plain": [
       "Timestamp('2016-01-10 00:00:00')"
      ]
     },
     "execution_count": 27,
     "metadata": {},
     "output_type": "execute_result"
    }
   ],
   "source": [
    "pd.Timestamp('2016/1/10')"
   ]
  },
  {
   "cell_type": "code",
   "execution_count": 28,
   "id": "e7220e0f",
   "metadata": {},
   "outputs": [
    {
     "data": {
      "text/plain": [
       "Timestamp('2014-05-10 00:00:00')"
      ]
     },
     "execution_count": 28,
     "metadata": {},
     "output_type": "execute_result"
    }
   ],
   "source": [
    " pd.Timestamp('2014-5/10')"
   ]
  },
  {
   "cell_type": "code",
   "execution_count": 29,
   "id": "704a4138",
   "metadata": {},
   "outputs": [
    {
     "data": {
      "text/plain": [
       "Timestamp('2019-01-03 20:45:33')"
      ]
     },
     "execution_count": 29,
     "metadata": {},
     "output_type": "execute_result"
    }
   ],
   "source": [
    "pd.Timestamp('jan 3, 2019 20:45.56')"
   ]
  },
  {
   "cell_type": "code",
   "execution_count": 30,
   "id": "332a507e",
   "metadata": {},
   "outputs": [
    {
     "data": {
      "text/plain": [
       "Timestamp('2016-01-05 05:34:43.123456789')"
      ]
     },
     "execution_count": 30,
     "metadata": {},
     "output_type": "execute_result"
    }
   ],
   "source": [
    "pd.Timestamp('2016-01-05T05:34:43.123456789')"
   ]
  },
  {
   "cell_type": "markdown",
   "id": "9a6e5de6",
   "metadata": {},
   "source": [
    "#### 6. Memungkinkan juga untuk kita menggunakan single integer ataupun float dengan Timestamp, yang mana akan mengembalikan tanggal yang sesuai dengan nilai nanosecond"
   ]
  },
  {
   "cell_type": "code",
   "execution_count": 31,
   "id": "9f922c20",
   "metadata": {},
   "outputs": [
    {
     "data": {
      "text/plain": [
       "Timestamp('1970-01-01 00:00:00.000000500')"
      ]
     },
     "execution_count": 31,
     "metadata": {},
     "output_type": "execute_result"
    }
   ],
   "source": [
    "pd.Timestamp(500)"
   ]
  },
  {
   "cell_type": "code",
   "execution_count": 32,
   "id": "99745737",
   "metadata": {},
   "outputs": [
    {
     "data": {
      "text/plain": [
       "Timestamp('1983-09-10 00:00:00')"
      ]
     },
     "execution_count": 32,
     "metadata": {},
     "output_type": "execute_result"
    }
   ],
   "source": [
    "pd.Timestamp(5000,unit=\"D\")"
   ]
  },
  {
   "cell_type": "markdown",
   "id": "62030af0",
   "metadata": {},
   "source": [
    "#### 7. Pandas menyediakan fungsi to_datetime yang bekerja dengan Timestamp "
   ]
  },
  {
   "cell_type": "code",
   "execution_count": 33,
   "id": "bcc7543b",
   "metadata": {},
   "outputs": [
    {
     "data": {
      "text/plain": [
       "Timestamp('2015-05-13 00:00:00')"
      ]
     },
     "execution_count": 33,
     "metadata": {},
     "output_type": "execute_result"
    }
   ],
   "source": [
    "pd.to_datetime('2015-5-13')"
   ]
  },
  {
   "cell_type": "code",
   "execution_count": 35,
   "id": "4c0209a2",
   "metadata": {},
   "outputs": [
    {
     "data": {
      "text/plain": [
       "Timestamp('2015-05-13 00:00:00')"
      ]
     },
     "execution_count": 35,
     "metadata": {},
     "output_type": "execute_result"
    }
   ],
   "source": [
    "pd.to_datetime('2015-13-5', dayfirst=True)"
   ]
  },
  {
   "cell_type": "code",
   "execution_count": 36,
   "id": "8ac2a27e",
   "metadata": {},
   "outputs": [
    {
     "data": {
      "text/plain": [
       "Timestamp('2017-09-30 13:30:00')"
      ]
     },
     "execution_count": 36,
     "metadata": {},
     "output_type": "execute_result"
    }
   ],
   "source": [
    "pd.to_datetime('Start Date: Sep 30, 2017 Start Time: 1:30 pm', format='Start Date: %b %d, %Y Start Time: %I:%M %p')"
   ]
  },
  {
   "cell_type": "code",
   "execution_count": 37,
   "id": "a42fc0e7",
   "metadata": {},
   "outputs": [
    {
     "data": {
      "text/plain": [
       "Timestamp('2013-04-11 00:00:00')"
      ]
     },
     "execution_count": 37,
     "metadata": {},
     "output_type": "execute_result"
    }
   ],
   "source": [
    "pd.to_datetime(100, unit=\"D\", origin='2013-1-1')"
   ]
  },
  {
   "cell_type": "markdown",
   "id": "56ad5f02",
   "metadata": {},
   "source": [
    "#### 8. Fungsi _to_datetime_ bisa digunakan untuk serties dan dataframe "
   ]
  },
  {
   "cell_type": "code",
   "execution_count": 38,
   "id": "efe6cb50",
   "metadata": {},
   "outputs": [],
   "source": [
    "s = pd.Series([10,100,1000,10000])"
   ]
  },
  {
   "cell_type": "code",
   "execution_count": 40,
   "id": "167d146b",
   "metadata": {},
   "outputs": [
    {
     "data": {
      "text/plain": [
       "0   1970-01-11\n",
       "1   1970-04-11\n",
       "2   1972-09-27\n",
       "3   1997-05-19\n",
       "dtype: datetime64[ns]"
      ]
     },
     "execution_count": 40,
     "metadata": {},
     "output_type": "execute_result"
    }
   ],
   "source": [
    "pd.to_datetime(s,unit=\"D\")"
   ]
  },
  {
   "cell_type": "code",
   "execution_count": 41,
   "id": "8d1ee85a",
   "metadata": {},
   "outputs": [],
   "source": [
    "s = pd.Series(['12-5-2015', '14-1-2013','20/12/2017','40/23/2017'])"
   ]
  },
  {
   "cell_type": "code",
   "execution_count": 42,
   "id": "480ae457",
   "metadata": {},
   "outputs": [
    {
     "data": {
      "text/plain": [
       "0   2015-05-12\n",
       "1   2013-01-14\n",
       "2   2017-12-20\n",
       "3          NaT\n",
       "dtype: datetime64[ns]"
      ]
     },
     "execution_count": 42,
     "metadata": {},
     "output_type": "execute_result"
    }
   ],
   "source": [
    "pd.to_datetime(s, dayfirst=True, errors='coerce')"
   ]
  },
  {
   "cell_type": "code",
   "execution_count": 44,
   "id": "e02c3e2f",
   "metadata": {},
   "outputs": [],
   "source": [
    "microsoft = pd.read_csv('microsoft_stock.csv', index_col='Date',parse_dates=True)"
   ]
  },
  {
   "cell_type": "markdown",
   "id": "c64e74b4",
   "metadata": {},
   "source": [
    "parse_dates pada syntaks diatas digunakan untuk mengubah date berupa objek menjadi format date yang sesuai sehingga kolom tersebut bisa dibaca. Output dari pembacaan data di atas adalah:"
   ]
  },
  {
   "cell_type": "code",
   "execution_count": 45,
   "id": "1a94901b",
   "metadata": {},
   "outputs": [
    {
     "data": {
      "text/html": [
       "<div>\n",
       "<style scoped>\n",
       "    .dataframe tbody tr th:only-of-type {\n",
       "        vertical-align: middle;\n",
       "    }\n",
       "\n",
       "    .dataframe tbody tr th {\n",
       "        vertical-align: top;\n",
       "    }\n",
       "\n",
       "    .dataframe thead th {\n",
       "        text-align: right;\n",
       "    }\n",
       "</style>\n",
       "<table border=\"1\" class=\"dataframe\">\n",
       "  <thead>\n",
       "    <tr style=\"text-align: right;\">\n",
       "      <th></th>\n",
       "      <th>Open</th>\n",
       "      <th>High</th>\n",
       "      <th>Low</th>\n",
       "      <th>Close</th>\n",
       "      <th>Volume</th>\n",
       "      <th>trading_volume</th>\n",
       "    </tr>\n",
       "    <tr>\n",
       "      <th>Date</th>\n",
       "      <th></th>\n",
       "      <th></th>\n",
       "      <th></th>\n",
       "      <th></th>\n",
       "      <th></th>\n",
       "      <th></th>\n",
       "    </tr>\n",
       "  </thead>\n",
       "  <tbody>\n",
       "    <tr>\n",
       "      <th>2015-04-01</th>\n",
       "      <td>40.60</td>\n",
       "      <td>40.76</td>\n",
       "      <td>40.31</td>\n",
       "      <td>40.72</td>\n",
       "      <td>36865322</td>\n",
       "      <td>low</td>\n",
       "    </tr>\n",
       "    <tr>\n",
       "      <th>2015-04-02</th>\n",
       "      <td>40.66</td>\n",
       "      <td>40.74</td>\n",
       "      <td>40.12</td>\n",
       "      <td>40.29</td>\n",
       "      <td>37487476</td>\n",
       "      <td>low</td>\n",
       "    </tr>\n",
       "    <tr>\n",
       "      <th>2015-04-06</th>\n",
       "      <td>40.34</td>\n",
       "      <td>41.78</td>\n",
       "      <td>40.18</td>\n",
       "      <td>41.55</td>\n",
       "      <td>39223692</td>\n",
       "      <td>low</td>\n",
       "    </tr>\n",
       "    <tr>\n",
       "      <th>2015-04-07</th>\n",
       "      <td>41.61</td>\n",
       "      <td>41.91</td>\n",
       "      <td>41.31</td>\n",
       "      <td>41.53</td>\n",
       "      <td>28809375</td>\n",
       "      <td>low</td>\n",
       "    </tr>\n",
       "    <tr>\n",
       "      <th>2015-04-08</th>\n",
       "      <td>41.48</td>\n",
       "      <td>41.69</td>\n",
       "      <td>41.04</td>\n",
       "      <td>41.42</td>\n",
       "      <td>24753438</td>\n",
       "      <td>low</td>\n",
       "    </tr>\n",
       "    <tr>\n",
       "      <th>...</th>\n",
       "      <td>...</td>\n",
       "      <td>...</td>\n",
       "      <td>...</td>\n",
       "      <td>...</td>\n",
       "      <td>...</td>\n",
       "      <td>...</td>\n",
       "    </tr>\n",
       "    <tr>\n",
       "      <th>2021-03-25</th>\n",
       "      <td>235.30</td>\n",
       "      <td>236.94</td>\n",
       "      <td>231.57</td>\n",
       "      <td>232.34</td>\n",
       "      <td>34061853</td>\n",
       "      <td>low</td>\n",
       "    </tr>\n",
       "    <tr>\n",
       "      <th>2021-03-26</th>\n",
       "      <td>231.55</td>\n",
       "      <td>236.71</td>\n",
       "      <td>231.55</td>\n",
       "      <td>236.48</td>\n",
       "      <td>25479853</td>\n",
       "      <td>low</td>\n",
       "    </tr>\n",
       "    <tr>\n",
       "      <th>2021-03-29</th>\n",
       "      <td>236.59</td>\n",
       "      <td>236.80</td>\n",
       "      <td>231.88</td>\n",
       "      <td>235.24</td>\n",
       "      <td>25227455</td>\n",
       "      <td>low</td>\n",
       "    </tr>\n",
       "    <tr>\n",
       "      <th>2021-03-30</th>\n",
       "      <td>233.53</td>\n",
       "      <td>233.85</td>\n",
       "      <td>231.10</td>\n",
       "      <td>231.85</td>\n",
       "      <td>24792012</td>\n",
       "      <td>low</td>\n",
       "    </tr>\n",
       "    <tr>\n",
       "      <th>2021-03-31</th>\n",
       "      <td>232.91</td>\n",
       "      <td>239.10</td>\n",
       "      <td>232.39</td>\n",
       "      <td>235.77</td>\n",
       "      <td>43623471</td>\n",
       "      <td>low</td>\n",
       "    </tr>\n",
       "  </tbody>\n",
       "</table>\n",
       "<p>1511 rows × 6 columns</p>\n",
       "</div>"
      ],
      "text/plain": [
       "              Open    High     Low   Close    Volume trading_volume\n",
       "Date                                                               \n",
       "2015-04-01   40.60   40.76   40.31   40.72  36865322            low\n",
       "2015-04-02   40.66   40.74   40.12   40.29  37487476            low\n",
       "2015-04-06   40.34   41.78   40.18   41.55  39223692            low\n",
       "2015-04-07   41.61   41.91   41.31   41.53  28809375            low\n",
       "2015-04-08   41.48   41.69   41.04   41.42  24753438            low\n",
       "...            ...     ...     ...     ...       ...            ...\n",
       "2021-03-25  235.30  236.94  231.57  232.34  34061853            low\n",
       "2021-03-26  231.55  236.71  231.55  236.48  25479853            low\n",
       "2021-03-29  236.59  236.80  231.88  235.24  25227455            low\n",
       "2021-03-30  233.53  233.85  231.10  231.85  24792012            low\n",
       "2021-03-31  232.91  239.10  232.39  235.77  43623471            low\n",
       "\n",
       "[1511 rows x 6 columns]"
      ]
     },
     "execution_count": 45,
     "metadata": {},
     "output_type": "execute_result"
    }
   ],
   "source": [
    "microsoft"
   ]
  },
  {
   "cell_type": "markdown",
   "id": "79f14296",
   "metadata": {},
   "source": [
    "## Selection and Filtering "
   ]
  },
  {
   "cell_type": "markdown",
   "id": "de7463b3",
   "metadata": {},
   "source": [
    "##### Melakukan indexing hanya di waktu tertentu "
   ]
  },
  {
   "cell_type": "code",
   "execution_count": 47,
   "id": "a88cd55e",
   "metadata": {},
   "outputs": [
    {
     "name": "stderr",
     "output_type": "stream",
     "text": [
      "C:\\Users\\YUAN_D~1\\AppData\\Local\\Temp/ipykernel_4904/1012009635.py:1: FutureWarning: Indexing a DataFrame with a datetimelike index using a single string to slice the rows, like `frame[string]`, is deprecated and will be removed in a future version. Use `frame.loc[string]` instead.\n",
      "  microsoft['2021-01']\n"
     ]
    },
    {
     "data": {
      "text/html": [
       "<div>\n",
       "<style scoped>\n",
       "    .dataframe tbody tr th:only-of-type {\n",
       "        vertical-align: middle;\n",
       "    }\n",
       "\n",
       "    .dataframe tbody tr th {\n",
       "        vertical-align: top;\n",
       "    }\n",
       "\n",
       "    .dataframe thead th {\n",
       "        text-align: right;\n",
       "    }\n",
       "</style>\n",
       "<table border=\"1\" class=\"dataframe\">\n",
       "  <thead>\n",
       "    <tr style=\"text-align: right;\">\n",
       "      <th></th>\n",
       "      <th>Open</th>\n",
       "      <th>High</th>\n",
       "      <th>Low</th>\n",
       "      <th>Close</th>\n",
       "      <th>Volume</th>\n",
       "      <th>trading_volume</th>\n",
       "    </tr>\n",
       "    <tr>\n",
       "      <th>Date</th>\n",
       "      <th></th>\n",
       "      <th></th>\n",
       "      <th></th>\n",
       "      <th></th>\n",
       "      <th></th>\n",
       "      <th></th>\n",
       "    </tr>\n",
       "  </thead>\n",
       "  <tbody>\n",
       "    <tr>\n",
       "      <th>2021-01-04</th>\n",
       "      <td>222.53</td>\n",
       "      <td>223.00</td>\n",
       "      <td>214.81</td>\n",
       "      <td>217.69</td>\n",
       "      <td>37130139</td>\n",
       "      <td>low</td>\n",
       "    </tr>\n",
       "    <tr>\n",
       "      <th>2021-01-05</th>\n",
       "      <td>217.26</td>\n",
       "      <td>218.52</td>\n",
       "      <td>215.70</td>\n",
       "      <td>217.90</td>\n",
       "      <td>23822953</td>\n",
       "      <td>low</td>\n",
       "    </tr>\n",
       "    <tr>\n",
       "      <th>2021-01-06</th>\n",
       "      <td>212.17</td>\n",
       "      <td>216.49</td>\n",
       "      <td>211.94</td>\n",
       "      <td>212.25</td>\n",
       "      <td>35930653</td>\n",
       "      <td>low</td>\n",
       "    </tr>\n",
       "    <tr>\n",
       "      <th>2021-01-07</th>\n",
       "      <td>214.04</td>\n",
       "      <td>219.34</td>\n",
       "      <td>213.71</td>\n",
       "      <td>218.29</td>\n",
       "      <td>27694480</td>\n",
       "      <td>low</td>\n",
       "    </tr>\n",
       "    <tr>\n",
       "      <th>2021-01-08</th>\n",
       "      <td>218.68</td>\n",
       "      <td>220.58</td>\n",
       "      <td>217.03</td>\n",
       "      <td>219.62</td>\n",
       "      <td>22956206</td>\n",
       "      <td>low</td>\n",
       "    </tr>\n",
       "    <tr>\n",
       "      <th>2021-01-11</th>\n",
       "      <td>218.47</td>\n",
       "      <td>218.91</td>\n",
       "      <td>216.73</td>\n",
       "      <td>217.49</td>\n",
       "      <td>23047029</td>\n",
       "      <td>low</td>\n",
       "    </tr>\n",
       "    <tr>\n",
       "      <th>2021-01-12</th>\n",
       "      <td>216.50</td>\n",
       "      <td>217.10</td>\n",
       "      <td>213.32</td>\n",
       "      <td>214.93</td>\n",
       "      <td>23249336</td>\n",
       "      <td>low</td>\n",
       "    </tr>\n",
       "    <tr>\n",
       "      <th>2021-01-13</th>\n",
       "      <td>214.02</td>\n",
       "      <td>216.76</td>\n",
       "      <td>213.93</td>\n",
       "      <td>216.34</td>\n",
       "      <td>20087080</td>\n",
       "      <td>low</td>\n",
       "    </tr>\n",
       "    <tr>\n",
       "      <th>2021-01-14</th>\n",
       "      <td>215.91</td>\n",
       "      <td>217.46</td>\n",
       "      <td>212.74</td>\n",
       "      <td>213.02</td>\n",
       "      <td>29346737</td>\n",
       "      <td>low</td>\n",
       "    </tr>\n",
       "    <tr>\n",
       "      <th>2021-01-15</th>\n",
       "      <td>213.52</td>\n",
       "      <td>214.51</td>\n",
       "      <td>212.03</td>\n",
       "      <td>212.65</td>\n",
       "      <td>31746512</td>\n",
       "      <td>low</td>\n",
       "    </tr>\n",
       "    <tr>\n",
       "      <th>2021-01-19</th>\n",
       "      <td>213.75</td>\n",
       "      <td>216.98</td>\n",
       "      <td>212.63</td>\n",
       "      <td>216.44</td>\n",
       "      <td>30480859</td>\n",
       "      <td>low</td>\n",
       "    </tr>\n",
       "    <tr>\n",
       "      <th>2021-01-20</th>\n",
       "      <td>217.70</td>\n",
       "      <td>225.79</td>\n",
       "      <td>217.29</td>\n",
       "      <td>224.34</td>\n",
       "      <td>37777260</td>\n",
       "      <td>low</td>\n",
       "    </tr>\n",
       "    <tr>\n",
       "      <th>2021-01-21</th>\n",
       "      <td>224.70</td>\n",
       "      <td>226.30</td>\n",
       "      <td>222.42</td>\n",
       "      <td>224.97</td>\n",
       "      <td>30749553</td>\n",
       "      <td>low</td>\n",
       "    </tr>\n",
       "    <tr>\n",
       "      <th>2021-01-22</th>\n",
       "      <td>227.08</td>\n",
       "      <td>230.07</td>\n",
       "      <td>225.80</td>\n",
       "      <td>225.95</td>\n",
       "      <td>30172663</td>\n",
       "      <td>low</td>\n",
       "    </tr>\n",
       "    <tr>\n",
       "      <th>2021-01-25</th>\n",
       "      <td>229.12</td>\n",
       "      <td>229.78</td>\n",
       "      <td>224.22</td>\n",
       "      <td>229.53</td>\n",
       "      <td>33152095</td>\n",
       "      <td>low</td>\n",
       "    </tr>\n",
       "    <tr>\n",
       "      <th>2021-01-26</th>\n",
       "      <td>231.86</td>\n",
       "      <td>234.18</td>\n",
       "      <td>230.08</td>\n",
       "      <td>232.33</td>\n",
       "      <td>49169601</td>\n",
       "      <td>medium</td>\n",
       "    </tr>\n",
       "    <tr>\n",
       "      <th>2021-01-27</th>\n",
       "      <td>238.00</td>\n",
       "      <td>240.44</td>\n",
       "      <td>230.14</td>\n",
       "      <td>232.90</td>\n",
       "      <td>69870638</td>\n",
       "      <td>medium</td>\n",
       "    </tr>\n",
       "    <tr>\n",
       "      <th>2021-01-28</th>\n",
       "      <td>235.61</td>\n",
       "      <td>242.64</td>\n",
       "      <td>235.09</td>\n",
       "      <td>238.93</td>\n",
       "      <td>49111159</td>\n",
       "      <td>medium</td>\n",
       "    </tr>\n",
       "    <tr>\n",
       "      <th>2021-01-29</th>\n",
       "      <td>235.99</td>\n",
       "      <td>238.02</td>\n",
       "      <td>231.35</td>\n",
       "      <td>231.96</td>\n",
       "      <td>42503138</td>\n",
       "      <td>low</td>\n",
       "    </tr>\n",
       "  </tbody>\n",
       "</table>\n",
       "</div>"
      ],
      "text/plain": [
       "              Open    High     Low   Close    Volume trading_volume\n",
       "Date                                                               \n",
       "2021-01-04  222.53  223.00  214.81  217.69  37130139            low\n",
       "2021-01-05  217.26  218.52  215.70  217.90  23822953            low\n",
       "2021-01-06  212.17  216.49  211.94  212.25  35930653            low\n",
       "2021-01-07  214.04  219.34  213.71  218.29  27694480            low\n",
       "2021-01-08  218.68  220.58  217.03  219.62  22956206            low\n",
       "2021-01-11  218.47  218.91  216.73  217.49  23047029            low\n",
       "2021-01-12  216.50  217.10  213.32  214.93  23249336            low\n",
       "2021-01-13  214.02  216.76  213.93  216.34  20087080            low\n",
       "2021-01-14  215.91  217.46  212.74  213.02  29346737            low\n",
       "2021-01-15  213.52  214.51  212.03  212.65  31746512            low\n",
       "2021-01-19  213.75  216.98  212.63  216.44  30480859            low\n",
       "2021-01-20  217.70  225.79  217.29  224.34  37777260            low\n",
       "2021-01-21  224.70  226.30  222.42  224.97  30749553            low\n",
       "2021-01-22  227.08  230.07  225.80  225.95  30172663            low\n",
       "2021-01-25  229.12  229.78  224.22  229.53  33152095            low\n",
       "2021-01-26  231.86  234.18  230.08  232.33  49169601         medium\n",
       "2021-01-27  238.00  240.44  230.14  232.90  69870638         medium\n",
       "2021-01-28  235.61  242.64  235.09  238.93  49111159         medium\n",
       "2021-01-29  235.99  238.02  231.35  231.96  42503138            low"
      ]
     },
     "execution_count": 47,
     "metadata": {},
     "output_type": "execute_result"
    }
   ],
   "source": [
    "microsoft['2021-01']"
   ]
  },
  {
   "cell_type": "code",
   "execution_count": 48,
   "id": "2f18b568",
   "metadata": {},
   "outputs": [
    {
     "data": {
      "text/html": [
       "<div>\n",
       "<style scoped>\n",
       "    .dataframe tbody tr th:only-of-type {\n",
       "        vertical-align: middle;\n",
       "    }\n",
       "\n",
       "    .dataframe tbody tr th {\n",
       "        vertical-align: top;\n",
       "    }\n",
       "\n",
       "    .dataframe thead th {\n",
       "        text-align: right;\n",
       "    }\n",
       "</style>\n",
       "<table border=\"1\" class=\"dataframe\">\n",
       "  <thead>\n",
       "    <tr style=\"text-align: right;\">\n",
       "      <th></th>\n",
       "      <th>Open</th>\n",
       "      <th>High</th>\n",
       "      <th>Low</th>\n",
       "      <th>Close</th>\n",
       "      <th>Volume</th>\n",
       "      <th>trading_volume</th>\n",
       "    </tr>\n",
       "    <tr>\n",
       "      <th>Date</th>\n",
       "      <th></th>\n",
       "      <th></th>\n",
       "      <th></th>\n",
       "      <th></th>\n",
       "      <th></th>\n",
       "      <th></th>\n",
       "    </tr>\n",
       "  </thead>\n",
       "  <tbody>\n",
       "    <tr>\n",
       "      <th>2021-01-11</th>\n",
       "      <td>218.47</td>\n",
       "      <td>218.91</td>\n",
       "      <td>216.73</td>\n",
       "      <td>217.49</td>\n",
       "      <td>23047029</td>\n",
       "      <td>low</td>\n",
       "    </tr>\n",
       "    <tr>\n",
       "      <th>2021-01-12</th>\n",
       "      <td>216.50</td>\n",
       "      <td>217.10</td>\n",
       "      <td>213.32</td>\n",
       "      <td>214.93</td>\n",
       "      <td>23249336</td>\n",
       "      <td>low</td>\n",
       "    </tr>\n",
       "    <tr>\n",
       "      <th>2021-01-13</th>\n",
       "      <td>214.02</td>\n",
       "      <td>216.76</td>\n",
       "      <td>213.93</td>\n",
       "      <td>216.34</td>\n",
       "      <td>20087080</td>\n",
       "      <td>low</td>\n",
       "    </tr>\n",
       "    <tr>\n",
       "      <th>2021-01-14</th>\n",
       "      <td>215.91</td>\n",
       "      <td>217.46</td>\n",
       "      <td>212.74</td>\n",
       "      <td>213.02</td>\n",
       "      <td>29346737</td>\n",
       "      <td>low</td>\n",
       "    </tr>\n",
       "    <tr>\n",
       "      <th>2021-01-15</th>\n",
       "      <td>213.52</td>\n",
       "      <td>214.51</td>\n",
       "      <td>212.03</td>\n",
       "      <td>212.65</td>\n",
       "      <td>31746512</td>\n",
       "      <td>low</td>\n",
       "    </tr>\n",
       "    <tr>\n",
       "      <th>2021-01-19</th>\n",
       "      <td>213.75</td>\n",
       "      <td>216.98</td>\n",
       "      <td>212.63</td>\n",
       "      <td>216.44</td>\n",
       "      <td>30480859</td>\n",
       "      <td>low</td>\n",
       "    </tr>\n",
       "    <tr>\n",
       "      <th>2021-01-20</th>\n",
       "      <td>217.70</td>\n",
       "      <td>225.79</td>\n",
       "      <td>217.29</td>\n",
       "      <td>224.34</td>\n",
       "      <td>37777260</td>\n",
       "      <td>low</td>\n",
       "    </tr>\n",
       "  </tbody>\n",
       "</table>\n",
       "</div>"
      ],
      "text/plain": [
       "              Open    High     Low   Close    Volume trading_volume\n",
       "Date                                                               \n",
       "2021-01-11  218.47  218.91  216.73  217.49  23047029            low\n",
       "2021-01-12  216.50  217.10  213.32  214.93  23249336            low\n",
       "2021-01-13  214.02  216.76  213.93  216.34  20087080            low\n",
       "2021-01-14  215.91  217.46  212.74  213.02  29346737            low\n",
       "2021-01-15  213.52  214.51  212.03  212.65  31746512            low\n",
       "2021-01-19  213.75  216.98  212.63  216.44  30480859            low\n",
       "2021-01-20  217.70  225.79  217.29  224.34  37777260            low"
      ]
     },
     "execution_count": 48,
     "metadata": {},
     "output_type": "execute_result"
    }
   ],
   "source": [
    "microsoft['2021-01-11':'2021-01-20']"
   ]
  },
  {
   "cell_type": "markdown",
   "id": "e2d7a679",
   "metadata": {},
   "source": [
    "Jika kita menginginkan untuk menampilkan **beginning** dan **end**, Pandas memiliki attribute **first()** dan **last()**"
   ]
  },
  {
   "cell_type": "code",
   "execution_count": 49,
   "id": "597c5a3b",
   "metadata": {},
   "outputs": [
    {
     "name": "stderr",
     "output_type": "stream",
     "text": [
      "C:\\Users\\YUAN_D~1\\AppData\\Local\\Temp/ipykernel_4904/4167484841.py:1: FutureWarning: Indexing a DataFrame with a datetimelike index using a single string to slice the rows, like `frame[string]`, is deprecated and will be removed in a future version. Use `frame.loc[string]` instead.\n",
      "  microsoft['2021'].first('1W')\n"
     ]
    },
    {
     "data": {
      "text/html": [
       "<div>\n",
       "<style scoped>\n",
       "    .dataframe tbody tr th:only-of-type {\n",
       "        vertical-align: middle;\n",
       "    }\n",
       "\n",
       "    .dataframe tbody tr th {\n",
       "        vertical-align: top;\n",
       "    }\n",
       "\n",
       "    .dataframe thead th {\n",
       "        text-align: right;\n",
       "    }\n",
       "</style>\n",
       "<table border=\"1\" class=\"dataframe\">\n",
       "  <thead>\n",
       "    <tr style=\"text-align: right;\">\n",
       "      <th></th>\n",
       "      <th>Open</th>\n",
       "      <th>High</th>\n",
       "      <th>Low</th>\n",
       "      <th>Close</th>\n",
       "      <th>Volume</th>\n",
       "      <th>trading_volume</th>\n",
       "    </tr>\n",
       "    <tr>\n",
       "      <th>Date</th>\n",
       "      <th></th>\n",
       "      <th></th>\n",
       "      <th></th>\n",
       "      <th></th>\n",
       "      <th></th>\n",
       "      <th></th>\n",
       "    </tr>\n",
       "  </thead>\n",
       "  <tbody>\n",
       "    <tr>\n",
       "      <th>2021-01-04</th>\n",
       "      <td>222.53</td>\n",
       "      <td>223.00</td>\n",
       "      <td>214.81</td>\n",
       "      <td>217.69</td>\n",
       "      <td>37130139</td>\n",
       "      <td>low</td>\n",
       "    </tr>\n",
       "    <tr>\n",
       "      <th>2021-01-05</th>\n",
       "      <td>217.26</td>\n",
       "      <td>218.52</td>\n",
       "      <td>215.70</td>\n",
       "      <td>217.90</td>\n",
       "      <td>23822953</td>\n",
       "      <td>low</td>\n",
       "    </tr>\n",
       "    <tr>\n",
       "      <th>2021-01-06</th>\n",
       "      <td>212.17</td>\n",
       "      <td>216.49</td>\n",
       "      <td>211.94</td>\n",
       "      <td>212.25</td>\n",
       "      <td>35930653</td>\n",
       "      <td>low</td>\n",
       "    </tr>\n",
       "    <tr>\n",
       "      <th>2021-01-07</th>\n",
       "      <td>214.04</td>\n",
       "      <td>219.34</td>\n",
       "      <td>213.71</td>\n",
       "      <td>218.29</td>\n",
       "      <td>27694480</td>\n",
       "      <td>low</td>\n",
       "    </tr>\n",
       "    <tr>\n",
       "      <th>2021-01-08</th>\n",
       "      <td>218.68</td>\n",
       "      <td>220.58</td>\n",
       "      <td>217.03</td>\n",
       "      <td>219.62</td>\n",
       "      <td>22956206</td>\n",
       "      <td>low</td>\n",
       "    </tr>\n",
       "  </tbody>\n",
       "</table>\n",
       "</div>"
      ],
      "text/plain": [
       "              Open    High     Low   Close    Volume trading_volume\n",
       "Date                                                               \n",
       "2021-01-04  222.53  223.00  214.81  217.69  37130139            low\n",
       "2021-01-05  217.26  218.52  215.70  217.90  23822953            low\n",
       "2021-01-06  212.17  216.49  211.94  212.25  35930653            low\n",
       "2021-01-07  214.04  219.34  213.71  218.29  27694480            low\n",
       "2021-01-08  218.68  220.58  217.03  219.62  22956206            low"
      ]
     },
     "execution_count": 49,
     "metadata": {},
     "output_type": "execute_result"
    }
   ],
   "source": [
    "microsoft['2021'].first('1W')"
   ]
  },
  {
   "cell_type": "markdown",
   "id": "4a6058ac",
   "metadata": {},
   "source": [
    "Jika kita ingin menampilkan harga saham minggu terakhir"
   ]
  },
  {
   "cell_type": "code",
   "execution_count": 51,
   "id": "288e6765",
   "metadata": {},
   "outputs": [
    {
     "name": "stderr",
     "output_type": "stream",
     "text": [
      "C:\\Users\\YUAN_D~1\\AppData\\Local\\Temp/ipykernel_4904/2093379717.py:1: FutureWarning: Indexing a DataFrame with a datetimelike index using a single string to slice the rows, like `frame[string]`, is deprecated and will be removed in a future version. Use `frame.loc[string]` instead.\n",
      "  microsoft['2021'].last('1W')\n"
     ]
    },
    {
     "data": {
      "text/html": [
       "<div>\n",
       "<style scoped>\n",
       "    .dataframe tbody tr th:only-of-type {\n",
       "        vertical-align: middle;\n",
       "    }\n",
       "\n",
       "    .dataframe tbody tr th {\n",
       "        vertical-align: top;\n",
       "    }\n",
       "\n",
       "    .dataframe thead th {\n",
       "        text-align: right;\n",
       "    }\n",
       "</style>\n",
       "<table border=\"1\" class=\"dataframe\">\n",
       "  <thead>\n",
       "    <tr style=\"text-align: right;\">\n",
       "      <th></th>\n",
       "      <th>Open</th>\n",
       "      <th>High</th>\n",
       "      <th>Low</th>\n",
       "      <th>Close</th>\n",
       "      <th>Volume</th>\n",
       "      <th>trading_volume</th>\n",
       "    </tr>\n",
       "    <tr>\n",
       "      <th>Date</th>\n",
       "      <th></th>\n",
       "      <th></th>\n",
       "      <th></th>\n",
       "      <th></th>\n",
       "      <th></th>\n",
       "      <th></th>\n",
       "    </tr>\n",
       "  </thead>\n",
       "  <tbody>\n",
       "    <tr>\n",
       "      <th>2021-03-29</th>\n",
       "      <td>236.59</td>\n",
       "      <td>236.80</td>\n",
       "      <td>231.88</td>\n",
       "      <td>235.24</td>\n",
       "      <td>25227455</td>\n",
       "      <td>low</td>\n",
       "    </tr>\n",
       "    <tr>\n",
       "      <th>2021-03-30</th>\n",
       "      <td>233.53</td>\n",
       "      <td>233.85</td>\n",
       "      <td>231.10</td>\n",
       "      <td>231.85</td>\n",
       "      <td>24792012</td>\n",
       "      <td>low</td>\n",
       "    </tr>\n",
       "    <tr>\n",
       "      <th>2021-03-31</th>\n",
       "      <td>232.91</td>\n",
       "      <td>239.10</td>\n",
       "      <td>232.39</td>\n",
       "      <td>235.77</td>\n",
       "      <td>43623471</td>\n",
       "      <td>low</td>\n",
       "    </tr>\n",
       "  </tbody>\n",
       "</table>\n",
       "</div>"
      ],
      "text/plain": [
       "              Open    High     Low   Close    Volume trading_volume\n",
       "Date                                                               \n",
       "2021-03-29  236.59  236.80  231.88  235.24  25227455            low\n",
       "2021-03-30  233.53  233.85  231.10  231.85  24792012            low\n",
       "2021-03-31  232.91  239.10  232.39  235.77  43623471            low"
      ]
     },
     "execution_count": 51,
     "metadata": {},
     "output_type": "execute_result"
    }
   ],
   "source": [
    "microsoft['2021'].last('1W')"
   ]
  },
  {
   "cell_type": "code",
   "execution_count": 54,
   "id": "00d259f9",
   "metadata": {},
   "outputs": [
    {
     "name": "stderr",
     "output_type": "stream",
     "text": [
      "C:\\Users\\YUAN_D~1\\AppData\\Local\\Temp/ipykernel_4904/3321417734.py:1: FutureWarning: Indexing a DataFrame with a datetimelike index using a single string to slice the rows, like `frame[string]`, is deprecated and will be removed in a future version. Use `frame.loc[string]` instead.\n",
      "  microsoft['2021'].groupby(pd.Grouper(freq='1W')).agg({'Open':'first', 'High':'max','Low':'min','Close':'last','Volume':'sum'})\n"
     ]
    },
    {
     "data": {
      "text/html": [
       "<div>\n",
       "<style scoped>\n",
       "    .dataframe tbody tr th:only-of-type {\n",
       "        vertical-align: middle;\n",
       "    }\n",
       "\n",
       "    .dataframe tbody tr th {\n",
       "        vertical-align: top;\n",
       "    }\n",
       "\n",
       "    .dataframe thead th {\n",
       "        text-align: right;\n",
       "    }\n",
       "</style>\n",
       "<table border=\"1\" class=\"dataframe\">\n",
       "  <thead>\n",
       "    <tr style=\"text-align: right;\">\n",
       "      <th></th>\n",
       "      <th>Open</th>\n",
       "      <th>High</th>\n",
       "      <th>Low</th>\n",
       "      <th>Close</th>\n",
       "      <th>Volume</th>\n",
       "    </tr>\n",
       "    <tr>\n",
       "      <th>Date</th>\n",
       "      <th></th>\n",
       "      <th></th>\n",
       "      <th></th>\n",
       "      <th></th>\n",
       "      <th></th>\n",
       "    </tr>\n",
       "  </thead>\n",
       "  <tbody>\n",
       "    <tr>\n",
       "      <th>2021-01-10</th>\n",
       "      <td>222.53</td>\n",
       "      <td>223.00</td>\n",
       "      <td>211.94</td>\n",
       "      <td>219.62</td>\n",
       "      <td>147534431</td>\n",
       "    </tr>\n",
       "    <tr>\n",
       "      <th>2021-01-17</th>\n",
       "      <td>218.47</td>\n",
       "      <td>218.91</td>\n",
       "      <td>212.03</td>\n",
       "      <td>212.65</td>\n",
       "      <td>127476694</td>\n",
       "    </tr>\n",
       "    <tr>\n",
       "      <th>2021-01-24</th>\n",
       "      <td>213.75</td>\n",
       "      <td>230.07</td>\n",
       "      <td>212.63</td>\n",
       "      <td>225.95</td>\n",
       "      <td>129180335</td>\n",
       "    </tr>\n",
       "    <tr>\n",
       "      <th>2021-01-31</th>\n",
       "      <td>229.12</td>\n",
       "      <td>242.64</td>\n",
       "      <td>224.22</td>\n",
       "      <td>231.96</td>\n",
       "      <td>243806631</td>\n",
       "    </tr>\n",
       "    <tr>\n",
       "      <th>2021-02-07</th>\n",
       "      <td>235.06</td>\n",
       "      <td>245.09</td>\n",
       "      <td>232.43</td>\n",
       "      <td>242.20</td>\n",
       "      <td>129739486</td>\n",
       "    </tr>\n",
       "    <tr>\n",
       "      <th>2021-02-14</th>\n",
       "      <td>243.15</td>\n",
       "      <td>245.92</td>\n",
       "      <td>240.81</td>\n",
       "      <td>244.99</td>\n",
       "      <td>100275726</td>\n",
       "    </tr>\n",
       "    <tr>\n",
       "      <th>2021-02-21</th>\n",
       "      <td>245.03</td>\n",
       "      <td>246.13</td>\n",
       "      <td>240.18</td>\n",
       "      <td>240.97</td>\n",
       "      <td>90589762</td>\n",
       "    </tr>\n",
       "    <tr>\n",
       "      <th>2021-02-28</th>\n",
       "      <td>237.42</td>\n",
       "      <td>237.93</td>\n",
       "      <td>227.88</td>\n",
       "      <td>232.38</td>\n",
       "      <td>170376848</td>\n",
       "    </tr>\n",
       "    <tr>\n",
       "      <th>2021-03-07</th>\n",
       "      <td>235.90</td>\n",
       "      <td>237.47</td>\n",
       "      <td>224.26</td>\n",
       "      <td>231.60</td>\n",
       "      <td>168775377</td>\n",
       "    </tr>\n",
       "    <tr>\n",
       "      <th>2021-03-14</th>\n",
       "      <td>231.37</td>\n",
       "      <td>239.17</td>\n",
       "      <td>227.13</td>\n",
       "      <td>235.75</td>\n",
       "      <td>150656031</td>\n",
       "    </tr>\n",
       "    <tr>\n",
       "      <th>2021-03-21</th>\n",
       "      <td>234.96</td>\n",
       "      <td>240.06</td>\n",
       "      <td>229.35</td>\n",
       "      <td>230.35</td>\n",
       "      <td>164979946</td>\n",
       "    </tr>\n",
       "    <tr>\n",
       "      <th>2021-03-28</th>\n",
       "      <td>230.27</td>\n",
       "      <td>241.05</td>\n",
       "      <td>230.14</td>\n",
       "      <td>236.48</td>\n",
       "      <td>146927214</td>\n",
       "    </tr>\n",
       "    <tr>\n",
       "      <th>2021-04-04</th>\n",
       "      <td>236.59</td>\n",
       "      <td>239.10</td>\n",
       "      <td>231.10</td>\n",
       "      <td>235.77</td>\n",
       "      <td>93642938</td>\n",
       "    </tr>\n",
       "  </tbody>\n",
       "</table>\n",
       "</div>"
      ],
      "text/plain": [
       "              Open    High     Low   Close     Volume\n",
       "Date                                                 \n",
       "2021-01-10  222.53  223.00  211.94  219.62  147534431\n",
       "2021-01-17  218.47  218.91  212.03  212.65  127476694\n",
       "2021-01-24  213.75  230.07  212.63  225.95  129180335\n",
       "2021-01-31  229.12  242.64  224.22  231.96  243806631\n",
       "2021-02-07  235.06  245.09  232.43  242.20  129739486\n",
       "2021-02-14  243.15  245.92  240.81  244.99  100275726\n",
       "2021-02-21  245.03  246.13  240.18  240.97   90589762\n",
       "2021-02-28  237.42  237.93  227.88  232.38  170376848\n",
       "2021-03-07  235.90  237.47  224.26  231.60  168775377\n",
       "2021-03-14  231.37  239.17  227.13  235.75  150656031\n",
       "2021-03-21  234.96  240.06  229.35  230.35  164979946\n",
       "2021-03-28  230.27  241.05  230.14  236.48  146927214\n",
       "2021-04-04  236.59  239.10  231.10  235.77   93642938"
      ]
     },
     "execution_count": 54,
     "metadata": {},
     "output_type": "execute_result"
    }
   ],
   "source": [
    "microsoft['2021'].groupby(pd.Grouper(freq='1W')).agg({'Open':'first', 'High':'max','Low':'min','Close':'last','Volume':'sum'})"
   ]
  },
  {
   "cell_type": "markdown",
   "id": "0dcfbaa0",
   "metadata": {},
   "source": [
    "## Shifting for Lagged Data "
   ]
  },
  {
   "cell_type": "markdown",
   "id": "5a25367a",
   "metadata": {},
   "source": [
    "Lagged data adalah data yang nilainya muncul dari nilai sebelumnya. Untuk melakukan shifting data, Pandas memiliki atribut .shift(). Misalkan kita ingin melihat harga saham di penutupan hari sebelumnya. Dengan menggunakan syntaks seperti berikut:"
   ]
  },
  {
   "cell_type": "code",
   "execution_count": 55,
   "id": "d3507a57",
   "metadata": {},
   "outputs": [
    {
     "data": {
      "text/html": [
       "<div>\n",
       "<style scoped>\n",
       "    .dataframe tbody tr th:only-of-type {\n",
       "        vertical-align: middle;\n",
       "    }\n",
       "\n",
       "    .dataframe tbody tr th {\n",
       "        vertical-align: top;\n",
       "    }\n",
       "\n",
       "    .dataframe thead th {\n",
       "        text-align: right;\n",
       "    }\n",
       "</style>\n",
       "<table border=\"1\" class=\"dataframe\">\n",
       "  <thead>\n",
       "    <tr style=\"text-align: right;\">\n",
       "      <th></th>\n",
       "      <th>Open</th>\n",
       "      <th>High</th>\n",
       "      <th>Low</th>\n",
       "      <th>Close</th>\n",
       "      <th>Volume</th>\n",
       "      <th>trading_volume</th>\n",
       "      <th>prior_close</th>\n",
       "      <th>after_hours_change_in_price</th>\n",
       "      <th>abs_change</th>\n",
       "    </tr>\n",
       "    <tr>\n",
       "      <th>Date</th>\n",
       "      <th></th>\n",
       "      <th></th>\n",
       "      <th></th>\n",
       "      <th></th>\n",
       "      <th></th>\n",
       "      <th></th>\n",
       "      <th></th>\n",
       "      <th></th>\n",
       "      <th></th>\n",
       "    </tr>\n",
       "  </thead>\n",
       "  <tbody>\n",
       "    <tr>\n",
       "      <th>2020-03-16</th>\n",
       "      <td>140.00</td>\n",
       "      <td>149.35</td>\n",
       "      <td>135.00</td>\n",
       "      <td>135.42</td>\n",
       "      <td>87905868</td>\n",
       "      <td>medium</td>\n",
       "      <td>158.83</td>\n",
       "      <td>-18.83</td>\n",
       "      <td>18.83</td>\n",
       "    </tr>\n",
       "    <tr>\n",
       "      <th>2020-02-24</th>\n",
       "      <td>167.77</td>\n",
       "      <td>174.55</td>\n",
       "      <td>163.23</td>\n",
       "      <td>170.89</td>\n",
       "      <td>68311066</td>\n",
       "      <td>medium</td>\n",
       "      <td>178.59</td>\n",
       "      <td>-10.82</td>\n",
       "      <td>10.82</td>\n",
       "    </tr>\n",
       "    <tr>\n",
       "      <th>2020-03-09</th>\n",
       "      <td>151.00</td>\n",
       "      <td>157.75</td>\n",
       "      <td>150.00</td>\n",
       "      <td>150.62</td>\n",
       "      <td>70419274</td>\n",
       "      <td>medium</td>\n",
       "      <td>161.57</td>\n",
       "      <td>-10.57</td>\n",
       "      <td>10.57</td>\n",
       "    </tr>\n",
       "    <tr>\n",
       "      <th>2020-03-18</th>\n",
       "      <td>138.00</td>\n",
       "      <td>146.00</td>\n",
       "      <td>135.02</td>\n",
       "      <td>140.40</td>\n",
       "      <td>81593173</td>\n",
       "      <td>medium</td>\n",
       "      <td>146.57</td>\n",
       "      <td>-8.57</td>\n",
       "      <td>8.57</td>\n",
       "    </tr>\n",
       "    <tr>\n",
       "      <th>2020-03-13</th>\n",
       "      <td>147.50</td>\n",
       "      <td>161.91</td>\n",
       "      <td>140.73</td>\n",
       "      <td>158.83</td>\n",
       "      <td>92727446</td>\n",
       "      <td>high</td>\n",
       "      <td>139.06</td>\n",
       "      <td>8.44</td>\n",
       "      <td>8.44</td>\n",
       "    </tr>\n",
       "  </tbody>\n",
       "</table>\n",
       "</div>"
      ],
      "text/plain": [
       "              Open    High     Low   Close    Volume trading_volume  \\\n",
       "Date                                                                  \n",
       "2020-03-16  140.00  149.35  135.00  135.42  87905868         medium   \n",
       "2020-02-24  167.77  174.55  163.23  170.89  68311066         medium   \n",
       "2020-03-09  151.00  157.75  150.00  150.62  70419274         medium   \n",
       "2020-03-18  138.00  146.00  135.02  140.40  81593173         medium   \n",
       "2020-03-13  147.50  161.91  140.73  158.83  92727446           high   \n",
       "\n",
       "            prior_close  after_hours_change_in_price  abs_change  \n",
       "Date                                                              \n",
       "2020-03-16       158.83                       -18.83       18.83  \n",
       "2020-02-24       178.59                       -10.82       10.82  \n",
       "2020-03-09       161.57                       -10.57       10.57  \n",
       "2020-03-18       146.57                        -8.57        8.57  \n",
       "2020-03-13       139.06                         8.44        8.44  "
      ]
     },
     "execution_count": 55,
     "metadata": {},
     "output_type": "execute_result"
    }
   ],
   "source": [
    "microsoft.assign(prior_close=lambda x: x.Close.shift(), after_hours_change_in_price=lambda x: x.Open - x.prior_close,abs_change=lambda x: x.after_hours_change_in_price.abs()\n",
    ").nlargest(5, 'abs_change')\n",
    " "
   ]
  },
  {
   "cell_type": "markdown",
   "id": "f7eea870",
   "metadata": {},
   "source": [
    "## Differenced Data "
   ]
  },
  {
   "cell_type": "markdown",
   "id": "fd778213",
   "metadata": {},
   "source": [
    "untuk melihat bagaimana perubahan harga setiap harinya. Pandas memiliki atribut .diff()"
   ]
  },
  {
   "cell_type": "code",
   "execution_count": 60,
   "id": "8a11497c",
   "metadata": {},
   "outputs": [
    {
     "data": {
      "text/html": [
       "<div>\n",
       "<style scoped>\n",
       "    .dataframe tbody tr th:only-of-type {\n",
       "        vertical-align: middle;\n",
       "    }\n",
       "\n",
       "    .dataframe tbody tr th {\n",
       "        vertical-align: top;\n",
       "    }\n",
       "\n",
       "    .dataframe thead th {\n",
       "        text-align: right;\n",
       "    }\n",
       "</style>\n",
       "<table border=\"1\" class=\"dataframe\">\n",
       "  <thead>\n",
       "    <tr style=\"text-align: right;\">\n",
       "      <th></th>\n",
       "      <th>Open</th>\n",
       "      <th>High</th>\n",
       "      <th>Low</th>\n",
       "      <th>Close</th>\n",
       "      <th>Volume</th>\n",
       "    </tr>\n",
       "    <tr>\n",
       "      <th>Date</th>\n",
       "      <th></th>\n",
       "      <th></th>\n",
       "      <th></th>\n",
       "      <th></th>\n",
       "      <th></th>\n",
       "    </tr>\n",
       "  </thead>\n",
       "  <tbody>\n",
       "    <tr>\n",
       "      <th>2015-04-01</th>\n",
       "      <td>NaN</td>\n",
       "      <td>NaN</td>\n",
       "      <td>NaN</td>\n",
       "      <td>NaN</td>\n",
       "      <td>NaN</td>\n",
       "    </tr>\n",
       "    <tr>\n",
       "      <th>2015-04-02</th>\n",
       "      <td>0.06</td>\n",
       "      <td>-0.02</td>\n",
       "      <td>-0.19</td>\n",
       "      <td>-0.43</td>\n",
       "      <td>622154.0</td>\n",
       "    </tr>\n",
       "    <tr>\n",
       "      <th>2015-04-06</th>\n",
       "      <td>-0.32</td>\n",
       "      <td>1.04</td>\n",
       "      <td>0.06</td>\n",
       "      <td>1.26</td>\n",
       "      <td>1736216.0</td>\n",
       "    </tr>\n",
       "    <tr>\n",
       "      <th>2015-04-07</th>\n",
       "      <td>1.27</td>\n",
       "      <td>0.13</td>\n",
       "      <td>1.13</td>\n",
       "      <td>-0.02</td>\n",
       "      <td>-10414317.0</td>\n",
       "    </tr>\n",
       "    <tr>\n",
       "      <th>2015-04-08</th>\n",
       "      <td>-0.13</td>\n",
       "      <td>-0.22</td>\n",
       "      <td>-0.27</td>\n",
       "      <td>-0.11</td>\n",
       "      <td>-4055937.0</td>\n",
       "    </tr>\n",
       "  </tbody>\n",
       "</table>\n",
       "</div>"
      ],
      "text/plain": [
       "            Open  High   Low  Close      Volume\n",
       "Date                                           \n",
       "2015-04-01   NaN   NaN   NaN    NaN         NaN\n",
       "2015-04-02  0.06 -0.02 -0.19  -0.43    622154.0\n",
       "2015-04-06 -0.32  1.04  0.06   1.26   1736216.0\n",
       "2015-04-07  1.27  0.13  1.13  -0.02 -10414317.0\n",
       "2015-04-08 -0.13 -0.22 -0.27  -0.11  -4055937.0"
      ]
     },
     "execution_count": 60,
     "metadata": {},
     "output_type": "execute_result"
    }
   ],
   "source": [
    "microsoft.drop(columns='trading_volume').diff().head()"
   ]
  },
  {
   "cell_type": "markdown",
   "id": "4988bdd0",
   "metadata": {},
   "source": [
    "## Resampling "
   ]
  },
  {
   "cell_type": "markdown",
   "id": "f274cd1a",
   "metadata": {},
   "source": [
    "Terkadang data yang begitu detail tidak kondusif untuk kita analisis. Misalkan kita punya seluruh data tiap menit harga saham microsoft di tahun 2021. Kemudian kita lakukan visualisasi, maka terkadang visual yang kita buat tidak memberikan makna apapun"
   ]
  },
  {
   "cell_type": "markdown",
   "id": "042dd088",
   "metadata": {},
   "source": [
    "Untuk menampilkan visual dengan frekuensi tertentu, kita perlu melakukan resampling data dengan menggunakan resample(), sebagai contoh:"
   ]
  },
  {
   "cell_type": "code",
   "execution_count": 65,
   "id": "3c1c802a",
   "metadata": {},
   "outputs": [
    {
     "ename": "SyntaxError",
     "evalue": "invalid syntax (Temp/ipykernel_4904/1108391538.py, line 1)",
     "output_type": "error",
     "traceback": [
      "\u001b[1;36m  File \u001b[1;32m\"C:\\Users\\YUAN_D~1\\AppData\\Local\\Temp/ipykernel_4904/1108391538.py\"\u001b[1;36m, line \u001b[1;32m1\u001b[0m\n\u001b[1;33m    stock_data_per_minute.resample('1D').agg('Open': 'First', 'High': 'Max', 'Low': 'Min','Close': 'Last', 'Volume': 'sum'\u001b[0m\n\u001b[1;37m                                                   ^\u001b[0m\n\u001b[1;31mSyntaxError\u001b[0m\u001b[1;31m:\u001b[0m invalid syntax\n"
     ]
    }
   ],
   "source": [
    "stock_data_per_minute.resample('1D').agg('Open': 'First', 'High': 'Max', 'Low': 'Min','Close': 'Last', 'Volume': 'sum'\n",
    "})"
   ]
  },
  {
   "cell_type": "code",
   "execution_count": 66,
   "id": "2d247872",
   "metadata": {},
   "outputs": [
    {
     "data": {
      "text/html": [
       "<div>\n",
       "<style scoped>\n",
       "    .dataframe tbody tr th:only-of-type {\n",
       "        vertical-align: middle;\n",
       "    }\n",
       "\n",
       "    .dataframe tbody tr th {\n",
       "        vertical-align: top;\n",
       "    }\n",
       "\n",
       "    .dataframe thead th {\n",
       "        text-align: right;\n",
       "    }\n",
       "</style>\n",
       "<table border=\"1\" class=\"dataframe\">\n",
       "  <thead>\n",
       "    <tr style=\"text-align: right;\">\n",
       "      <th></th>\n",
       "      <th>Open</th>\n",
       "      <th>High</th>\n",
       "      <th>Low</th>\n",
       "      <th>Close</th>\n",
       "      <th>Volume</th>\n",
       "    </tr>\n",
       "    <tr>\n",
       "      <th>Date</th>\n",
       "      <th></th>\n",
       "      <th></th>\n",
       "      <th></th>\n",
       "      <th></th>\n",
       "      <th></th>\n",
       "    </tr>\n",
       "  </thead>\n",
       "  <tbody>\n",
       "    <tr>\n",
       "      <th>2015-06-30</th>\n",
       "      <td>45.564921</td>\n",
       "      <td>46.036032</td>\n",
       "      <td>45.221429</td>\n",
       "      <td>45.628730</td>\n",
       "      <td>3.448351e+07</td>\n",
       "    </tr>\n",
       "    <tr>\n",
       "      <th>2015-09-30</th>\n",
       "      <td>44.841875</td>\n",
       "      <td>45.378125</td>\n",
       "      <td>44.409219</td>\n",
       "      <td>44.904531</td>\n",
       "      <td>3.398493e+07</td>\n",
       "    </tr>\n",
       "    <tr>\n",
       "      <th>2015-12-31</th>\n",
       "      <td>52.511094</td>\n",
       "      <td>53.057031</td>\n",
       "      <td>52.062188</td>\n",
       "      <td>52.622344</td>\n",
       "      <td>3.614105e+07</td>\n",
       "    </tr>\n",
       "    <tr>\n",
       "      <th>2016-03-31</th>\n",
       "      <td>52.428852</td>\n",
       "      <td>52.981967</td>\n",
       "      <td>51.762295</td>\n",
       "      <td>52.421803</td>\n",
       "      <td>3.895300e+07</td>\n",
       "    </tr>\n",
       "    <tr>\n",
       "      <th>2016-06-30</th>\n",
       "      <td>51.892656</td>\n",
       "      <td>52.362031</td>\n",
       "      <td>51.496875</td>\n",
       "      <td>51.964687</td>\n",
       "      <td>3.209191e+07</td>\n",
       "    </tr>\n",
       "    <tr>\n",
       "      <th>2016-09-30</th>\n",
       "      <td>56.385625</td>\n",
       "      <td>56.746875</td>\n",
       "      <td>56.079687</td>\n",
       "      <td>56.447187</td>\n",
       "      <td>2.564878e+07</td>\n",
       "    </tr>\n",
       "    <tr>\n",
       "      <th>2016-12-31</th>\n",
       "      <td>60.160635</td>\n",
       "      <td>60.569048</td>\n",
       "      <td>59.726349</td>\n",
       "      <td>60.146984</td>\n",
       "      <td>2.764251e+07</td>\n",
       "    </tr>\n",
       "    <tr>\n",
       "      <th>2017-03-31</th>\n",
       "      <td>64.060323</td>\n",
       "      <td>64.394032</td>\n",
       "      <td>63.695645</td>\n",
       "      <td>64.086290</td>\n",
       "      <td>2.297344e+07</td>\n",
       "    </tr>\n",
       "    <tr>\n",
       "      <th>2017-06-30</th>\n",
       "      <td>68.652698</td>\n",
       "      <td>69.028254</td>\n",
       "      <td>68.133968</td>\n",
       "      <td>68.648254</td>\n",
       "      <td>2.508253e+07</td>\n",
       "    </tr>\n",
       "    <tr>\n",
       "      <th>2017-09-30</th>\n",
       "      <td>72.962540</td>\n",
       "      <td>73.452222</td>\n",
       "      <td>72.526984</td>\n",
       "      <td>73.045873</td>\n",
       "      <td>2.046482e+07</td>\n",
       "    </tr>\n",
       "    <tr>\n",
       "      <th>2017-12-31</th>\n",
       "      <td>82.013175</td>\n",
       "      <td>82.503651</td>\n",
       "      <td>81.512063</td>\n",
       "      <td>82.030317</td>\n",
       "      <td>2.123935e+07</td>\n",
       "    </tr>\n",
       "    <tr>\n",
       "      <th>2018-03-31</th>\n",
       "      <td>91.534426</td>\n",
       "      <td>92.538197</td>\n",
       "      <td>90.449016</td>\n",
       "      <td>91.450000</td>\n",
       "      <td>3.361765e+07</td>\n",
       "    </tr>\n",
       "    <tr>\n",
       "      <th>2018-06-30</th>\n",
       "      <td>96.943906</td>\n",
       "      <td>97.776250</td>\n",
       "      <td>95.965937</td>\n",
       "      <td>96.920312</td>\n",
       "      <td>2.781659e+07</td>\n",
       "    </tr>\n",
       "    <tr>\n",
       "      <th>2018-09-30</th>\n",
       "      <td>108.257302</td>\n",
       "      <td>109.083016</td>\n",
       "      <td>107.469365</td>\n",
       "      <td>108.407460</td>\n",
       "      <td>2.391092e+07</td>\n",
       "    </tr>\n",
       "    <tr>\n",
       "      <th>2018-12-31</th>\n",
       "      <td>107.507937</td>\n",
       "      <td>108.823651</td>\n",
       "      <td>105.554921</td>\n",
       "      <td>107.119206</td>\n",
       "      <td>4.114388e+07</td>\n",
       "    </tr>\n",
       "    <tr>\n",
       "      <th>2019-03-31</th>\n",
       "      <td>108.868033</td>\n",
       "      <td>109.821639</td>\n",
       "      <td>107.986721</td>\n",
       "      <td>109.102951</td>\n",
       "      <td>2.905485e+07</td>\n",
       "    </tr>\n",
       "    <tr>\n",
       "      <th>2019-06-30</th>\n",
       "      <td>126.852540</td>\n",
       "      <td>127.818571</td>\n",
       "      <td>125.922540</td>\n",
       "      <td>126.955397</td>\n",
       "      <td>2.363017e+07</td>\n",
       "    </tr>\n",
       "    <tr>\n",
       "      <th>2019-09-30</th>\n",
       "      <td>137.703281</td>\n",
       "      <td>138.560313</td>\n",
       "      <td>136.318437</td>\n",
       "      <td>137.513281</td>\n",
       "      <td>2.418401e+07</td>\n",
       "    </tr>\n",
       "    <tr>\n",
       "      <th>2019-12-31</th>\n",
       "      <td>146.870156</td>\n",
       "      <td>147.655937</td>\n",
       "      <td>145.931719</td>\n",
       "      <td>146.911563</td>\n",
       "      <td>2.175536e+07</td>\n",
       "    </tr>\n",
       "    <tr>\n",
       "      <th>2020-03-31</th>\n",
       "      <td>164.193226</td>\n",
       "      <td>167.361774</td>\n",
       "      <td>161.369194</td>\n",
       "      <td>164.449032</td>\n",
       "      <td>4.935651e+07</td>\n",
       "    </tr>\n",
       "    <tr>\n",
       "      <th>2020-06-30</th>\n",
       "      <td>181.298413</td>\n",
       "      <td>183.630794</td>\n",
       "      <td>178.985714</td>\n",
       "      <td>181.524921</td>\n",
       "      <td>3.871084e+07</td>\n",
       "    </tr>\n",
       "    <tr>\n",
       "      <th>2020-09-30</th>\n",
       "      <td>210.090000</td>\n",
       "      <td>212.650313</td>\n",
       "      <td>207.191875</td>\n",
       "      <td>210.033437</td>\n",
       "      <td>3.486786e+07</td>\n",
       "    </tr>\n",
       "    <tr>\n",
       "      <th>2020-12-31</th>\n",
       "      <td>214.980469</td>\n",
       "      <td>217.154531</td>\n",
       "      <td>212.878437</td>\n",
       "      <td>215.024375</td>\n",
       "      <td>2.812062e+07</td>\n",
       "    </tr>\n",
       "    <tr>\n",
       "      <th>2021-03-31</th>\n",
       "      <td>231.930164</td>\n",
       "      <td>234.408361</td>\n",
       "      <td>229.625902</td>\n",
       "      <td>232.021475</td>\n",
       "      <td>3.055674e+07</td>\n",
       "    </tr>\n",
       "  </tbody>\n",
       "</table>\n",
       "</div>"
      ],
      "text/plain": [
       "                  Open        High         Low       Close        Volume\n",
       "Date                                                                    \n",
       "2015-06-30   45.564921   46.036032   45.221429   45.628730  3.448351e+07\n",
       "2015-09-30   44.841875   45.378125   44.409219   44.904531  3.398493e+07\n",
       "2015-12-31   52.511094   53.057031   52.062188   52.622344  3.614105e+07\n",
       "2016-03-31   52.428852   52.981967   51.762295   52.421803  3.895300e+07\n",
       "2016-06-30   51.892656   52.362031   51.496875   51.964687  3.209191e+07\n",
       "2016-09-30   56.385625   56.746875   56.079687   56.447187  2.564878e+07\n",
       "2016-12-31   60.160635   60.569048   59.726349   60.146984  2.764251e+07\n",
       "2017-03-31   64.060323   64.394032   63.695645   64.086290  2.297344e+07\n",
       "2017-06-30   68.652698   69.028254   68.133968   68.648254  2.508253e+07\n",
       "2017-09-30   72.962540   73.452222   72.526984   73.045873  2.046482e+07\n",
       "2017-12-31   82.013175   82.503651   81.512063   82.030317  2.123935e+07\n",
       "2018-03-31   91.534426   92.538197   90.449016   91.450000  3.361765e+07\n",
       "2018-06-30   96.943906   97.776250   95.965937   96.920312  2.781659e+07\n",
       "2018-09-30  108.257302  109.083016  107.469365  108.407460  2.391092e+07\n",
       "2018-12-31  107.507937  108.823651  105.554921  107.119206  4.114388e+07\n",
       "2019-03-31  108.868033  109.821639  107.986721  109.102951  2.905485e+07\n",
       "2019-06-30  126.852540  127.818571  125.922540  126.955397  2.363017e+07\n",
       "2019-09-30  137.703281  138.560313  136.318437  137.513281  2.418401e+07\n",
       "2019-12-31  146.870156  147.655937  145.931719  146.911563  2.175536e+07\n",
       "2020-03-31  164.193226  167.361774  161.369194  164.449032  4.935651e+07\n",
       "2020-06-30  181.298413  183.630794  178.985714  181.524921  3.871084e+07\n",
       "2020-09-30  210.090000  212.650313  207.191875  210.033437  3.486786e+07\n",
       "2020-12-31  214.980469  217.154531  212.878437  215.024375  2.812062e+07\n",
       "2021-03-31  231.930164  234.408361  229.625902  232.021475  3.055674e+07"
      ]
     },
     "execution_count": 66,
     "metadata": {},
     "output_type": "execute_result"
    }
   ],
   "source": [
    "microsoft.resample('Q').mean()"
   ]
  },
  {
   "cell_type": "markdown",
   "id": "2cfd4f9f",
   "metadata": {},
   "source": [
    "## Time Merging"
   ]
  },
  {
   "cell_type": "code",
   "execution_count": 67,
   "id": "7a32ce1f",
   "metadata": {},
   "outputs": [
    {
     "ename": "NameError",
     "evalue": "name 'fb_prices' is not defined",
     "output_type": "error",
     "traceback": [
      "\u001b[1;31m---------------------------------------------------------------------------\u001b[0m",
      "\u001b[1;31mNameError\u001b[0m                                 Traceback (most recent call last)",
      "\u001b[1;32mC:\\Users\\YUAN_D~1\\AppData\\Local\\Temp/ipykernel_4904/3654193132.py\u001b[0m in \u001b[0;36m<module>\u001b[1;34m\u001b[0m\n\u001b[1;32m----> 1\u001b[1;33m \u001b[0mfb_prices\u001b[0m\u001b[1;33m.\u001b[0m\u001b[0mindex\u001b[0m\u001b[1;33m.\u001b[0m\u001b[0msecond\u001b[0m\u001b[1;33m.\u001b[0m\u001b[0munique\u001b[0m\u001b[1;33m(\u001b[0m\u001b[1;33m)\u001b[0m\u001b[1;33m\u001b[0m\u001b[1;33m\u001b[0m\u001b[0m\n\u001b[0m",
      "\u001b[1;31mNameError\u001b[0m: name 'fb_prices' is not defined"
     ]
    }
   ],
   "source": [
    "fb_prices.index.second.unique()"
   ]
  },
  {
   "cell_type": "code",
   "execution_count": null,
   "id": "c70564cc",
   "metadata": {},
   "outputs": [],
   "source": []
  }
 ],
 "metadata": {
  "kernelspec": {
   "display_name": "Python 3 (ipykernel)",
   "language": "python",
   "name": "python3"
  },
  "language_info": {
   "codemirror_mode": {
    "name": "ipython",
    "version": 3
   },
   "file_extension": ".py",
   "mimetype": "text/x-python",
   "name": "python",
   "nbconvert_exporter": "python",
   "pygments_lexer": "ipython3",
   "version": "3.9.9"
  }
 },
 "nbformat": 4,
 "nbformat_minor": 5
}
