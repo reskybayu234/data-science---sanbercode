{
 "cells": [
  {
   "cell_type": "markdown",
   "id": "cbf4c5a8",
   "metadata": {},
   "source": [
    "# K-Means Clustering"
   ]
  },
  {
   "cell_type": "code",
   "execution_count": 1,
   "id": "9fa975c5",
   "metadata": {},
   "outputs": [],
   "source": [
    "import numpy as np\n",
    "import matplotlib.pyplot as plt\n",
    "import pandas as pd\n",
    "import seaborn as sns\n",
    "from sklearn.preprocessing import StandardScaler\n",
    "from sklearn.cluster import KMeans"
   ]
  },
  {
   "cell_type": "code",
   "execution_count": 2,
   "id": "4d0675f7",
   "metadata": {},
   "outputs": [
    {
     "data": {
      "text/html": [
       "<div>\n",
       "<style scoped>\n",
       "    .dataframe tbody tr th:only-of-type {\n",
       "        vertical-align: middle;\n",
       "    }\n",
       "\n",
       "    .dataframe tbody tr th {\n",
       "        vertical-align: top;\n",
       "    }\n",
       "\n",
       "    .dataframe thead th {\n",
       "        text-align: right;\n",
       "    }\n",
       "</style>\n",
       "<table border=\"1\" class=\"dataframe\">\n",
       "  <thead>\n",
       "    <tr style=\"text-align: right;\">\n",
       "      <th></th>\n",
       "      <th>Observation</th>\n",
       "      <th>Dist_Taxi</th>\n",
       "      <th>Dist_Market</th>\n",
       "      <th>Dist_Hospital</th>\n",
       "      <th>Carpet</th>\n",
       "      <th>Builtup</th>\n",
       "      <th>Parking</th>\n",
       "      <th>City_Category</th>\n",
       "      <th>Rainfall</th>\n",
       "      <th>House_Price</th>\n",
       "    </tr>\n",
       "  </thead>\n",
       "  <tbody>\n",
       "    <tr>\n",
       "      <th>0</th>\n",
       "      <td>1</td>\n",
       "      <td>9796.0</td>\n",
       "      <td>5250.0</td>\n",
       "      <td>10703.0</td>\n",
       "      <td>1659.0</td>\n",
       "      <td>1961.0</td>\n",
       "      <td>Open</td>\n",
       "      <td>CAT B</td>\n",
       "      <td>530</td>\n",
       "      <td>6649000</td>\n",
       "    </tr>\n",
       "    <tr>\n",
       "      <th>1</th>\n",
       "      <td>2</td>\n",
       "      <td>8294.0</td>\n",
       "      <td>8186.0</td>\n",
       "      <td>12694.0</td>\n",
       "      <td>1461.0</td>\n",
       "      <td>1752.0</td>\n",
       "      <td>Not Provided</td>\n",
       "      <td>CAT B</td>\n",
       "      <td>210</td>\n",
       "      <td>3982000</td>\n",
       "    </tr>\n",
       "    <tr>\n",
       "      <th>2</th>\n",
       "      <td>3</td>\n",
       "      <td>11001.0</td>\n",
       "      <td>14399.0</td>\n",
       "      <td>16991.0</td>\n",
       "      <td>1340.0</td>\n",
       "      <td>1609.0</td>\n",
       "      <td>Not Provided</td>\n",
       "      <td>CAT A</td>\n",
       "      <td>720</td>\n",
       "      <td>5401000</td>\n",
       "    </tr>\n",
       "    <tr>\n",
       "      <th>3</th>\n",
       "      <td>4</td>\n",
       "      <td>8301.0</td>\n",
       "      <td>11188.0</td>\n",
       "      <td>12289.0</td>\n",
       "      <td>1451.0</td>\n",
       "      <td>1748.0</td>\n",
       "      <td>Covered</td>\n",
       "      <td>CAT B</td>\n",
       "      <td>620</td>\n",
       "      <td>5373000</td>\n",
       "    </tr>\n",
       "    <tr>\n",
       "      <th>4</th>\n",
       "      <td>5</td>\n",
       "      <td>10510.0</td>\n",
       "      <td>12629.0</td>\n",
       "      <td>13921.0</td>\n",
       "      <td>1770.0</td>\n",
       "      <td>2111.0</td>\n",
       "      <td>Not Provided</td>\n",
       "      <td>CAT B</td>\n",
       "      <td>450</td>\n",
       "      <td>4662000</td>\n",
       "    </tr>\n",
       "    <tr>\n",
       "      <th>5</th>\n",
       "      <td>6</td>\n",
       "      <td>6665.0</td>\n",
       "      <td>5142.0</td>\n",
       "      <td>9972.0</td>\n",
       "      <td>1442.0</td>\n",
       "      <td>1733.0</td>\n",
       "      <td>Open</td>\n",
       "      <td>CAT B</td>\n",
       "      <td>760</td>\n",
       "      <td>4526000</td>\n",
       "    </tr>\n",
       "    <tr>\n",
       "      <th>6</th>\n",
       "      <td>7</td>\n",
       "      <td>13153.0</td>\n",
       "      <td>11869.0</td>\n",
       "      <td>17811.0</td>\n",
       "      <td>1542.0</td>\n",
       "      <td>1858.0</td>\n",
       "      <td>No Parking</td>\n",
       "      <td>CAT A</td>\n",
       "      <td>1030</td>\n",
       "      <td>7224000</td>\n",
       "    </tr>\n",
       "    <tr>\n",
       "      <th>7</th>\n",
       "      <td>8</td>\n",
       "      <td>5882.0</td>\n",
       "      <td>9948.0</td>\n",
       "      <td>13315.0</td>\n",
       "      <td>1261.0</td>\n",
       "      <td>1507.0</td>\n",
       "      <td>Open</td>\n",
       "      <td>CAT C</td>\n",
       "      <td>1020</td>\n",
       "      <td>3772000</td>\n",
       "    </tr>\n",
       "    <tr>\n",
       "      <th>8</th>\n",
       "      <td>9</td>\n",
       "      <td>7495.0</td>\n",
       "      <td>11589.0</td>\n",
       "      <td>13370.0</td>\n",
       "      <td>1090.0</td>\n",
       "      <td>1321.0</td>\n",
       "      <td>Not Provided</td>\n",
       "      <td>CAT B</td>\n",
       "      <td>680</td>\n",
       "      <td>4631000</td>\n",
       "    </tr>\n",
       "    <tr>\n",
       "      <th>9</th>\n",
       "      <td>10</td>\n",
       "      <td>8233.0</td>\n",
       "      <td>7067.0</td>\n",
       "      <td>11400.0</td>\n",
       "      <td>1030.0</td>\n",
       "      <td>1235.0</td>\n",
       "      <td>Open</td>\n",
       "      <td>CAT C</td>\n",
       "      <td>1130</td>\n",
       "      <td>4415000</td>\n",
       "    </tr>\n",
       "  </tbody>\n",
       "</table>\n",
       "</div>"
      ],
      "text/plain": [
       "   Observation  Dist_Taxi  Dist_Market  Dist_Hospital  Carpet  Builtup  \\\n",
       "0            1     9796.0       5250.0        10703.0  1659.0   1961.0   \n",
       "1            2     8294.0       8186.0        12694.0  1461.0   1752.0   \n",
       "2            3    11001.0      14399.0        16991.0  1340.0   1609.0   \n",
       "3            4     8301.0      11188.0        12289.0  1451.0   1748.0   \n",
       "4            5    10510.0      12629.0        13921.0  1770.0   2111.0   \n",
       "5            6     6665.0       5142.0         9972.0  1442.0   1733.0   \n",
       "6            7    13153.0      11869.0        17811.0  1542.0   1858.0   \n",
       "7            8     5882.0       9948.0        13315.0  1261.0   1507.0   \n",
       "8            9     7495.0      11589.0        13370.0  1090.0   1321.0   \n",
       "9           10     8233.0       7067.0        11400.0  1030.0   1235.0   \n",
       "\n",
       "        Parking City_Category  Rainfall  House_Price  \n",
       "0          Open         CAT B       530      6649000  \n",
       "1  Not Provided         CAT B       210      3982000  \n",
       "2  Not Provided         CAT A       720      5401000  \n",
       "3       Covered         CAT B       620      5373000  \n",
       "4  Not Provided         CAT B       450      4662000  \n",
       "5          Open         CAT B       760      4526000  \n",
       "6    No Parking         CAT A      1030      7224000  \n",
       "7          Open         CAT C      1020      3772000  \n",
       "8  Not Provided         CAT B       680      4631000  \n",
       "9          Open         CAT C      1130      4415000  "
      ]
     },
     "execution_count": 2,
     "metadata": {},
     "output_type": "execute_result"
    }
   ],
   "source": [
    "dataset=pd.read_csv('price.csv')\n",
    "dataset.head(10)"
   ]
  },
  {
   "cell_type": "code",
   "execution_count": 3,
   "id": "454d605f",
   "metadata": {},
   "outputs": [
    {
     "name": "stdout",
     "output_type": "stream",
     "text": [
      "<class 'pandas.core.frame.DataFrame'>\n",
      "RangeIndex: 936 entries, 0 to 935\n",
      "Data columns (total 10 columns):\n",
      " #   Column         Non-Null Count  Dtype  \n",
      "---  ------         --------------  -----  \n",
      " 0   Observation    936 non-null    int64  \n",
      " 1   Dist_Taxi      923 non-null    float64\n",
      " 2   Dist_Market    923 non-null    float64\n",
      " 3   Dist_Hospital  935 non-null    float64\n",
      " 4   Carpet         928 non-null    float64\n",
      " 5   Builtup        921 non-null    float64\n",
      " 6   Parking        936 non-null    object \n",
      " 7   City_Category  936 non-null    object \n",
      " 8   Rainfall       936 non-null    int64  \n",
      " 9   House_Price    936 non-null    int64  \n",
      "dtypes: float64(5), int64(3), object(2)\n",
      "memory usage: 73.2+ KB\n"
     ]
    }
   ],
   "source": [
    "dataset.info()"
   ]
  },
  {
   "cell_type": "markdown",
   "id": "5fe9e51b",
   "metadata": {},
   "source": [
    "## Finding Missing Value "
   ]
  },
  {
   "cell_type": "code",
   "execution_count": 4,
   "id": "11b6e47c",
   "metadata": {},
   "outputs": [
    {
     "data": {
      "text/plain": [
       "Observation       0\n",
       "Dist_Taxi        13\n",
       "Dist_Market      13\n",
       "Dist_Hospital     1\n",
       "Carpet            8\n",
       "Builtup          15\n",
       "Parking           0\n",
       "City_Category     0\n",
       "Rainfall          0\n",
       "House_Price       0\n",
       "dtype: int64"
      ]
     },
     "execution_count": 4,
     "metadata": {},
     "output_type": "execute_result"
    }
   ],
   "source": [
    "dataset.isnull().sum()"
   ]
  },
  {
   "cell_type": "markdown",
   "id": "6563f80e",
   "metadata": {},
   "source": [
    "## Handling Missing Value"
   ]
  },
  {
   "cell_type": "code",
   "execution_count": 5,
   "id": "b545af53",
   "metadata": {},
   "outputs": [],
   "source": [
    "dataset.fillna(method='ffill', inplace=True)"
   ]
  },
  {
   "cell_type": "markdown",
   "id": "82a164c4",
   "metadata": {},
   "source": [
    "## Finding Outliers "
   ]
  },
  {
   "cell_type": "code",
   "execution_count": 6,
   "id": "0573ade9",
   "metadata": {},
   "outputs": [],
   "source": [
    "def get_lower_upper_bound(x):\n",
    "    q1 = np.percentile(x,25)\n",
    "    q3 = np.percentile(x,75)\n",
    "    iqr = q3 - q1\n",
    "    lower_bound = q1 - (iqr * 1.5)\n",
    "    upper_bound = q3 + (iqr * 1.5)\n",
    "    return lower_bound, upper_bound"
   ]
  },
  {
   "cell_type": "code",
   "execution_count": 7,
   "id": "87e82a48",
   "metadata": {},
   "outputs": [],
   "source": [
    "def get_outlier_iqr(x):\n",
    "    lower_bound, upper_bound = get_lower_upper_bound(x)\n",
    "    return x[np.where((x > upper_bound) | (x < lower_bound))]"
   ]
  },
  {
   "cell_type": "code",
   "execution_count": 8,
   "id": "c10b5f80",
   "metadata": {},
   "outputs": [
    {
     "name": "stdout",
     "output_type": "stream",
     "text": [
      "[150000000  11632000     30000]\n",
      "[ 2617.   932. 12730.  2667.  2647.   951.]\n"
     ]
    }
   ],
   "source": [
    "print(get_outlier_iqr(dataset['House_Price'].values))\n",
    "print(get_outlier_iqr(dataset['Builtup'].values))"
   ]
  },
  {
   "cell_type": "code",
   "execution_count": 11,
   "id": "878c5e31",
   "metadata": {},
   "outputs": [
    {
     "data": {
      "text/plain": [
       "<AxesSubplot:xlabel='House_Price'>"
      ]
     },
     "execution_count": 11,
     "metadata": {},
     "output_type": "execute_result"
    },
    {
     "data": {
      "image/png": "[encoded data removed]",
      "text/plain": [
       "<Figure size 432x288 with 1 Axes>"
      ]
     },
     "metadata": {
      "needs_background": "light"
     },
     "output_type": "display_data"
    }
   ],
   "source": [
    "sns.boxplot(x='House_Price', data=dataset)"
   ]
  },
  {
   "cell_type": "code",
   "execution_count": 12,
   "id": "f640c3fd",
   "metadata": {},
   "outputs": [
    {
     "data": {
      "text/plain": [
       "<AxesSubplot:xlabel='Builtup'>"
      ]
     },
     "execution_count": 12,
     "metadata": {},
     "output_type": "execute_result"
    },
    {
     "data": {
      "image/png": "[encoded data removed]",
      "text/plain": [
       "<Figure size 432x288 with 1 Axes>"
      ]
     },
     "metadata": {
      "needs_background": "light"
     },
     "output_type": "display_data"
    }
   ],
   "source": [
    "sns.boxplot(x='Builtup', data=dataset)"
   ]
  },
  {
   "cell_type": "markdown",
   "id": "df35061c",
   "metadata": {},
   "source": [
    "## Handling Outlier "
   ]
  },
  {
   "cell_type": "code",
   "execution_count": 25,
   "id": "037b954c",
   "metadata": {},
   "outputs": [],
   "source": [
    "def remove_outlier_IQR(df):\n",
    "    Q1 = df.quantile(0.25)\n",
    "    Q3 = df.quantile(0.75)\n",
    "    IQR = Q3 - Q1\n",
    "    df_final = df[~((df<(Q1 -1.5*IQR)) | (df>(Q3+1.5*IQR)))]\n",
    "    return df_final"
   ]
  },
  {
   "cell_type": "code",
   "execution_count": 26,
   "id": "811489a8",
   "metadata": {},
   "outputs": [],
   "source": [
    "df_outlier_remove = remove_outlier_IQR(dataset[['Builtup','House_Price']])\n",
    "\n",
    "df_outlier_remove.dropna(axis=0, inplace = True)"
   ]
  },
  {
   "cell_type": "code",
   "execution_count": 27,
   "id": "c3809e8a",
   "metadata": {},
   "outputs": [
    {
     "data": {
      "text/html": [
       "<div>\n",
       "<style scoped>\n",
       "    .dataframe tbody tr th:only-of-type {\n",
       "        vertical-align: middle;\n",
       "    }\n",
       "\n",
       "    .dataframe tbody tr th {\n",
       "        vertical-align: top;\n",
       "    }\n",
       "\n",
       "    .dataframe thead th {\n",
       "        text-align: right;\n",
       "    }\n",
       "</style>\n",
       "<table border=\"1\" class=\"dataframe\">\n",
       "  <thead>\n",
       "    <tr style=\"text-align: right;\">\n",
       "      <th></th>\n",
       "      <th>Builtup</th>\n",
       "      <th>House_Price</th>\n",
       "    </tr>\n",
       "  </thead>\n",
       "  <tbody>\n",
       "    <tr>\n",
       "      <th>0</th>\n",
       "      <td>1961.0</td>\n",
       "      <td>6649000.0</td>\n",
       "    </tr>\n",
       "    <tr>\n",
       "      <th>1</th>\n",
       "      <td>1752.0</td>\n",
       "      <td>3982000.0</td>\n",
       "    </tr>\n",
       "    <tr>\n",
       "      <th>2</th>\n",
       "      <td>1609.0</td>\n",
       "      <td>5401000.0</td>\n",
       "    </tr>\n",
       "    <tr>\n",
       "      <th>3</th>\n",
       "      <td>1748.0</td>\n",
       "      <td>5373000.0</td>\n",
       "    </tr>\n",
       "    <tr>\n",
       "      <th>4</th>\n",
       "      <td>2111.0</td>\n",
       "      <td>4662000.0</td>\n",
       "    </tr>\n",
       "    <tr>\n",
       "      <th>...</th>\n",
       "      <td>...</td>\n",
       "      <td>...</td>\n",
       "    </tr>\n",
       "    <tr>\n",
       "      <th>931</th>\n",
       "      <td>1429.0</td>\n",
       "      <td>5434000.0</td>\n",
       "    </tr>\n",
       "    <tr>\n",
       "      <th>932</th>\n",
       "      <td>1851.0</td>\n",
       "      <td>7062000.0</td>\n",
       "    </tr>\n",
       "    <tr>\n",
       "      <th>933</th>\n",
       "      <td>1337.0</td>\n",
       "      <td>7227000.0</td>\n",
       "    </tr>\n",
       "    <tr>\n",
       "      <th>934</th>\n",
       "      <td>1851.0</td>\n",
       "      <td>7062000.0</td>\n",
       "    </tr>\n",
       "    <tr>\n",
       "      <th>935</th>\n",
       "      <td>1851.0</td>\n",
       "      <td>7062000.0</td>\n",
       "    </tr>\n",
       "  </tbody>\n",
       "</table>\n",
       "<p>928 rows × 2 columns</p>\n",
       "</div>"
      ],
      "text/plain": [
       "     Builtup  House_Price\n",
       "0     1961.0    6649000.0\n",
       "1     1752.0    3982000.0\n",
       "2     1609.0    5401000.0\n",
       "3     1748.0    5373000.0\n",
       "4     2111.0    4662000.0\n",
       "..       ...          ...\n",
       "931   1429.0    5434000.0\n",
       "932   1851.0    7062000.0\n",
       "933   1337.0    7227000.0\n",
       "934   1851.0    7062000.0\n",
       "935   1851.0    7062000.0\n",
       "\n",
       "[928 rows x 2 columns]"
      ]
     },
     "execution_count": 27,
     "metadata": {},
     "output_type": "execute_result"
    }
   ],
   "source": [
    "df_outlier_remove"
   ]
  },
  {
   "cell_type": "code",
   "execution_count": 28,
   "id": "2bcaba6f",
   "metadata": {},
   "outputs": [
    {
     "data": {
      "text/plain": [
       "Builtup        0\n",
       "House_Price    0\n",
       "dtype: int64"
      ]
     },
     "execution_count": 28,
     "metadata": {},
     "output_type": "execute_result"
    }
   ],
   "source": [
    "df_outlier_remove.isnull().sum()"
   ]
  },
  {
   "cell_type": "code",
   "execution_count": 29,
   "id": "fc609c01",
   "metadata": {},
   "outputs": [
    {
     "data": {
      "text/plain": [
       "<AxesSubplot:xlabel='House_Price'>"
      ]
     },
     "execution_count": 29,
     "metadata": {},
     "output_type": "execute_result"
    },
    {
     "data": {
      "image/png": "[encoded data removed]",
      "text/plain": [
       "<Figure size 432x288 with 1 Axes>"
      ]
     },
     "metadata": {
      "needs_background": "light"
     },
     "output_type": "display_data"
    }
   ],
   "source": [
    "sns.boxplot(x='House_Price', data=df_outlier_remove)"
   ]
  },
  {
   "cell_type": "code",
   "execution_count": 30,
   "id": "0d571eda",
   "metadata": {},
   "outputs": [
    {
     "data": {
      "text/plain": [
       "<AxesSubplot:xlabel='Builtup'>"
      ]
     },
     "execution_count": 30,
     "metadata": {},
     "output_type": "execute_result"
    },
    {
     "data": {
      "image/png": "[encoded data removed]",
      "text/plain": [
       "<Figure size 432x288 with 1 Axes>"
      ]
     },
     "metadata": {
      "needs_background": "light"
     },
     "output_type": "display_data"
    }
   ],
   "source": [
    "sns.boxplot(x='Builtup', data=df_outlier_remove)"
   ]
  },
  {
   "cell_type": "markdown",
   "id": "ddba4a6b",
   "metadata": {},
   "source": [
    "## Scaling Data "
   ]
  },
  {
   "cell_type": "code",
   "execution_count": 43,
   "id": "af2672da",
   "metadata": {},
   "outputs": [
    {
     "data": {
      "image/png": "[encoded data removed]",
      "text/plain": [
       "<Figure size 432x288 with 1 Axes>"
      ]
     },
     "metadata": {
      "needs_background": "light"
     },
     "output_type": "display_data"
    }
   ],
   "source": [
    "# Feature Scaling\n",
    "\n",
    "sc = StandardScaler()\n",
    "dfoutlier_std = sc.fit_transform(df_outlier_remove.astype(float))\n",
    "\n",
    "# clustering with KMeans\n",
    "kmeans1 = KMeans(n_clusters=2, random_state=42).fit(dfoutlier_std)\n",
    "labels1 = kmeans1.labels_\n",
    "\n",
    "new_dfoutlier_std = pd.DataFrame(data=dfoutlier_std, columns=['Builtup','House_Price'])\n",
    "new_dfoutlier_std['label_kmeans1'] = labels1\n",
    "\n",
    "plt.scatter(new_dfoutlier_std.Builtup[new_dfoutlier_std.label_kmeans1 == 0], new_dfoutlier_std['House_Price'][new_dfoutlier_std.label_kmeans1 == 0], c='blue', s=100, edgecolor='green', linestyle='-')\n",
    "plt.scatter(new_dfoutlier_std.Builtup[new_dfoutlier_std.label_kmeans1 == 1], new_dfoutlier_std['House_Price'][new_dfoutlier_std.label_kmeans1 == 1], c='red', s=100, edgecolor='blue', linestyle='-')\n",
    "\n",
    "centers = kmeans1.cluster_centers_\n",
    "plt.scatter(centers[:,0], centers[:,1], c='black', s=100);\n",
    "plt.xlabel('Builtup')\n",
    "plt.ylabel('House_Price')\n",
    "plt.show()"
   ]
  },
  {
   "cell_type": "markdown",
   "id": "5e09721b",
   "metadata": {},
   "source": [
    "## Using the elbow method to find the optional number of clusters "
   ]
  },
  {
   "cell_type": "code",
   "execution_count": 37,
   "id": "93a765a9",
   "metadata": {},
   "outputs": [
    {
     "data": {
      "image/png": "[encoded data removed]",
      "text/plain": [
       "<Figure size 432x288 with 1 Axes>"
      ]
     },
     "metadata": {
      "needs_background": "light"
     },
     "output_type": "display_data"
    }
   ],
   "source": [
    "wcss =[]\n",
    "for i in range(1,11):\n",
    "    kmeans = KMeans(n_clusters = i,init='k-means++', random_state=42)\n",
    "    kmeans.fit(new_dfoutlier_std)\n",
    "    wcss.append(kmeans.inertia_)\n",
    "plt.plot(range(1,11), wcss)\n",
    "plt.title('The Elbow Method')\n",
    "plt.xlabel('Number of Cluster')\n",
    "plt.ylabel('WCSS')\n",
    "plt.show()"
   ]
  },
  {
   "cell_type": "markdown",
   "id": "94e255dc",
   "metadata": {},
   "source": [
    "## Training the K-Means model on the dataset "
   ]
  },
  {
   "cell_type": "code",
   "execution_count": 38,
   "id": "58e48589",
   "metadata": {},
   "outputs": [
    {
     "data": {
      "text/plain": [
       "array([3, 0, 0, 2, 2, 0, 3, 0, 0, 0, 1, 2, 2, 2, 1, 3, 3, 2, 1, 0, 2, 0,\n",
       "       1, 2, 2, 0, 3, 0, 2, 1, 3, 3, 1, 0, 1, 3, 1, 2, 0, 1, 2, 0, 1, 0,\n",
       "       0, 3, 2, 0, 0, 3, 3, 3, 1, 1, 3, 2, 1, 3, 3, 0, 3, 1, 3, 2, 3, 1,\n",
       "       2, 2, 1, 2, 3, 2, 1, 2, 0, 2, 0, 1, 1, 3, 3, 0, 1, 1, 2, 1, 0, 3,\n",
       "       1, 2, 1, 2, 3, 0, 0, 0, 0, 3, 2, 0, 3, 2, 3, 3, 3, 2, 1, 3, 1, 1,\n",
       "       0, 1, 3, 3, 2, 0, 0, 1, 2, 2, 2, 1, 1, 2, 2, 2, 1, 2, 0, 3, 0, 3,\n",
       "       3, 2, 1, 1, 0, 1, 0, 2, 0, 2, 2, 2, 3, 1, 2, 3, 0, 2, 2, 2, 1, 0,\n",
       "       0, 2, 0, 0, 3, 3, 3, 2, 0, 1, 3, 0, 0, 2, 0, 1, 3, 2, 0, 1, 0, 0,\n",
       "       1, 0, 3, 0, 2, 2, 0, 3, 3, 2, 2, 3, 0, 3, 3, 1, 0, 2, 3, 2, 1, 2,\n",
       "       1, 3, 1, 3, 2, 3, 3, 1, 3, 1, 0, 1, 1, 1, 0, 2, 2, 2, 1, 2, 2, 0,\n",
       "       1, 3, 3, 1, 2, 3, 2, 1, 1, 1, 2, 1, 0, 3, 3, 3, 3, 1, 1, 1, 0, 0,\n",
       "       0, 1, 3, 0, 1, 3, 2, 3, 1, 2, 3, 3, 1, 2, 1, 1, 2, 2, 0, 2, 2, 0,\n",
       "       2, 1, 3, 1, 3, 0, 0, 0, 1, 3, 0, 1, 0, 1, 2, 0, 2, 0, 2, 0, 2, 3,\n",
       "       2, 2, 2, 3, 0, 1, 2, 2, 0, 3, 0, 0, 2, 1, 2, 0, 1, 2, 0, 0, 2, 1,\n",
       "       0, 0, 1, 0, 3, 2, 1, 3, 1, 1, 2, 0, 3, 3, 2, 2, 3, 2, 2, 2, 1, 1,\n",
       "       0, 1, 3, 0, 1, 0, 3, 1, 2, 0, 2, 2, 2, 0, 3, 0, 2, 2, 3, 0, 0, 1,\n",
       "       1, 3, 2, 3, 3, 1, 2, 2, 3, 2, 1, 2, 1, 2, 0, 1, 1, 0, 3, 2, 0, 2,\n",
       "       2, 0, 2, 1, 1, 1, 2, 1, 1, 0, 3, 1, 0, 2, 2, 3, 1, 1, 0, 1, 2, 3,\n",
       "       2, 0, 0, 3, 2, 1, 0, 2, 0, 1, 2, 1, 1, 3, 0, 2, 2, 0, 2, 3, 3, 1,\n",
       "       0, 2, 3, 2, 3, 1, 3, 1, 0, 1, 0, 2, 0, 1, 1, 1, 0, 0, 1, 0, 0, 1,\n",
       "       1, 2, 0, 2, 0, 2, 3, 2, 2, 1, 1, 1, 1, 2, 3, 1, 0, 3, 3, 1, 2, 0,\n",
       "       3, 2, 1, 2, 1, 3, 1, 3, 1, 2, 2, 0, 1, 0, 2, 0, 1, 2, 2, 2, 2, 1,\n",
       "       2, 2, 2, 1, 1, 3, 3, 0, 1, 2, 2, 1, 0, 1, 1, 2, 0, 2, 3, 2, 2, 0,\n",
       "       1, 2, 0, 1, 2, 0, 0, 2, 0, 2, 0, 0, 0, 0, 0, 1, 2, 3, 2, 0, 3, 3,\n",
       "       0, 2, 2, 3, 1, 1, 2, 0, 2, 2, 1, 1, 2, 2, 2, 2, 2, 3, 0, 0, 0, 3,\n",
       "       3, 3, 2, 1, 1, 2, 0, 0, 0, 0, 2, 3, 0, 2, 2, 2, 0, 0, 1, 2, 1, 1,\n",
       "       0, 3, 2, 2, 0, 3, 3, 1, 1, 1, 1, 1, 2, 2, 1, 1, 0, 1, 1, 2, 2, 1,\n",
       "       0, 3, 1, 2, 2, 1, 0, 2, 3, 3, 0, 0, 3, 0, 2, 0, 3, 2, 3, 0, 0, 3,\n",
       "       0, 2, 2, 1, 0, 3, 2, 3, 1, 1, 1, 0, 1, 2, 1, 2, 2, 0, 1, 2, 2, 0,\n",
       "       1, 0, 1, 3, 1, 2, 3, 1, 0, 1, 1, 1, 1, 3, 3, 3, 2, 1, 2, 2, 2, 2,\n",
       "       2, 2, 3, 2, 1, 0, 3, 0, 3, 1, 1, 1, 2, 0, 3, 2, 3, 1, 1, 2, 2, 1,\n",
       "       1, 0, 3, 0, 0, 3, 3, 0, 1, 0, 1, 1, 0, 3, 3, 2, 0, 3, 1, 3, 2, 1,\n",
       "       2, 1, 0, 2, 3, 0, 1, 1, 0, 1, 0, 0, 3, 3, 0, 3, 1, 0, 2, 3, 3, 0,\n",
       "       0, 3, 0, 3, 1, 3, 2, 0, 2, 1, 2, 3, 1, 3, 0, 2, 2, 1, 2, 0, 2, 2,\n",
       "       0, 1, 0, 0, 1, 2, 2, 2, 3, 3, 3, 3, 1, 0, 0, 3, 0, 1, 2, 3, 0, 1,\n",
       "       0, 2, 2, 0, 0, 1, 3, 3, 1, 1, 1, 1, 0, 1, 3, 2, 0, 1, 1, 2, 1, 2,\n",
       "       3, 1, 1, 2, 1, 0, 1, 2, 0, 2, 2, 2, 0, 1, 1, 3, 0, 1, 2, 3, 2, 1,\n",
       "       0, 1, 2, 2, 0, 1, 0, 1, 1, 2, 3, 1, 0, 2, 0, 1, 3, 2, 3, 0, 1, 3,\n",
       "       1, 1, 1, 3, 3, 1, 0, 3, 2, 2, 2, 0, 0, 2, 1, 2, 0, 2, 3, 0, 0, 3,\n",
       "       0, 0, 0, 0, 0, 2, 0, 2, 3, 0, 0, 2, 0, 2, 0, 1, 2, 1, 1, 3, 3, 1,\n",
       "       0, 3, 1, 1, 0, 3, 0, 2, 0, 2, 2, 0, 2, 3, 3, 3, 1, 2, 3, 3, 0, 3,\n",
       "       2, 1, 2, 1, 3, 2, 1, 1, 2, 0, 0, 1, 3, 1, 0, 2, 3, 3, 1, 1, 1, 0,\n",
       "       3, 1, 3, 3])"
      ]
     },
     "execution_count": 38,
     "metadata": {},
     "output_type": "execute_result"
    }
   ],
   "source": [
    "kmeans2 = KMeans(n_clusters=4, init='k-means++',random_state=42).fit(dfoutlier_std)\n",
    "\n",
    "kmeans2.labels_"
   ]
  },
  {
   "cell_type": "code",
   "execution_count": 44,
   "id": "9dbc623e",
   "metadata": {},
   "outputs": [
    {
     "data": {
      "image/png": "[encoded data removed]",
      "text/plain": [
       "<Figure size 864x576 with 1 Axes>"
      ]
     },
     "metadata": {
      "needs_background": "light"
     },
     "output_type": "display_data"
    }
   ],
   "source": [
    "# kmeans = KMeans(n_clusters=3, random_state=42).fit(dfoutlier_std)\n",
    "labels2 = kmeans2.labels_\n",
    "\n",
    "new_dfoutlier_std['label_kmeans2'] = labels2\n",
    "\n",
    "plt.figure(figsize=(12,8))\n",
    "plt.scatter(new_dfoutlier_std.Builtup[new_dfoutlier_std.label_kmeans2 == 0], new_dfoutlier_std['House_Price'][new_dfoutlier_std.label_kmeans2 == 0], c='blue', s=100, edgecolor='blue', linestyle='-')\n",
    "plt.scatter(new_dfoutlier_std.Builtup[new_dfoutlier_std.label_kmeans2 == 1], new_dfoutlier_std['House_Price'][new_dfoutlier_std.label_kmeans2 == 1], c='red', s=100, edgecolor='red', linestyle='-')\n",
    "plt.scatter(new_dfoutlier_std.Builtup[new_dfoutlier_std.label_kmeans2 == 2], new_dfoutlier_std['House_Price'][new_dfoutlier_std.label_kmeans2 == 2], c='yellow', s=100, edgecolor='yellow', linestyle='-')\n",
    "plt.scatter(new_dfoutlier_std.Builtup[new_dfoutlier_std.label_kmeans2 == 3], new_dfoutlier_std['House_Price'][new_dfoutlier_std.label_kmeans2 == 3], c='green', s=100, edgecolor='green', linestyle='-')\n",
    "\n",
    "centers = kmeans2.cluster_centers_\n",
    "plt.scatter(centers[:,0], centers[:,1], c='black', s=500)\n",
    "plt.xlabel('Builtup')\n",
    "plt.ylabel('House_Price')\n",
    "plt.show()\n"
   ]
  },
  {
   "cell_type": "code",
   "execution_count": 46,
   "id": "d434591c",
   "metadata": {},
   "outputs": [
    {
     "name": "stdout",
     "output_type": "stream",
     "text": [
      "0.34186743743059866\n",
      "0.4929486730735917\n"
     ]
    }
   ],
   "source": [
    "from sklearn.metrics import silhouette_score\n",
    "\n",
    "print(silhouette_score(new_dfoutlier_std, labels=labels1))\n",
    "print(silhouette_score(new_dfoutlier_std, labels=labels2))"
   ]
  },
  {
   "cell_type": "code",
   "execution_count": null,
   "id": "93174f77",
   "metadata": {},
   "outputs": [],
   "source": []
  },
  {
   "cell_type": "code",
   "execution_count": null,
   "id": "fbb69c61",
   "metadata": {},
   "outputs": [],
   "source": []
  }
 ],
 "metadata": {
  "kernelspec": {
   "display_name": "Python 3 (ipykernel)",
   "language": "python",
   "name": "python3"
  },
  "language_info": {
   "codemirror_mode": {
    "name": "ipython",
    "version": 3
   },
   "file_extension": ".py",
   "mimetype": "text/x-python",
   "name": "python",
   "nbconvert_exporter": "python",
   "pygments_lexer": "ipython3",
   "version": "3.9.9"
  }
 },
 "nbformat": 4,
 "nbformat_minor": 5
}
