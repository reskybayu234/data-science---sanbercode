{
 "cells": [
  {
   "cell_type": "markdown",
   "metadata": {
    "id": "37V7ZOpEwt-6"
   },
   "source": [
    "<h2>Soal 1: Hello World to Python</h2>\n",
    "    \n",
    "Print Say Hello World to Python"
   ]
  },
  {
   "cell_type": "code",
   "execution_count": 2,
   "metadata": {
    "id": "YCFjxzUwrIN-"
   },
   "outputs": [
    {
     "name": "stdout",
     "output_type": "stream",
     "text": [
      "Hello World Python\n"
     ]
    }
   ],
   "source": [
    "print(\"Hello World Python\")"
   ]
  },
  {
   "cell_type": "markdown",
   "metadata": {
    "id": "fftihhaUwt_B"
   },
   "source": [
    "Expected Output : \n",
    "\n",
    "Hello World Python"
   ]
  },
  {
   "cell_type": "markdown",
   "metadata": {
    "id": "1aEipc1Swt_C"
   },
   "source": [
    "<h2>Soal 2: Aritmatika di Python </h2>\n",
    "    \n",
    "- Buat statement pertambahan antara 2 number di Python\n",
    "- Buat statement perkurangan antara 2 number di Python\n",
    "- Buat statement perkalian antara 2 number di Python\n",
    "- Buat statement pembagian antara 2 number di Python"
   ]
  },
  {
   "cell_type": "code",
   "execution_count": 4,
   "metadata": {
    "id": "hOlCjZzrwt_D"
   },
   "outputs": [
    {
     "name": "stdout",
     "output_type": "stream",
     "text": [
      "total penjumlahan :  3\n",
      "total pengurangan :  -1\n",
      "total perkalian :  2\n",
      "total pembagian :  0.5\n"
     ]
    }
   ],
   "source": [
    "a, b = 1, 2\n",
    "# buat statement pertambahan antara 2 number di Python\n",
    "totalPenjumlahan = a + b\n",
    "print(\"total penjumlahan : \", totalPenjumlahan)\n",
    "# buat statement pengurangan antara 2 number di Python\n",
    "totalPengurangan = a - b\n",
    "print(\"total pengurangan : \", totalPengurangan)\n",
    "# buat statement perkalian antara 2 number di Python\n",
    "totalPerkalian = a * b\n",
    "print(\"total perkalian : \", totalPerkalian)\n",
    "# buat statement pembagian antara 2 number diPython\n",
    "totalPembagian = a / b\n",
    "print(\"total pembagian : \", totalPembagian)"
   ]
  },
  {
   "cell_type": "markdown",
   "metadata": {
    "id": "DgUFNMtZwt_G"
   },
   "source": [
    "<h2>Quiz 3: Assign Variable dan Tipe Data Integer, Float </h2>\n",
    "\n",
    "- Buat suatu variabel a dan b, dimana a dan b adalah nilai bertipe data numeric\n",
    "- Berikan suatu nilai bertipe data integer, hasil pembagian dari a dengan b\n",
    "- Berikan suatu nilai bertipe data float, hasil pembagian dari a dengan b"
   ]
  },
  {
   "cell_type": "code",
   "execution_count": 9,
   "metadata": {
    "id": "Qf8wzMg5wt_H"
   },
   "outputs": [
    {
     "name": "stdout",
     "output_type": "stream",
     "text": [
      "3\n",
      "3.0454545454545454\n"
     ]
    }
   ],
   "source": [
    "# buat suatu variabel a dan b, dimana a dan b adallah nilai bertipe data numeric\n",
    "a = 33.5\n",
    "b = 11\n",
    "# berikan suatu nilai bertipe data integer, hasil pembagian dari a dengan b\n",
    "intPembagian = int(a/b)\n",
    "print(intPembagian)\n",
    "# berikan suatu nilai bertipe data float, hasil pembagian dari a dengan b\n",
    "floatPembagian = float(a/b)\n",
    "print(floatPembagian)"
   ]
  },
  {
   "cell_type": "markdown",
   "metadata": {
    "id": "XmjLgW7Zwt_L"
   },
   "source": [
    "<h2>Soal 4: String Operation </h2>\n",
    "\n",
    "- masukan nama depan kamu kedalam suatu variable firstname\n",
    "- masukan nama belakang kamu kedalam suatu variable lastname\n",
    "- tampilkan suatu kalimat 'Hello sanbercode, saya firstname lastname! saya siap belajar python data science dasar.'"
   ]
  },
  {
   "cell_type": "code",
   "execution_count": 10,
   "metadata": {
    "id": "lSRwZ7xXwt_M"
   },
   "outputs": [
    {
     "name": "stdout",
     "output_type": "stream",
     "text": [
      "Hello sanbercode, saya resky bayu! saya siap belajar python data science dasar.\n"
     ]
    }
   ],
   "source": [
    "firstname = \"resky\"\n",
    "lastname = \"bayu\"\n",
    "print('Hello sanbercode, saya {0} {1}! saya siap belajar python data science dasar.'.format(firstname,lastname))"
   ]
  },
  {
   "cell_type": "markdown",
   "metadata": {
    "id": "0ROQJqBXwt_Q"
   },
   "source": [
    "Expected Output :\n",
    "\n",
    "Hello sanbercode, saya Afrida Hafizhatul Ulum! saya siap belajar python data science dasar."
   ]
  },
  {
   "cell_type": "markdown",
   "metadata": {
    "id": "9DaWI8xdwt_Q"
   },
   "source": [
    "<h2>Soal 5: Tipe Data</h2>\n",
    "\n",
    "Lengkapi code di bawah ini untuk menghasilkan output yang sesuai"
   ]
  },
  {
   "cell_type": "code",
   "execution_count": 14,
   "metadata": {
    "id": "wcDbgbjTwt_R"
   },
   "outputs": [
    {
     "name": "stdout",
     "output_type": "stream",
     "text": [
      "usiaku: 26 tahun\n"
     ]
    }
   ],
   "source": [
    "usia = 26\n",
    "kata = 'usiaku: '\n",
    "print(kata + str(usia)+ \" tahun\")"
   ]
  },
  {
   "cell_type": "markdown",
   "metadata": {
    "id": "wdVRjDoLwt_V"
   },
   "source": [
    "Expected Output : (sesuai usia masing-masing)\n",
    "\n",
    "usiaku: 28 tahun"
   ]
  }
 ],
 "metadata": {
  "colab": {
   "collapsed_sections": [],
   "name": "Tugas Hari 1.ipynb",
   "provenance": []
  },
  "kernelspec": {
   "display_name": "Python 3 (ipykernel)",
   "language": "python",
   "name": "python3"
  },
  "language_info": {
   "codemirror_mode": {
    "name": "ipython",
    "version": 3
   },
   "file_extension": ".py",
   "mimetype": "text/x-python",
   "name": "python",
   "nbconvert_exporter": "python",
   "pygments_lexer": "ipython3",
   "version": "3.9.9"
  }
 },
 "nbformat": 4,
 "nbformat_minor": 1
}
