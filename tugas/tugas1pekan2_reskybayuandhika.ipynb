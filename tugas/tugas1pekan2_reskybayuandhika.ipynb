{
 "cells": [
  {
   "cell_type": "markdown",
   "metadata": {
    "id": "s6LccGLI5deK"
   },
   "source": [
    "<h2>Soal 1: Membuat Objek DataFrames</h2>\n",
    "\n",
    "- Buatlah objek dataframes dari objek dictionary, Bebas!"
   ]
  },
  {
   "cell_type": "code",
   "execution_count": 3,
   "metadata": {
    "id": "V2jNr8n-5deM"
   },
   "outputs": [
    {
     "name": "stdout",
     "output_type": "stream",
     "text": [
      "      nama  umur\n",
      "1    resky    24\n",
      "2     bayu    25\n",
      "3  andhika    26\n"
     ]
    }
   ],
   "source": [
    "# Membuat dataframes dari dictionary\n",
    "import pandas as pd\n",
    "dicti = {\n",
    "    \"nama\" : [\"resky\",\"bayu\",\"andhika\"],\n",
    "    \"umur\" : [24,25,26]\n",
    "}\n",
    "datadict = pd.DataFrame(dicti, index=[1,2,3])\n",
    "print(datadict)"
   ]
  },
  {
   "cell_type": "markdown",
   "metadata": {
    "id": "KWEFNf9B5deX"
   },
   "source": [
    "<h2>Soal 2: Membaca data dari file</h2>\n",
    "\n",
    "Download file bernama [diamonds.csv](https://drive.google.com/uc?export=download&id=1qQiM9utQUThTPq8jk8stPMh_y2zfqYOd), kemudian baca data tersebut dan assign ke dalam suatu variabel kemudian print."
   ]
  },
  {
   "cell_type": "code",
   "execution_count": 4,
   "metadata": {
    "id": "Jy2KtDNs5deZ"
   },
   "outputs": [
    {
     "name": "stdout",
     "output_type": "stream",
     "text": [
      "       Unnamed: 0  carat        cut color clarity  depth  table  price     x  \\\n",
      "0               1   0.23      Ideal     E     SI2   61.5   55.0    326  3.95   \n",
      "1               2   0.21    Premium     E     SI1   59.8   61.0    326  3.89   \n",
      "2               3   0.23       Good     E     VS1   56.9   65.0    327  4.05   \n",
      "3               4   0.29    Premium     I     VS2   62.4   58.0    334  4.20   \n",
      "4               5   0.31       Good     J     SI2   63.3   58.0    335  4.34   \n",
      "...           ...    ...        ...   ...     ...    ...    ...    ...   ...   \n",
      "53935       53936   0.72      Ideal     D     SI1   60.8   57.0   2757  5.75   \n",
      "53936       53937   0.72       Good     D     SI1   63.1   55.0   2757  5.69   \n",
      "53937       53938   0.70  Very Good     D     SI1   62.8   60.0   2757  5.66   \n",
      "53938       53939   0.86    Premium     H     SI2   61.0   58.0   2757  6.15   \n",
      "53939       53940   0.75      Ideal     D     SI2   62.2   55.0   2757  5.83   \n",
      "\n",
      "          y     z  \n",
      "0      3.98  2.43  \n",
      "1      3.84  2.31  \n",
      "2      4.07  2.31  \n",
      "3      4.23  2.63  \n",
      "4      4.35  2.75  \n",
      "...     ...   ...  \n",
      "53935  5.76  3.50  \n",
      "53936  5.75  3.61  \n",
      "53937  5.68  3.56  \n",
      "53938  6.12  3.74  \n",
      "53939  5.87  3.64  \n",
      "\n",
      "[53940 rows x 11 columns]\n"
     ]
    }
   ],
   "source": [
    "# Membaca data dan memasukannya kedalam suatu variabel\n",
    "dataFile = pd.read_csv('diamonds-1.csv')\n",
    "print(dataFile)"
   ]
  },
  {
   "cell_type": "markdown",
   "metadata": {
    "id": "1o9m_N295del"
   },
   "source": [
    "Expected Result:\n",
    "\n",
    "![alt text](https://drive.google.com/uc?id=1BvgM5mJEVfj0fllrjkBfQwn0QIFkry_t)"
   ]
  },
  {
   "cell_type": "markdown",
   "metadata": {
    "id": "LtLWF_Ot5deo"
   },
   "source": [
    "<h2>Soal 3: DataFrame vs Series</h2>\n",
    "\n",
    "- Apa perbedaan Series dengan list dan dictionary\n",
    "- Apa perbedaan dataframe dan series\n",
    "- Buatlah suatu data series"
   ]
  },
  {
   "cell_type": "markdown",
   "metadata": {
    "id": "6F2EDcPp5der"
   },
   "source": [
    "Jawab: "
   ]
  },
  {
   "cell_type": "code",
   "execution_count": 5,
   "metadata": {
    "id": "RBPrIKlZ5dev"
   },
   "outputs": [
    {
     "name": "stdout",
     "output_type": "stream",
     "text": [
      "1. apa perbedaan Series dengan list dan dictionary\n",
      "series dengan list dapat indexing dari objek tersebut\n",
      "series dengan dictionary index yang ada bisa digunakan sebagai key\n",
      "\n",
      "====================================================================================================\n",
      "\n",
      "2. apa perbedaan dataframe dan series\n",
      "dataframe objek 2 dimensi sedangkan series 1 dimensi\n",
      "struktur dan atribut dari masing2 objek\n",
      "\n",
      "====================================================================================================\n",
      "\n",
      "3. buatlah suatu data series\n",
      "0    12\n",
      "1     3\n",
      "2     4\n",
      "3    45\n",
      "dtype: int64\n"
     ]
    }
   ],
   "source": [
    "# code here\n",
    "print(\"1. apa perbedaan Series dengan list dan dictionary\")\n",
    "print(\"series dengan list dapat indexing dari objek tersebut\")\n",
    "print(\"series dengan dictionary index yang ada bisa digunakan sebagai key\")\n",
    "print(\"\")\n",
    "print(\"=\"*100)\n",
    "print(\"\")\n",
    "print(\"2. apa perbedaan dataframe dan series\")\n",
    "print(\"dataframe objek 2 dimensi sedangkan series 1 dimensi\")\n",
    "print(\"struktur dan atribut dari masing2 objek\")\n",
    "print(\"\")\n",
    "print(\"=\"*100)\n",
    "print(\"\")\n",
    "print(\"3. buatlah suatu data series\")\n",
    "datalist = [12,3,4,45]\n",
    "dataSeries = pd.Series(datalist)\n",
    "print(dataSeries)"
   ]
  },
  {
   "cell_type": "markdown",
   "metadata": {
    "id": "JNuHgN945de8"
   },
   "source": [
    "<h2>Soal 4: Pemeriksaan Data Sederhana</h2>\n",
    "\n",
    "Di soal no 2 kamu telah membaca data tentang diamonds. pada soal ini cobalah suatu metode dari pandas untuk mengetahui beberapa data pertama dan beberapa data terakhir. kemudian sebutkan nilai dari:\n",
    "- baris pertama dari column price\n",
    "- baris terakhir dari column color\n",
    "\n",
    "tunjukan cara kalian menemukan nilai tersebut di block di bawah ini."
   ]
  },
  {
   "cell_type": "code",
   "execution_count": 6,
   "metadata": {
    "id": "MRvNarxL5de-"
   },
   "outputs": [
    {
     "name": "stdout",
     "output_type": "stream",
     "text": [
      " beberapa baris data pertama\n",
      "   Unnamed: 0  carat      cut color clarity  depth  table  price     x     y  \\\n",
      "0           1   0.23    Ideal     E     SI2   61.5   55.0    326  3.95  3.98   \n",
      "1           2   0.21  Premium     E     SI1   59.8   61.0    326  3.89  3.84   \n",
      "2           3   0.23     Good     E     VS1   56.9   65.0    327  4.05  4.07   \n",
      "3           4   0.29  Premium     I     VS2   62.4   58.0    334  4.20  4.23   \n",
      "4           5   0.31     Good     J     SI2   63.3   58.0    335  4.34  4.35   \n",
      "\n",
      "      z  \n",
      "0  2.43  \n",
      "1  2.31  \n",
      "2  2.31  \n",
      "3  2.63  \n",
      "4  2.75  \n",
      "\n",
      "====================================================================================================\n",
      "\n",
      " beberapa baris data terakhir\n",
      "       Unnamed: 0  carat        cut color clarity  depth  table  price     x  \\\n",
      "53935       53936   0.72      Ideal     D     SI1   60.8   57.0   2757  5.75   \n",
      "53936       53937   0.72       Good     D     SI1   63.1   55.0   2757  5.69   \n",
      "53937       53938   0.70  Very Good     D     SI1   62.8   60.0   2757  5.66   \n",
      "53938       53939   0.86    Premium     H     SI2   61.0   58.0   2757  6.15   \n",
      "53939       53940   0.75      Ideal     D     SI2   62.2   55.0   2757  5.83   \n",
      "\n",
      "          y     z  \n",
      "53935  5.76  3.50  \n",
      "53936  5.75  3.61  \n",
      "53937  5.68  3.56  \n",
      "53938  6.12  3.74  \n",
      "53939  5.87  3.64  \n",
      "\n",
      "====================================================================================================\n",
      "\n",
      "baris pertama kolom price\n",
      "326\n",
      "\n",
      "====================================================================================================\n",
      "\n",
      "baris terakhir dari column color\n",
      "D\n"
     ]
    }
   ],
   "source": [
    "# code here\n",
    "print(\" beberapa baris data pertama\")\n",
    "headd = dataFile.head()\n",
    "print(headd)\n",
    "print(\"\")\n",
    "print(\"=\"*100)\n",
    "print(\"\")\n",
    "print(\" beberapa baris data terakhir\")\n",
    "taill = dataFile.tail()\n",
    "print(taill)\n",
    "print(\"\")\n",
    "print(\"=\"*100)\n",
    "print(\"\")\n",
    "print(\"baris pertama kolom price\")\n",
    "print(dataFile[\"price\"][0])\n",
    "print(\"\")\n",
    "print(\"=\"*100)\n",
    "print(\"\")\n",
    "print(\"baris terakhir dari column color\")\n",
    "print(dataFile[\"color\"][53939])"
   ]
  },
  {
   "cell_type": "markdown",
   "metadata": {
    "id": "q-u9QIjJ5dfK"
   },
   "source": [
    "<h2>Soal 5: Deskriptif Statistik</h2>\n",
    "\n",
    "Jelaskan apa itu deskriptis statistik!"
   ]
  },
  {
   "cell_type": "markdown",
   "metadata": {
    "id": "iKTeB5Gd5dfM"
   },
   "source": [
    "Jawab: cabang ilmu statistika yang berfokus pada pengolahan data, peringkasan data dan visualisasi data"
   ]
  },
  {
   "cell_type": "markdown",
   "metadata": {
    "id": "5SKD0rNu5dfP"
   },
   "source": [
    "<h2>Soal 6: Practice Deskriptif Statistik</h2>\n",
    "\n",
    "- Gunakan suatu metode dari pandas untuk mengetahui deskriptif statistik dari suatu data\n",
    "- Berapa nilai rata-rata dari column price\n",
    "- Berapa nilai standar deviasi dari column depth\n",
    "- Berapa nilai maximum dari column carat"
   ]
  },
  {
   "cell_type": "code",
   "execution_count": 24,
   "metadata": {
    "id": "giNtJG9Y5dfS"
   },
   "outputs": [
    {
     "name": "stdout",
     "output_type": "stream",
     "text": [
      "1. gunakan suatu metode dari pandas untuk mengetahui deskirptif statistika dari suatu data\n"
     ]
    },
    {
     "data": {
      "image/png": "[encoded data removed]",
      "text/plain": [
       "<Figure size 432x288 with 1 Axes>"
      ]
     },
     "metadata": {
      "needs_background": "light"
     },
     "output_type": "display_data"
    },
    {
     "name": "stdout",
     "output_type": "stream",
     "text": [
      "2 . Berapa nilai rata-rata dari column price\n",
      "3932.799721913237\n",
      "\n",
      "====================================================================================================\n",
      "\n",
      "3. berapa nilai standar deviasi dari column dept\n",
      "1.432621318833661\n",
      "\n",
      "====================================================================================================\n",
      "\n",
      "4. berapa nilai maximum dari column carat\n",
      "5.01\n"
     ]
    }
   ],
   "source": [
    "# code here\n",
    "import matplotlib.pyplot as plt\n",
    "print(\"1. gunakan suatu metode dari pandas untuk mengetahui deskirptif statistika dari suatu data\")\n",
    "data_price = dataFile[\"price\"]\n",
    "data_sort = sorted(data_price)\n",
    "data_baru = pd.DataFrame(data_sort)\n",
    "data_baru.plot()\n",
    "plt.show()\n",
    "\n",
    "print(\"2 . Berapa nilai rata-rata dari column price\")\n",
    "mean_dataFile = dataFile[\"price\"].mean()\n",
    "print(mean_dataFile)\n",
    "\n",
    "print(\"\")\n",
    "print(\"=\"*100)\n",
    "print(\"\")\n",
    "\n",
    "print(\"3. berapa nilai standar deviasi dari column dept\")\n",
    "std_dataFile = dataFile[\"depth\"].std()\n",
    "print(std_dataFile)\n",
    "\n",
    "print(\"\")\n",
    "print(\"=\"*100)\n",
    "print(\"\")\n",
    "\n",
    "print(\"4. berapa nilai maximum dari column carat\")\n",
    "max_dataFile = dataFile[\"carat\"].max()\n",
    "print(max_dataFile)\n"
   ]
  },
  {
   "cell_type": "markdown",
   "metadata": {
    "id": "M6miZVtG5dfd"
   },
   "source": [
    "Jawab:"
   ]
  }
 ],
 "metadata": {
  "colab": {
   "name": "Tugas Hari 1 Pekan 2.ipynb",
   "provenance": []
  },
  "kernelspec": {
   "display_name": "Python 3 (ipykernel)",
   "language": "python",
   "name": "python3"
  },
  "language_info": {
   "codemirror_mode": {
    "name": "ipython",
    "version": 3
   },
   "file_extension": ".py",
   "mimetype": "text/x-python",
   "name": "python",
   "nbconvert_exporter": "python",
   "pygments_lexer": "ipython3",
   "version": "3.9.9"
  }
 },
 "nbformat": 4,
 "nbformat_minor": 1
}
