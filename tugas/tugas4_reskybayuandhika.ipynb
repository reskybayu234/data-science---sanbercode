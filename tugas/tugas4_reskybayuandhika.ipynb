{
 "cells": [
  {
   "cell_type": "markdown",
   "metadata": {
    "id": "a9HYUdCUsrKl"
   },
   "source": [
    "<h2>Soal 1: Comparison Operator</h2>\n",
    "\n",
    "- Berikan contoh comparison dari tipe data string\n",
    "- Berikan contoh comparison dari tipe data boolean\n",
    "- Berikan contoh comparison dari tipe data integer"
   ]
  },
  {
   "cell_type": "code",
   "execution_count": 10,
   "metadata": {
    "id": "fUFkFOt0afUL",
    "scrolled": true
   },
   "outputs": [
    {
     "name": "stdout",
     "output_type": "stream",
     "text": [
      "1. Berikan contoh comparison dari tipe data string\n",
      "masukan nama : bayu\n",
      "Halo bayu\n",
      "======================================================================\n",
      "2. Berikan contoh comparison dari tipe data boolean\n",
      "masukan angka : 3\n",
      "masukan angka kedua : 1\n",
      "True\n",
      "======================================================================\n",
      "3. Berikan contoh comparison dari tipe data integer\n",
      "masukiin angka pertama : 3\n",
      "masukin angka kedua : 1\n",
      "2\n"
     ]
    }
   ],
   "source": [
    "print(\"1. Berikan contoh comparison dari tipe data string\")\n",
    "\n",
    "string = str(input(\"masukan nama : \"))\n",
    "if string == \"bayu\":\n",
    "    print(\"Halo {}\".format(string))\n",
    "else:\n",
    "    print(\"masukin lagi!\")\n",
    "    \n",
    "print(\"=\"*70)\n",
    "\n",
    "print(\"2. Berikan contoh comparison dari tipe data boolean\")\n",
    "\n",
    "boolean_a = input(\"masukan angka : \")\n",
    "boolean_b = input(\"masukan angka kedua : \")\n",
    "\n",
    "print(boolean_a > boolean_b)\n",
    "print(\"=\"*70)\n",
    "\n",
    "print(\"3. Berikan contoh comparison dari tipe data integer\")\n",
    "\n",
    "inte_1 = int(input(\"masukiin angka pertama : \"))\n",
    "inte_2 = int(input(\"masukin angka kedua : \"))\n",
    "if inte_1 <= inte_2:\n",
    "    print(inte_1 + inte_2)\n",
    "else:\n",
    "    print(inte_1 - inte_2)"
   ]
  },
  {
   "cell_type": "markdown",
   "metadata": {
    "id": "IbNoZvVssrK5"
   },
   "source": [
    "<h2>Soal 2: Boolean Comparison</h2>\n",
    "\n",
    "- Berikan contoh gabungan multiple comparison menggunkan Boolean Comparisin 'and'\n",
    "- Berikan contoh gabungan multiple comparison menggunkan Boolean Comparisin 'or'\n",
    "- Berikan contoh gabungan multiple comparison menggunkan Boolean Comparisin 'not'"
   ]
  },
  {
   "cell_type": "code",
   "execution_count": 21,
   "metadata": {
    "id": "M1mwGoegaiET"
   },
   "outputs": [
    {
     "name": "stdout",
     "output_type": "stream",
     "text": [
      "masukin angka pertama : 1\n",
      "masukin angka kedua : 2\n",
      "======================================================================\n",
      "1. Berikan contoh gabungan multiple comparison menggunakan Boolean comparison 'and'\n",
      "False\n",
      "======================================================================\n",
      "2. Berikan contoh gabungan multiple comparison menggunakan Boolenan comparison 'or'\n",
      "True\n",
      "======================================================================\n",
      "3. Berikan contoh gabungan multiple comparison menggunakan boolean comparison 'not'\n",
      "True\n"
     ]
    }
   ],
   "source": [
    "angka_pertama = int(input(\"masukin angka pertama : \"))\n",
    "angka_kedua = int(input(\"masukin angka kedua : \"))\n",
    "\n",
    "print(\"=\"*70)\n",
    "\n",
    "print(\"1. Berikan contoh gabungan multiple comparison menggunakan Boolean comparison 'and'\")\n",
    "print(angka_pertama < 5 and angka_kedua > 5)\n",
    "\n",
    "\n",
    "print(\"=\"*70)\n",
    "\n",
    "print(\"2. Berikan contoh gabungan multiple comparison menggunakan Boolenan comparison 'or'\")\n",
    "print(angka_pertama < 5 or angka_kedua > 5)\n",
    "\n",
    "print(\"=\"*70)\n",
    "\n",
    "print(\"3. Berikan contoh gabungan multiple comparison menggunakan boolean comparison 'not'\")\n",
    "print(not(angka_pertama < 5 and angka_kedua > 5))"
   ]
  },
  {
   "cell_type": "markdown",
   "metadata": {
    "id": "Y3ejsyvqhciI"
   },
   "source": [
    "\n",
    "\n",
    "---\n",
    "\n",
    "\n",
    "\n",
    "---\n",
    "\n"
   ]
  },
  {
   "cell_type": "markdown",
   "metadata": {
    "id": "Yp_g_sPMsrLH"
   },
   "source": [
    "<h2>Soal 3: If-Else Statement</h2>\n",
    "\n",
    "Lengkapi kode untuk menghasilkan suatu output yang di harapkan\n",
    "\n",
    "- Bualah sebuah if-else statement yang dimana akan mem-print 'High' jika grade adalah 'A' dan price lebih dari 100000, kemudian mem-print 'Medium' jika grade adalah 'A' dan price lebih dari 50000 dan memprint 'low' jika grade adalah 'A' dan price lebih kecil dan sama dengan 50000."
   ]
  },
  {
   "cell_type": "code",
   "execution_count": 27,
   "metadata": {
    "id": "2PPsaN50c9ew"
   },
   "outputs": [
    {
     "name": "stdout",
     "output_type": "stream",
     "text": [
      "masukan grade : b\n",
      "masukan price : 10\n",
      "gaada dipilihan\n"
     ]
    }
   ],
   "source": [
    "#code here\n",
    "grade = str(input(\"masukan grade : \"))\n",
    "price = int(input(\"masukan price : \"))\n",
    "\n",
    "if grade.upper() == 'A' and price > 100000:\n",
    "    print(\"High\")\n",
    "elif grade.upper() == 'A' and price > 50000:\n",
    "    print(\"Medium\")\n",
    "elif grade.upper() == 'A' and price <= 50000:\n",
    "    print(\"low\")\n",
    "else:\n",
    "    print(\"gaada dipilihan\")"
   ]
  },
  {
   "cell_type": "markdown",
   "metadata": {
    "id": "FkSxKlMNhfzn"
   },
   "source": [
    "\n",
    "\n",
    "---\n",
    "\n",
    "\n",
    "\n",
    "---\n",
    "\n"
   ]
  },
  {
   "cell_type": "markdown",
   "metadata": {
    "id": "IcoJXJT1srLW"
   },
   "source": [
    "# <h2>Soal 4: Comparison Operator dengan fungsi</h2>\n",
    "\n",
    "Buatlah sebuah fungsi yang menerima satu argument bertipe data numeric dan menghasilkan sebuah return sebagai berikut :\n",
    "- menghasilkan return 'Aneh' jika nilai dari argument tersebut adalah bilangan ganjil\n",
    "- menghasilkan return 'Tidak Aneh' jika nilai dari argument tersebut adalah bilangan genap dan diantara nilai 2 sampai 5 (2 dan 5 termasuk)\n",
    "- menghasilkan return 'Aneh' jika nilai dari argument tersebut adalah bilangan genap dan diantara nilai 6 sampai 20 (6 dan 20 termasuk)\n",
    "- menghasilkan return 'Tidak Aneh' jika nilai dari argument tersebut adalah bilangan genap dan lebih besari dari 20"
   ]
  },
  {
   "cell_type": "code",
   "execution_count": 64,
   "metadata": {
    "id": "oGXGd_MhdH9D"
   },
   "outputs": [
    {
     "data": {
      "text/plain": [
       "'tidak aneh'"
      ]
     },
     "execution_count": 64,
     "metadata": {},
     "output_type": "execute_result"
    }
   ],
   "source": [
    "# Buat fungsi\n",
    "def ini_fungsi(num):\n",
    "    if num <= 5 and num != 1:\n",
    "        if num%2==0:\n",
    "            return \"tidak aneh\"\n",
    "        elif num==5:\n",
    "            return \"tidak aneh\"      \n",
    "    elif num >= 6 and num%2==0 and num <=20:\n",
    "        return \"aneh\"\n",
    "    elif num%2 == 0 and num > 20:\n",
    "        return \"tidak aneh\"\n",
    "    elif num%2 == 1 and num !=5:\n",
    "        return \"Aneh\"\n",
    "        \n",
    "    \n",
    "    \n",
    "    \n",
    "ini_fungsi(int(22))"
   ]
  },
  {
   "cell_type": "markdown",
   "metadata": {
    "id": "QxKrmLcchhvf"
   },
   "source": [
    "\n",
    "\n",
    "---\n",
    "\n",
    "\n",
    "\n",
    "---\n",
    "\n"
   ]
  },
  {
   "cell_type": "markdown",
   "metadata": {
    "id": "gf0D64xOsrLl"
   },
   "source": [
    "<h2>Soal 5: While Loop dan For Loop</h2>\n",
    "\n",
    "- Apa perbedaan while loop dan for loop?\n",
    "- Berikan contoh sederhana cara menggunakan while loop dan for loop"
   ]
  },
  {
   "cell_type": "markdown",
   "metadata": {
    "id": "cSrE7RbvdXWe"
   },
   "source": [
    "jawaban perbedaan\n"
   ]
  },
  {
   "cell_type": "code",
   "execution_count": 70,
   "metadata": {
    "id": "RSf-gg-rdY35"
   },
   "outputs": [
    {
     "name": "stdout",
     "output_type": "stream",
     "text": [
      "1. Apa perbedaan while loop dan for loop\n",
      "for loop jumlah iterasi yang akan dilakukan sudah diketahui dan digunakan untuk mendapatkan hasil tertentu sedangkan pada while loop perintah dijalankan sampai kondisi tertentu tercapai dan pernyataan terbukti salah\n",
      "======================================================================\n",
      "Contoh While Loop\n",
      " \n",
      "while loop ke- 1\n",
      "while loop ke- 2\n",
      "while loop ke- 3\n",
      "while loop ke- 4\n",
      "while loop ke- 5\n",
      "while loop ke- 6\n",
      "while loop ke- 7\n",
      "while loop ke- 8\n",
      "while loop ke- 9\n",
      "while loop ke- 10\n",
      "======================================================================\n",
      "Contoh For Loop\n",
      " \n",
      "for loop ke- 1\n",
      "for loop ke- 2\n",
      "for loop ke- 3\n",
      "for loop ke- 4\n",
      "for loop ke- 5\n",
      "for loop ke- 6\n",
      "for loop ke- 7\n",
      "for loop ke- 8\n",
      "for loop ke- 9\n",
      "for loop ke- 10\n"
     ]
    }
   ],
   "source": [
    "print(\"1. Apa perbedaan while loop dan for loop\")\n",
    "print(\"for loop jumlah iterasi yang akan dilakukan sudah diketahui dan digunakan untuk mendapatkan hasil tertentu sedangkan pada while loop perintah dijalankan sampai kondisi tertentu tercapai dan pernyataan terbukti salah\")\n",
    "# jawaban contoh\n",
    "print(\"=\"*70)\n",
    "print(\"Contoh While Loop\")\n",
    "print(\" \")\n",
    "i = 0\n",
    "while i < 10:\n",
    "    print(\"while loop ke-\",i+1)\n",
    "    i += 1\n",
    "\n",
    "print(\"=\"*70)\n",
    "print(\"Contoh For Loop\")\n",
    "print(\" \")\n",
    "\n",
    "for i in range(10):\n",
    "    print(\"for loop ke-\",i+1)\n"
   ]
  },
  {
   "cell_type": "markdown",
   "metadata": {
    "id": "xJq6aaArhlDN"
   },
   "source": [
    "\n",
    "\n",
    "---\n",
    "\n",
    "\n",
    "\n",
    "---\n",
    "\n"
   ]
  },
  {
   "cell_type": "markdown",
   "metadata": {
    "id": "fZQpBGCgsrLz"
   },
   "source": [
    "<h2>Soal 6: While Loop</h2>\n",
    "    \n",
    "Buatlah sebuah code while loop sebagai berikut :\n",
    "- Buatlah suatu fungsi yang menerima satu input nilai numerik\n",
    "- Dalam fungsi, Buat sebuah while-loop dengan melakukan comparasi terhadap inputan tersebut, dimana looping/iterasi terus berjalan apabila nilai inputan tidak sama dengan 0\n",
    "- Dalam setiap iterasi update nilai variable inputan itu, jika input lebih dari 0, maka kurangi variabel tersebut sebesar 1, selain itu tambahkan 1\n",
    "- print nilai variable input dalam setiap awal iterasi"
   ]
  },
  {
   "cell_type": "code",
   "execution_count": 75,
   "metadata": {
    "id": "uc6N4UmedrU6"
   },
   "outputs": [
    {
     "name": "stdout",
     "output_type": "stream",
     "text": [
      "-10\n",
      "-9\n",
      "-8\n",
      "-7\n",
      "-6\n",
      "-5\n",
      "-4\n",
      "-3\n",
      "-2\n",
      "-1\n"
     ]
    }
   ],
   "source": [
    "a = -10\n",
    "\n",
    "def fungsi_while(angka):\n",
    "    if angka > 0:\n",
    "        while angka > 0:\n",
    "            print(angka)\n",
    "            angka -= 1\n",
    "    elif angka < 0:\n",
    "        while angka < 0:\n",
    "            print(angka)\n",
    "            angka += 1\n",
    "\n",
    "\n",
    "\n",
    "fungsi_while(a)"
   ]
  },
  {
   "cell_type": "markdown",
   "metadata": {
    "id": "lKzngRrlsrMD"
   },
   "source": [
    "Expected Output:\n",
    "\n",
    "jika a = 10                           \n",
    "\n",
    "10                                   \n",
    "9                      \n",
    "8   \n",
    "7   \n",
    "6  \n",
    "5  \n",
    "4  \n",
    "3  \n",
    "2  \n",
    "1\n",
    "\n",
    "jika a = -10\n",
    "\n",
    "-10                                   \n",
    "-9                        \n",
    "-8  \n",
    "-7  \n",
    "-6  \n",
    "-5  \n",
    "-4  \n",
    "-3  \n",
    "-2  \n",
    "-1\n"
   ]
  },
  {
   "cell_type": "markdown",
   "metadata": {
    "id": "MhdhusMnhn8L"
   },
   "source": [
    "\n",
    "\n",
    "---\n",
    "\n",
    "\n",
    "\n",
    "---\n",
    "\n"
   ]
  },
  {
   "cell_type": "markdown",
   "metadata": {
    "id": "DnAUJ4TzgmOp"
   },
   "source": [
    "<h2>Soal 7: For Loop</h2>\n",
    "\n",
    "Lengkapi kode untuk menghasilkan suatu output yang diharapkan:\n",
    "\n",
    "\n",
    "\n",
    "\n",
    "\n",
    "*   Cari siswa mana saja yang memiliki nilai lebih dari sama dengan 80. Masukkan kedalam sebuah list. print hasilnya\n",
    "\n",
    "\n",
    "\n",
    "\n"
   ]
  },
  {
   "cell_type": "code",
   "execution_count": 78,
   "metadata": {
    "id": "aeuMIX8_hGCW"
   },
   "outputs": [],
   "source": [
    "data_siswa = [\n",
    "    {\n",
    "        \"nama\":\"Budi\",\n",
    "        \"nilai\": 90\n",
    "    },\n",
    "    {\n",
    "        \"nama\":\"Nina\",\n",
    "        \"nilai\": 78\n",
    "    },\n",
    "    {\n",
    "        \"nama\":\"Rudi\",\n",
    "        \"nilai\": 91\n",
    "    },\n",
    "    {\n",
    "        \"nama\":\"Olivia\",\n",
    "        \"nilai\": 76\n",
    "    },\n",
    "    {\n",
    "        \"nama\":\"Leo\",\n",
    "        \"nilai\": 80\n",
    "    },\n",
    "    {\n",
    "        \"nama\":\"Liam\",\n",
    "        \"nilai\": 67\n",
    "    },\n",
    "    {\n",
    "        \"nama\":\"Sheila\",\n",
    "        \"nilai\": 76\n",
    "    }\n",
    "]"
   ]
  },
  {
   "cell_type": "code",
   "execution_count": 95,
   "metadata": {
    "id": "XlQsAeOchKLP"
   },
   "outputs": [
    {
     "name": "stdout",
     "output_type": "stream",
     "text": [
      "['Budi', 'Rudi', 'Leo']\n"
     ]
    }
   ],
   "source": [
    "#code here\n",
    "data_siswa_baru = []\n",
    "for i in range(len(data_siswa)):\n",
    "    if data_siswa[i][\"nilai\"] >= 80:\n",
    "        data_siswa_baru.append(data_siswa[i][\"nama\"])\n",
    "print(data_siswa_baru)\n",
    "    \n"
   ]
  },
  {
   "cell_type": "markdown",
   "metadata": {
    "id": "xIFJBG5PhL_5"
   },
   "source": [
    "Expected output:\n",
    "\n",
    "['Budi', 'Rudi', 'Leo']"
   ]
  },
  {
   "cell_type": "markdown",
   "metadata": {
    "id": "6qKCmZB0hqH9"
   },
   "source": [
    "\n",
    "\n",
    "---\n",
    "\n",
    "\n",
    "\n",
    "---\n",
    "\n"
   ]
  },
  {
   "cell_type": "markdown",
   "metadata": {
    "id": "IWg3Z_zZsrMG"
   },
   "source": [
    "<h2>Soal 8: For Loop Enumerate</h2>\n",
    "    \n",
    "Lengkapi kode untuk menghasilkan suatu output yang di harapkan:\n",
    "\n",
    "- Buatlah sebuah loop dengan mengiterasi sebuah objek list kemudian di kalikan dengan index dari list tersebut dan print hasilnya"
   ]
  },
  {
   "cell_type": "code",
   "execution_count": 98,
   "metadata": {
    "id": "wvxcRiq2gYS9"
   },
   "outputs": [
    {
     "name": "stdout",
     "output_type": "stream",
     "text": [
      "0\n",
      " \n",
      "16\n",
      " \n",
      "22\n",
      " \n",
      "30\n",
      " \n",
      "20\n",
      " \n"
     ]
    }
   ],
   "source": [
    "obj_list= [1, 16, 11, 10, 5]\n",
    "\n",
    "for x,y in enumerate(obj_list):\n",
    "    print(x*y)\n",
    "    print(\" \")\n",
    "# lengkapi code di bawah"
   ]
  },
  {
   "cell_type": "markdown",
   "metadata": {
    "id": "OGawROjnsrMU"
   },
   "source": [
    "Expected Output:\n",
    "\n",
    "0\n",
    "\n",
    "16\n",
    "\n",
    "22\n",
    "\n",
    "30\n",
    "\n",
    "20\n"
   ]
  },
  {
   "cell_type": "markdown",
   "metadata": {
    "id": "BEaVi_Z5hror"
   },
   "source": [
    "\n",
    "\n",
    "---\n",
    "\n",
    "\n",
    "\n",
    "---\n",
    "\n"
   ]
  }
 ],
 "metadata": {
  "colab": {
   "collapsed_sections": [],
   "name": " Tugas Hari 4.ipynb",
   "provenance": []
  },
  "kernelspec": {
   "display_name": "Python 3 (ipykernel)",
   "language": "python",
   "name": "python3"
  },
  "language_info": {
   "codemirror_mode": {
    "name": "ipython",
    "version": 3
   },
   "file_extension": ".py",
   "mimetype": "text/x-python",
   "name": "python",
   "nbconvert_exporter": "python",
   "pygments_lexer": "ipython3",
   "version": "3.9.9"
  }
 },
 "nbformat": 4,
 "nbformat_minor": 1
}
